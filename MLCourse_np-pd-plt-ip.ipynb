{
  "nbformat": 4,
  "nbformat_minor": 0,
  "metadata": {
    "colab": {
      "name": "MLTeaching",
      "provenance": [],
      "collapsed_sections": [
        "uKRwwtlPi9Xk",
        "tKsWBzSmAiYU",
        "dxGqxKLUIoKH",
        "93UZ77lMVwm7",
        "KmBbQZUxL_Fm",
        "KSBpZ755PgmN",
        "_BASSlVTMqMm",
        "al0Mn7tIVfCK",
        "hZFeOXWvYI0L",
        "qg4IMNplMu3N",
        "XtSLMXgcYvzh",
        "mF-jolScZzhI",
        "L-suN3f-jYzg",
        "it9F_zbnaCbY",
        "tvc7KFGpc-4o",
        "09lKiGmWT8Gp",
        "spkustijUAhx",
        "5aa90rn1UC3y",
        "nEcLeY96b12M",
        "Tit3GollnXrg",
        "1HOfibFu6con",
        "1AnRMqPFYK1b",
        "oNYXki6FkOnH",
        "Abel4jC665JO",
        "yNRoQbVM60q9",
        "X8dGWDtqYPXJ",
        "4m2GyqzIkZre",
        "un2dbMt9mG4-",
        "ErsXAjJ8N1pC",
        "pG_GpLjLYUUw",
        "96aI012h2xbN",
        "ZuY4EJMp5QjQ",
        "INuNGNIB5Wu5",
        "6DlHUPPI5tD4",
        "sejT1zT96Kdw",
        "TjoBJhcP6Z7w",
        "RII7KPzcuGKz",
        "4_k_N51nHFdw",
        "igtg7vuw1PCy",
        "PLv4IBmfXpwP",
        "-ml2_46Dpvtz",
        "bD6XNbCWlS1k",
        "OxaP75FgPvl9",
        "Ztx0JTnuXwsP",
        "zzCA6WK4IKsg",
        "NS2fTgJIuLD5",
        "rWDG0u_BuNHx",
        "LfCjqT7lQNxN",
        "JgloKM-THiaO",
        "V2EEM0ByvF37",
        "zVk9ihwkvIzr",
        "fSAvpvHPP7Pt",
        "uXQ9_8XXPZrg"
      ],
      "toc_visible": true,
      "authorship_tag": "ABX9TyPG29PwfLeah/L5HtMlS598",
      "include_colab_link": true
    },
    "kernelspec": {
      "name": "python3",
      "display_name": "Python 3"
    },
    "language_info": {
      "name": "python"
    }
  },
  "cells": [
    {
      "cell_type": "markdown",
      "metadata": {
        "id": "view-in-github",
        "colab_type": "text"
      },
      "source": [
        "<a href=\"https://colab.research.google.com/github/kis-balazs/machine-learning/blob/main/MLCourse_np-pd-plt-ip.ipynb\" target=\"_parent\"><img src=\"https://colab.research.google.com/assets/colab-badge.svg\" alt=\"Open In Colab\"/></a>"
      ]
    },
    {
      "cell_type": "code",
      "source": [
        "import os\n",
        "from pprint import pprint\n",
        "from pathlib import Path\n",
        "\n",
        "# used for parameter type declaration\n",
        "from typing import Union"
      ],
      "metadata": {
        "id": "WWAVyg2lXfLe"
      },
      "execution_count": null,
      "outputs": []
    },
    {
      "cell_type": "markdown",
      "source": [
        "---\n",
        "*Author*: Balázs Kis\n",
        "\n",
        "*Email*: balazskis@gmail.com"
      ],
      "metadata": {
        "id": "UrP2FbQxv3dZ"
      }
    },
    {
      "cell_type": "markdown",
      "source": [
        "---\n",
        "# Setup evaluation function\n",
        "\n",
        "**PLEASE DO NOT ALTER** this code, since is used for setting up the solution database together with the evaluate function.\n",
        "\n",
        "---\n",
        "\n",
        "---\n",
        "\n",
        "*We would like to give you an easy and nice evaluation process for the problems we prepared for you, and this cell is highly relevant for that task. If you change anything in the cell, please re-roll to the original version if you would like the evaluation to be correct. Otherwise we cannot account for any difference between the correct results and the results we prepared.*"
      ],
      "metadata": {
        "id": "uKRwwtlPi9Xk"
      }
    },
    {
      "cell_type": "code",
      "source": [
        "assert not Path('./le').exists(), 'Please DO NOT attempt to run this cell more than once for each runtime!'\n",
        "\n",
        "# dependencies\n",
        "%pip install cryptography --quiet\n",
        "%pip install git+https://github.com/ozgur/python-firebase --quiet\n",
        "\n",
        "# setup for the evaluation\n",
        "os.system(\"git clone -l -s https://gist.github.com/kis-balazs/872f4e35871942f3f7076bbc5626c226 le\")\n",
        "os.chdir('le')\n",
        "\n",
        "from load_evaluate import *\n",
        "\n",
        "os.chdir('..')"
      ],
      "metadata": {
        "id": "cI2V6h_0LCQG"
      },
      "execution_count": null,
      "outputs": []
    },
    {
      "cell_type": "markdown",
      "source": [
        "# Useful documentation"
      ],
      "metadata": {
        "id": "Uy7AhjU-BtwO"
      }
    },
    {
      "cell_type": "markdown",
      "source": [
        " - [Python3 Cheatsheet](https://github.com/kis-balazs/machine-learning/blob/main/res/python3_cheatsheet.pdf)\n",
        " - ..."
      ],
      "metadata": {
        "id": "n0AltYu4H0vQ"
      }
    },
    {
      "cell_type": "markdown",
      "source": [
        "---\n",
        "# **NumPy**\n",
        "\n",
        "Official reference: https://numpy.org/doc/stable/reference/index.html\n",
        "\n",
        "$\\color{#F0000C}{Hint: check \\nobreakspace documentation \\nobreakspace CONSTANTLY}$"
      ],
      "metadata": {
        "id": "tKsWBzSmAiYU"
      }
    },
    {
      "cell_type": "code",
      "source": [
        "import numpy as np\n",
        "print(np.__version__)"
      ],
      "metadata": {
        "id": "AQ754oGPAoaD"
      },
      "execution_count": null,
      "outputs": []
    },
    {
      "cell_type": "markdown",
      "source": [
        "building blocks of mostly every problem in computer science:\n",
        " - numbers\n",
        " - arrays (1D, 2D, 3D, 4D(?), ...)\n",
        " - operations & underlying mathematics\n",
        "\n",
        "*We will see that many problems in computer science can be solved using numpy, i.e. <ins>mathematics</ins> :D*"
      ],
      "metadata": {
        "id": "ACD7JJa8KHr-"
      }
    },
    {
      "cell_type": "markdown",
      "source": [
        "## 1) Python < Numpy"
      ],
      "metadata": {
        "id": "dxGqxKLUIoKH"
      }
    },
    {
      "cell_type": "markdown",
      "source": [
        "### 1.1) Python and NumPy arrays\n",
        "\n"
      ],
      "metadata": {
        "id": "93UZ77lMVwm7"
      }
    },
    {
      "cell_type": "code",
      "source": [
        "arr = [3, 4, 5, 2, 6, 1]"
      ],
      "metadata": {
        "id": "sXiLLeO4UWrV"
      },
      "execution_count": null,
      "outputs": []
    },
    {
      "cell_type": "code",
      "source": [
        "arr[0] = 3.0"
      ],
      "metadata": {
        "id": "764HonViVoRT"
      },
      "execution_count": null,
      "outputs": []
    },
    {
      "cell_type": "code",
      "source": [
        "print(type(arr))\n",
        "print(arr[0], type(arr[0]))"
      ],
      "metadata": {
        "id": "6U1GlHLHVnTU"
      },
      "execution_count": null,
      "outputs": []
    },
    {
      "cell_type": "code",
      "source": [
        "arr_np = np.array(arr)\n",
        "print(type(arr_np))\n",
        "print(arr_np[0], type(arr_np[0]))"
      ],
      "metadata": {
        "id": "Zwv9R8-eU0_9"
      },
      "execution_count": null,
      "outputs": []
    },
    {
      "cell_type": "code",
      "source": [
        "arr_np1 = np.array(arr)\n",
        "print(type(arr_np1))\n",
        "print(arr_np1[0], type(arr_np1[0]))"
      ],
      "metadata": {
        "id": "4mejslP0VBEq"
      },
      "execution_count": null,
      "outputs": []
    },
    {
      "cell_type": "code",
      "source": [
        "arr_np[0] = 4"
      ],
      "metadata": {
        "id": "HTCfv9XvVQe4"
      },
      "execution_count": null,
      "outputs": []
    },
    {
      "cell_type": "code",
      "source": [
        "print(arr_np == arr_np1)\n",
        "# unified answer?\n",
        "print((arr_np == arr_np1).all())"
      ],
      "metadata": {
        "id": "eKgpOwIFVUHD"
      },
      "execution_count": null,
      "outputs": []
    },
    {
      "cell_type": "markdown",
      "source": [
        "### 1.2) 1D"
      ],
      "metadata": {
        "id": "KmBbQZUxL_Fm"
      }
    },
    {
      "cell_type": "code",
      "source": [
        "# the above array represents the average temperature in Cairo, Egypt in the week of 20th-26th (Monday-Sunday) April 1992\n",
        "temps = [20, 20, 17, 16, 16, 17, 19]\n",
        "\n",
        "# in parallel, using numpy\n",
        "temps_np = np.array(temps)"
      ],
      "metadata": {
        "id": "iwAp33CcIjGY"
      },
      "execution_count": null,
      "outputs": []
    },
    {
      "cell_type": "code",
      "source": [
        "# compute the biggest temperature of the week\n",
        "# python\n",
        "print('Max temp (Python):', max(temps))\n",
        "# numpy\n",
        "print('Max temp (NumPy):', temps_np.max())"
      ],
      "metadata": {
        "id": "bfjme02tJpt2"
      },
      "execution_count": null,
      "outputs": []
    },
    {
      "cell_type": "code",
      "source": [
        "# compute the mean temperature of the week\n",
        "# python\n",
        "print('Max temp (Python):', sum(temps) / len(temps))\n",
        "# numpy\n",
        "print('Max temp (NumPy):', temps_np.mean())"
      ],
      "metadata": {
        "id": "XQ7-qtYuLMHv"
      },
      "execution_count": null,
      "outputs": []
    },
    {
      "cell_type": "code",
      "source": [
        "# compute the standard deviation of the temperature of the week (2 decimals)\n",
        "# Hint: https://datascienceparichay.com/wp-content/uploads/2021/09/standard-deviation-formula-768x444.png.webp\n",
        "\n",
        "# python\n",
        "mean = sum(temps) / len(temps)\n",
        "print('Max temp (Python):', (sum(pow((elem - mean), 2) for elem in temps) / len(temps)) ** .5)  # look carefully at the last operation\n",
        "# numpy\n",
        "print('Max temp (NumPy):', temps_np.std())"
      ],
      "metadata": {
        "id": "6rbywnSCLWcO"
      },
      "execution_count": null,
      "outputs": []
    },
    {
      "cell_type": "markdown",
      "source": [
        "#### Problems"
      ],
      "metadata": {
        "id": "KSBpZ755PgmN"
      }
    },
    {
      "cell_type": "code",
      "source": [
        "# ######\n",
        "# Problem 1:\n",
        "# We have an ndarray given below.\n",
        "# What is the index of the smallest value in the array?\n",
        "# ######\n",
        "arr = np.array([-1, 0, -1, -2, -2, 2, 3, -3, 1])\n",
        "solution = # YOUR CODE HERE\n",
        "evaluate(problem_id='numpy/1D/p1', submitted_solution=solution)"
      ],
      "metadata": {
        "id": "EFuJTqOhN5f9"
      },
      "execution_count": null,
      "outputs": []
    },
    {
      "cell_type": "code",
      "source": [
        "# ######\n",
        "# Problem 2:\n",
        "# We have an ndarray given below.\n",
        "# What is the sum of the of positive values in the array?\n",
        "# ######\n",
        "arr = np.array([-1, 0, -1, -2, -2, 2, 3, -3, 1])\n",
        "solution = # YOUR CODE HERE\n",
        "evaluate(problem_id='numpy/1D/p2', submitted_solution=solution)"
      ],
      "metadata": {
        "id": "RdJqqR2OPU6V"
      },
      "execution_count": null,
      "outputs": []
    },
    {
      "cell_type": "code",
      "source": [
        "# ######\n",
        "# Problem 3:\n",
        "# We have an ndarray given below.\n",
        "# What is the sum of values in the array, after rounding to 2 decimals? Hint: result is float!\n",
        "# ######\n",
        "arr = np.array([3.57042396, 8.35559273, 0.7621579 , 3.53006476,\n",
        "                0.98356653, 7.66801256, 3.32831346, 4.70137415])\n",
        "solution = # YOUR CODE HERE\n",
        "evaluate(problem_id='numpy/1D/p3', submitted_solution=solution)"
      ],
      "metadata": {
        "id": "I_i7SRRVTOhs"
      },
      "execution_count": null,
      "outputs": []
    },
    {
      "cell_type": "markdown",
      "source": [
        "### 1.3) 2(+)D"
      ],
      "metadata": {
        "id": "_BASSlVTMqMm"
      }
    },
    {
      "cell_type": "markdown",
      "source": [
        " - **2D**: two-dimensional array (i.e. matrix)\n",
        " - 3D: three-dimensional array\n",
        " - 4D: four-dimensional array\n",
        " - ...\n",
        "\n",
        "*Observation*: 3+ dimensional arrays are called dimensionality-wise, i.e. n-dimensional arrays, or **tensors** as we will see in the near future."
      ],
      "metadata": {
        "id": "fJvrZVHoWDmz"
      }
    },
    {
      "cell_type": "code",
      "source": [
        "# build the I3 (identity) matrix; try I4, I5, ... In;\n",
        "# Important notation: When n is known from context, the identity matrix is written as I.\n",
        "n = 3\n",
        "# python\n",
        "print('I{} (Python):\\n'.format(n), [[1 if j == i else 0 for j in range(0, n)] for i in range(0, n)])\n",
        "# numpy\n",
        "print('I{} (NumPy):\\n'.format(n), np.identity(n))  # eye?"
      ],
      "metadata": {
        "id": "PbDmxIyzMuB9"
      },
      "execution_count": null,
      "outputs": []
    },
    {
      "cell_type": "markdown",
      "source": [
        "---"
      ],
      "metadata": {
        "id": "OiaVbdd1RNog"
      }
    },
    {
      "cell_type": "code",
      "source": [
        "# given a 2x2 matrix of arbitrary values, compute it's determinant\n",
        "A = [\n",
        "     [5, 2],\n",
        "     [4, 0.5]\n",
        "]\n",
        "# python\n",
        "print('Determinant (Python):', A[0][0] * A[1][1] - A[0][1] * A[1][0])  # Sarrus rule\n",
        "# numpy\n",
        "print('Determinant (NumPy):', np.linalg.det(np.array(A)))  # linalg?"
      ],
      "metadata": {
        "id": "ZRHnVdCAFrI3"
      },
      "execution_count": null,
      "outputs": []
    },
    {
      "cell_type": "code",
      "source": [
        "# given a 3x3 matrix of arbitrary values , compute it's determinant\n",
        "A = [\n",
        "     [5, 2, 3],\n",
        "     [4, 0.5, 1.7],\n",
        "     [-2, 6, 3]\n",
        "]\n",
        "# python\n",
        "from functools import reduce \n",
        "\n",
        "def derive_comp(A, _j, n):\n",
        "    component_array = [A[(cnt) % n][(cnt + _j) % n] for cnt in range(0, n)]\n",
        "    return reduce((lambda a, b: a*b), component_array) \n",
        "\n",
        "# Sarrus rule 3x3\n",
        "def det(A, n):\n",
        "    pos_comps = [derive_comp(A, _j, n) for _j in range(0, n)]\n",
        "    neg_comps = [derive_comp(A[::-1], _j, n) for _j in range(0, n)]\n",
        "\n",
        "    return sum(pos_comps) - sum(neg_comps)\n",
        "\n",
        "\n",
        "print('Determinant (Python):', det(A, 3))\n",
        "# numpy\n",
        "print('Determinant (NumPy):', np.linalg.det(np.array(A)))  # linalg?"
      ],
      "metadata": {
        "id": "DE15CrNFGpEu"
      },
      "execution_count": null,
      "outputs": []
    },
    {
      "cell_type": "code",
      "source": [
        "# given a 4x4 matrix of arbitrary values , compute it's determinant\n",
        "A = [\n",
        "     [5, 2, 3, 1],\n",
        "     [4, 0.5, 1.7, -2],\n",
        "     [-2, 6, 3, 1],\n",
        "     [-1, 1, -1, 1]\n",
        "]\n",
        "# python\n",
        "# BAD NEWS: https://www.quora.com/Can-the-Sarrus-rule-be-applied-to-4x4-determinants?share=1\n",
        "# perhaps use Laplace rule / Gaussian elimination\n",
        "print('Determinant (Python): ???')\n",
        "# numpy\n",
        "print('Determinant (NumPy):', np.linalg.det(np.array(A)))  # linalg?"
      ],
      "metadata": {
        "id": "hIBkHDgAQpD7"
      },
      "execution_count": null,
      "outputs": []
    },
    {
      "cell_type": "markdown",
      "source": [
        "---"
      ],
      "metadata": {
        "id": "KsimpIypRLVx"
      }
    },
    {
      "cell_type": "code",
      "source": [
        "# given a 2x2 matrix of arbitrary values, compute it's inverse\n",
        "n = 2\n",
        "A = [\n",
        "     [5, 2],\n",
        "     [4, 0.5]\n",
        "]\n",
        "# python\n",
        "\n",
        "def inv2x2(A):\n",
        "    det_a = 1.0 / (A[0][0] * A[1][1] - A[0][1] * A[1][0])\n",
        "    adjugate = [\n",
        "        [A[1][1], -A[0][1]],\n",
        "        [-A[1][0], A[0][0]]\n",
        "    ]\n",
        "    return [[det_a * adjugate[i][j] for j in range(0, n)] for i in range(0, n)]\n",
        "\n",
        "print('Inverse (Python):\\n', inv2x2(A))\n",
        "# numpy\n",
        "print('Inverse (NumPy):\\n', np.linalg.inv(np.array(A)))  # linalg?"
      ],
      "metadata": {
        "id": "8cPV-f3WQ87S"
      },
      "execution_count": null,
      "outputs": []
    },
    {
      "cell_type": "code",
      "source": [
        "# 3x3 inverse: already gets quite complicated to compute adjugate using Python, Numpy just scales :D"
      ],
      "metadata": {
        "id": "n-RIC_ODVMVB"
      },
      "execution_count": null,
      "outputs": []
    },
    {
      "cell_type": "markdown",
      "source": [
        "#### Problems"
      ],
      "metadata": {
        "id": "al0Mn7tIVfCK"
      }
    },
    {
      "cell_type": "code",
      "source": [
        "# ######\n",
        "# Problem 1:\n",
        "# We have a 2D ndarray given below.\n",
        "# What is the inverse of the matrix?\n",
        "# ######\n",
        "A = np.array([[1, 3], [2, 6]])\n",
        "solution = # YOUR CODE HERE\n",
        "evaluate(problem_id='numpy/2D/p1', submitted_solution=solution)"
      ],
      "metadata": {
        "id": "Wh-gIA5RVhKo"
      },
      "execution_count": null,
      "outputs": []
    },
    {
      "cell_type": "code",
      "source": [
        "# ######\n",
        "# Problem 2:\n",
        "# We have a 4x4 2D ndarray given below.\n",
        "# What is the determinant of the (matrix multiplied by it's inverse)?\n",
        "# Hint1: np.dot() (inner product)s\n",
        "# Hint2: round result matrix to int!\n",
        "# ######\n",
        "A = np.array([[5, 2, 3, 1], [4, 0.5, 1.7, -2], [-2, 6, 3, 1], [-1, 1, -1, 1]])\n",
        "solution = # YOUR CODE HERE\n",
        "evaluate(problem_id='numpy/2D/p2', submitted_solution=solution)"
      ],
      "metadata": {
        "id": "UNF4jkWgWW9K"
      },
      "execution_count": null,
      "outputs": []
    },
    {
      "cell_type": "code",
      "source": [
        "# ######\n",
        "# Problem 3:\n",
        "# Formalise the previous problem as mathematical equation using the following notation:\n",
        "# Inverse of a matrix: A^-1\n",
        "# Dot (inner) product between two matrices: A dot B\n",
        "# ######\n",
        "solution = # YOUR CODE HERE\n",
        "evaluate(problem_id='numpy/2D/p3', submitted_solution=solution)"
      ],
      "metadata": {
        "id": "wDqYU1LW3PRO"
      },
      "execution_count": null,
      "outputs": []
    },
    {
      "cell_type": "markdown",
      "source": [
        "### 4) Conclusion"
      ],
      "metadata": {
        "id": "hZFeOXWvYI0L"
      }
    },
    {
      "cell_type": "markdown",
      "source": [
        "I think a fine conclusion can be drawn that even when dealing with such simplistic problems, numpy is a way better solution than pure python, in arrays of **any dimensions**."
      ],
      "metadata": {
        "id": "16NDaMYyX8r8"
      }
    },
    {
      "cell_type": "markdown",
      "source": [
        "In the upcomings we will see more *complex functions*, and use-cases for numpy which represent better the real power of numpy in an immense variety of computer science-related mathematics:\n",
        " - $\\color{#20b2aa}{signal \\nobreakspace processing}$ (1D, 2D (images), etc.)\n",
        " - $\\color{#00ff00}{linear \\nobreakspace algebra}$\n",
        " - $\\color{#ffbf00}{analytical \\nobreakspace geometry}$\n",
        " - ..."
      ],
      "metadata": {
        "id": "U18HrF4qYMET"
      }
    },
    {
      "cell_type": "markdown",
      "source": [
        "$\\color{#F0000C}{In \\nobreakspace the \\nobreakspace upcomings \\nobreakspace pay \\nobreakspace extra \\nobreakspace attention \\nobreakspace to \\nobreakspace how \\nobreakspace numpy \\nobreakspace handles \\nobreakspace \\textbf{dimensions}.}$"
      ],
      "metadata": {
        "id": "2m8MjwAiegNf"
      }
    },
    {
      "cell_type": "markdown",
      "source": [
        "## 2) NumPy in computer science"
      ],
      "metadata": {
        "id": "qg4IMNplMu3N"
      }
    },
    {
      "cell_type": "markdown",
      "source": [
        "### 2.1) NumPy ndarray operations"
      ],
      "metadata": {
        "id": "XtSLMXgcYvzh"
      }
    },
    {
      "cell_type": "markdown",
      "source": [
        "#### 2.1.1) 1D ndarray"
      ],
      "metadata": {
        "id": "mF-jolScZzhI"
      }
    },
    {
      "cell_type": "code",
      "source": [
        "# create an ndarray of 0s\n",
        "print(np.zeros(4))"
      ],
      "metadata": {
        "id": "JmjeYaA_dIvT"
      },
      "execution_count": null,
      "outputs": []
    },
    {
      "cell_type": "code",
      "source": [
        "# create an ndarray of random numbers (in range [0, 1))\n",
        "print(np.random.random(4))"
      ],
      "metadata": {
        "id": "U-bU0Hz-dNrK"
      },
      "execution_count": null,
      "outputs": []
    },
    {
      "cell_type": "code",
      "source": [
        "# create an ndarray with values in a range\n",
        "print(np.arange(10, 20, step=1))"
      ],
      "metadata": {
        "id": "hZ4Q8LDKkKZW"
      },
      "execution_count": null,
      "outputs": []
    },
    {
      "cell_type": "code",
      "source": [
        "# sort an ndarray of random values in ascending order\n",
        "print(np.sort(np.random.random(3)))\n",
        "\n",
        "# descending?\n",
        "print(np.sort(np.random.random(3))[::-1])"
      ],
      "metadata": {
        "id": "NdcAv_LEi0EJ"
      },
      "execution_count": null,
      "outputs": []
    },
    {
      "cell_type": "markdown",
      "source": [
        "---"
      ],
      "metadata": {
        "id": "tVdJakHLdJEA"
      }
    },
    {
      "cell_type": "code",
      "source": [
        "# two arrays of 5 values\n",
        "arr1 = np.array([1, 2, 3, 4, 5])\n",
        "arr2 = np.array([-1, 3, -2, 4, -7])"
      ],
      "metadata": {
        "id": "JDE_Mk1KM0pe"
      },
      "execution_count": null,
      "outputs": []
    },
    {
      "cell_type": "code",
      "source": [
        "print(arr1)  # shape?"
      ],
      "metadata": {
        "id": "r6l_sXemV-Cq"
      },
      "execution_count": null,
      "outputs": []
    },
    {
      "cell_type": "code",
      "source": [
        "print(arr2)"
      ],
      "metadata": {
        "id": "OZ2J3S9jV9Md"
      },
      "execution_count": null,
      "outputs": []
    },
    {
      "cell_type": "code",
      "source": [
        "# access elements in the 1d ndarray:\n",
        "print(arr2[0])"
      ],
      "metadata": {
        "id": "auyn-z9Gfhvn"
      },
      "execution_count": null,
      "outputs": []
    },
    {
      "cell_type": "markdown",
      "source": [
        "###### W/ constants"
      ],
      "metadata": {
        "id": "L-suN3f-jYzg"
      }
    },
    {
      "cell_type": "code",
      "source": [
        "# add/sub of a constant\n",
        "print(arr1 + 2)\n",
        "print(arr2 - .7)"
      ],
      "metadata": {
        "id": "_AQsAsAfZEz4"
      },
      "execution_count": null,
      "outputs": []
    },
    {
      "cell_type": "code",
      "source": [
        "# mult/div with a constant - automatic float?\n",
        "print(arr1 * 1.5)\n",
        "print(arr2 / 3)"
      ],
      "metadata": {
        "id": "YH9CDC4SaBu4"
      },
      "execution_count": null,
      "outputs": []
    },
    {
      "cell_type": "code",
      "source": [
        "# append constant to ndarray\n",
        "print(np.append(arr1, -1))"
      ],
      "metadata": {
        "id": "8GWfx8N5diyw"
      },
      "execution_count": null,
      "outputs": []
    },
    {
      "cell_type": "markdown",
      "source": [
        "---\n",
        "###### W/ 1D ndarrays"
      ],
      "metadata": {
        "id": "it9F_zbnaCbY"
      }
    },
    {
      "cell_type": "code",
      "source": [
        "# add/sub\n",
        "print(arr1 + arr2)  # np.add() | np.append(arr2, 1)\n",
        "print(arr1 - arr2)  # np.subtract()\n",
        "print(arr2 - arr1)"
      ],
      "metadata": {
        "id": "4S3XvVhnZI9n"
      },
      "execution_count": null,
      "outputs": []
    },
    {
      "cell_type": "code",
      "source": [
        "# mult/div \n",
        "print(arr1 * arr2)\n",
        "print(arr1 / arr2)"
      ],
      "metadata": {
        "id": "gxh_wO8_Z-B6"
      },
      "execution_count": null,
      "outputs": []
    },
    {
      "cell_type": "code",
      "source": [
        "# append array to array\n",
        "print(np.append(arr1, arr2))"
      ],
      "metadata": {
        "id": "ummJ91PGeEeX"
      },
      "execution_count": null,
      "outputs": []
    },
    {
      "cell_type": "markdown",
      "source": [
        "---\n",
        "###### Relevant functions"
      ],
      "metadata": {
        "id": "tvc7KFGpc-4o"
      }
    },
    {
      "cell_type": "code",
      "source": [
        "# transpose\n",
        "print(arr2)\n",
        "\n",
        "print(arr2.T)  # no difference? why?"
      ],
      "metadata": {
        "id": "eEZPwxRcYvRZ"
      },
      "execution_count": null,
      "outputs": []
    },
    {
      "cell_type": "code",
      "source": [
        "# norm of a ndarray - distance from origin (outer product)\n",
        "print(np.linalg.norm(arr1))"
      ],
      "metadata": {
        "id": "pwe6GpoWahOQ"
      },
      "execution_count": null,
      "outputs": []
    },
    {
      "cell_type": "code",
      "source": [
        "# dot product (inner product)\n",
        "print(np.dot(arr1, arr2))\n",
        "\n",
        "# print(arr1 @ arr2)"
      ],
      "metadata": {
        "id": "3_9qwGAHaHRo"
      },
      "execution_count": null,
      "outputs": []
    },
    {
      "cell_type": "markdown",
      "source": [
        "What are **norm and dot product** good for? quite a lot actually!\n",
        "\n",
        "[$\\color{#00ff00}{linear \\nobreakspace algebra}$/$\\color{#ffbf00}{analytical \\nobreakspace geometry}$] Computing the angle between two vectors"
      ],
      "metadata": {
        "id": "v0eGRrLxc1U_"
      }
    },
    {
      "cell_type": "code",
      "source": [
        "# ndarrays representing points in n dimensions\n",
        "v1 = [1, 6, 5]\n",
        "v2 = [4, 4, 5]\n",
        "\n",
        "angle = np.arccos(np.dot(v1, v2) / (np.linalg.norm(v1) * np.linalg.norm(v2)))  # radian!\n",
        "print('Angle between v1 and v2:', np.rad2deg(angle))"
      ],
      "metadata": {
        "id": "w9ZJfrt6auhp"
      },
      "execution_count": null,
      "outputs": []
    },
    {
      "cell_type": "code",
      "source": [
        "# 2D\n",
        "assert(len(v1) == 2)\n",
        "assert(len(v2) == 2)\n",
        "\n",
        "import matplotlib.pyplot as plt\n",
        "\n",
        "plt.plot([0, v1[0]], [0, v1[1]], color='blue')\n",
        "plt.plot([0, v2[0]], [0, v2[1]], color='red')\n",
        "plt.show()"
      ],
      "metadata": {
        "id": "tVKHF3hacFWx"
      },
      "execution_count": null,
      "outputs": []
    },
    {
      "cell_type": "code",
      "source": [
        "# 3D\n",
        "assert(len(v1) == 3)\n",
        "assert(len(v2) == 3)\n",
        "\n",
        "import matplotlib.pyplot as plt\n",
        "\n",
        "fig = plt.figure()\n",
        "ax = plt.axes(projection=\"3d\")\n",
        "ax.plot3D([0, v1[1]], [0, v1[2]], [0, v1[2]], color='blue')\n",
        "ax.plot3D([0, v2[1]], [0, v2[2]], [0, v2[2]], color='red')\n",
        "plt.show()"
      ],
      "metadata": {
        "id": "b_QHc_MSgmeX"
      },
      "execution_count": null,
      "outputs": []
    },
    {
      "cell_type": "markdown",
      "source": [
        "#### 2.1.2) 2D ndarray"
      ],
      "metadata": {
        "id": "41J-YlStibru"
      }
    },
    {
      "cell_type": "code",
      "source": [
        "# create an 2x2 2d ndarray of 0s\n",
        "print(np.zeros(4).reshape((2, 2)))\n",
        "\n",
        "print(np.zeros((2, 2)))  # shape"
      ],
      "metadata": {
        "id": "TfvNdGws6c04"
      },
      "execution_count": null,
      "outputs": []
    },
    {
      "cell_type": "code",
      "source": [
        "# create an 2d ndarray of random numbers (in range [0, 1))\n",
        "# how can we construct shapes? (row, col) !\n",
        "arr = np.random.random(6)\n",
        "# arr = arr.reshape(2, 3)\n",
        "# arr = np.resize(arr, (3, 2))\n",
        "print(arr)\n",
        "\n",
        "# print(arr.reshape(2, 2))"
      ],
      "metadata": {
        "id": "jedtl4OU6c04"
      },
      "execution_count": null,
      "outputs": []
    },
    {
      "cell_type": "code",
      "source": [
        "# create a 3x3 2d ndarray of random values without reshaping a 1d ndarray\n",
        "print(np.random.random((3, 3)))"
      ],
      "metadata": {
        "id": "3Pgtyf_GTzr0"
      },
      "execution_count": null,
      "outputs": []
    },
    {
      "cell_type": "code",
      "source": [
        "# create an ndarray with values in a range\n",
        "print(np.arange(10, 20, step=1).reshape((2, 5)))  # alternatives?"
      ],
      "metadata": {
        "id": "RigEQz_y6c04"
      },
      "execution_count": null,
      "outputs": []
    },
    {
      "cell_type": "markdown",
      "source": [
        "---"
      ],
      "metadata": {
        "id": "IZsIOtJmUehj"
      }
    },
    {
      "cell_type": "code",
      "source": [
        "# two matrices of uniform values betwen (-1, 1)  ! check documentation!\n",
        "mat1 = np.random.uniform(-1, 1, size=(3, 2))\n",
        "mat2 = np.random.uniform(-1, 1, size=(2, 2))"
      ],
      "metadata": {
        "id": "cwpb6llrUOQU"
      },
      "execution_count": null,
      "outputs": []
    },
    {
      "cell_type": "code",
      "source": [
        "print(mat1)\n",
        "print(mat1.shape)"
      ],
      "metadata": {
        "id": "AmXL7qFZWA-7"
      },
      "execution_count": null,
      "outputs": []
    },
    {
      "cell_type": "code",
      "source": [
        "print(mat2)\n",
        "print(mat2.shape)"
      ],
      "metadata": {
        "id": "R8UOncT5WBOI"
      },
      "execution_count": null,
      "outputs": []
    },
    {
      "cell_type": "code",
      "source": [
        "# access elements in the 2d ndarray:\n",
        "print(mat1[0])\n",
        "i, j = 1, 1\n",
        "print(mat1[i][j])\n",
        "print(mat1[i, j])"
      ],
      "metadata": {
        "id": "nPK31SRzfRKC"
      },
      "execution_count": null,
      "outputs": []
    },
    {
      "cell_type": "markdown",
      "source": [
        "##### W/ constants"
      ],
      "metadata": {
        "id": "09lKiGmWT8Gp"
      }
    },
    {
      "cell_type": "code",
      "source": [
        "# add/sub of a constant\n",
        "print(mat1 + 2)\n",
        "print(mat2 - .7)"
      ],
      "metadata": {
        "id": "lAyShWCpUNj8"
      },
      "execution_count": null,
      "outputs": []
    },
    {
      "cell_type": "code",
      "source": [
        "# mult/div with a constant - automatic float?\n",
        "print(mat2 * 1.5)\n",
        "print(mat1 / 3)"
      ],
      "metadata": {
        "id": "R2P3ezAZUNj9"
      },
      "execution_count": null,
      "outputs": []
    },
    {
      "cell_type": "code",
      "source": [
        "# append constant to ndarray\n",
        "_mat = np.append(mat1, -1)\n",
        "print(_mat)  # what???\n",
        "print(_mat.shape)"
      ],
      "metadata": {
        "id": "sxN8vOMsUNj9"
      },
      "execution_count": null,
      "outputs": []
    },
    {
      "cell_type": "markdown",
      "source": [
        "##### W/ 1D arrays"
      ],
      "metadata": {
        "id": "spkustijUAhx"
      }
    },
    {
      "cell_type": "code",
      "source": [
        "# add/sub\n",
        "print(mat1 + np.array([-1, 1]))  # np.add()\n",
        "print(mat2 - np.array([1, 1]))  # np.subtract()"
      ],
      "metadata": {
        "id": "lCDKVktDWLEt"
      },
      "execution_count": null,
      "outputs": []
    },
    {
      "cell_type": "code",
      "source": [
        "# mult/div \n",
        "print(mat2 * np.array([-1, 1]))\n",
        "print(mat1 / np.array([.5, .25]))"
      ],
      "metadata": {
        "id": "rF8wBI0rWLEt"
      },
      "execution_count": null,
      "outputs": []
    },
    {
      "cell_type": "code",
      "source": [
        "# append array to array\n",
        "_mat = np.append(mat1, np.array([5, 5]))\n",
        "print(_mat)\n",
        "\n",
        "# print(_mat.reshape(?, ?))"
      ],
      "metadata": {
        "id": "P8sjpeV1WLEt"
      },
      "execution_count": null,
      "outputs": []
    },
    {
      "cell_type": "markdown",
      "source": [
        "##### W/ 2D arrays"
      ],
      "metadata": {
        "id": "5aa90rn1UC3y"
      }
    },
    {
      "cell_type": "code",
      "source": [
        "# add/sub\n",
        "print(mat1 + mat2)  # np.add()\n",
        "print(mat2 - mat1)  # np.subtract()"
      ],
      "metadata": {
        "id": "jKpXRsjSdKNK"
      },
      "execution_count": null,
      "outputs": []
    },
    {
      "cell_type": "code",
      "source": [
        "# mult/div \n",
        "print(mat2 * mat1)\n",
        "print(mat1 / np.eye(3))"
      ],
      "metadata": {
        "id": "HvM-A38DdKNK"
      },
      "execution_count": null,
      "outputs": []
    },
    {
      "cell_type": "code",
      "source": [
        "# append array to array\n",
        "_mat = np.append(mat1, mat2)\n",
        "print(_mat)\n",
        "\n",
        "# print(_mat.reshape(?, ?))"
      ],
      "metadata": {
        "id": "TWPwsEafdKNL"
      },
      "execution_count": null,
      "outputs": []
    },
    {
      "cell_type": "markdown",
      "source": [
        "##### Relevant functions"
      ],
      "metadata": {
        "id": "ezdOcG0LY5qT"
      }
    },
    {
      "cell_type": "code",
      "source": [
        "# transpose\n",
        "print(mat1)\n",
        "print()\n",
        "print(mat1.T)  # huh"
      ],
      "metadata": {
        "id": "0mwiJbBPY8qI"
      },
      "execution_count": null,
      "outputs": []
    },
    {
      "cell_type": "code",
      "source": [
        "# norm of a ndarray - distance from origin\n",
        "print(np.linalg.norm(mat2))  # what are we computing here exactly?\n",
        "\n",
        "# print(np.linalg.norm(mat2.reshape(4, 1)))\n",
        "\n",
        "# Does this make sense?"
      ],
      "metadata": {
        "id": "RRQ_sWlSZEUb"
      },
      "execution_count": null,
      "outputs": []
    },
    {
      "cell_type": "code",
      "source": [
        "# dot product with 1d ndarray\n",
        "mat1 = np.arange(6).reshape(3, 2)\n",
        "arr1 = np.array([1, 1])\n",
        "\n",
        "print(mat1, '\\n\\n', arr1, '\\n\\nDot:')\n",
        "print(mat1 @ arr1) # rule?"
      ],
      "metadata": {
        "id": "yjfLTVbZcJXI"
      },
      "execution_count": null,
      "outputs": []
    },
    {
      "cell_type": "code",
      "source": [
        "# dot product with 2d array\n",
        "mat1 = np.arange(6).reshape(3, 2)\n",
        "mat2 = np.eye(2).reshape(2, 2)\n",
        "# mat2[[0, 1]] = mat2[[1, 0]]  # what did I do here?\n",
        "print(mat1, '\\n\\n', mat2, '\\n\\nDot:')\n",
        "\n",
        "_dot = np.dot(mat1, mat2)\n",
        "print(_dot.shape)  # rule?\n",
        "# print(_dot)\n",
        "\n",
        "# print(mat1 @ mat2)"
      ],
      "metadata": {
        "id": "9p3pZbJkZd1b"
      },
      "execution_count": null,
      "outputs": []
    },
    {
      "cell_type": "code",
      "source": [
        "# interchange rows/columns in a matrix\n",
        "mat1 = np.random.random((3, 3))\n",
        "print(mat1)\n",
        "\n",
        "print('\\nInterchange rows:')\n",
        "rmat = mat1[[2, 1, 0]]\n",
        "print(rmat)\n",
        "\n",
        "print('\\nInterchange columns:')\n",
        "cmat = mat1[:][[1, 2, 0]]\n",
        "# cmat = mat1[:, [1, 2, 0]]\n",
        "print(cmat)"
      ],
      "metadata": {
        "id": "OSELAUXhdnyJ"
      },
      "execution_count": null,
      "outputs": []
    },
    {
      "cell_type": "markdown",
      "source": [
        "#### 2.1.3) 3(+)D ndarray\n",
        "\n",
        "So-called [tensors](https://en.wikipedia.org/wiki/Tensor) or higher dimensional matrices.\n",
        "\n",
        "*In theory*: everything is a tensor, but \"missing\" a couple dimensions :)"
      ],
      "metadata": {
        "id": "JowGnnqcnBqO"
      }
    },
    {
      "cell_type": "code",
      "source": [
        "# create a 3x3x3 3d ndarray\n",
        "arr1 = np.random.randint(0, 5, size=(3, 3, 2))\n",
        "print(arr1)\n",
        "\n",
        "print(arr1[0])  # [0]..."
      ],
      "metadata": {
        "id": "ak23i5jlYCsX"
      },
      "execution_count": null,
      "outputs": []
    },
    {
      "cell_type": "code",
      "source": [
        "# create a 4x4x3x2 4d ndarray\n",
        "arr1 = np.random.randint(0, 5, size=(4, 4, 3, 2))\n",
        "print(arr1)\n",
        "\n",
        "print(arr1[0])  # [0]..."
      ],
      "metadata": {
        "id": "bk7pkkNkYjVU"
      },
      "execution_count": null,
      "outputs": []
    },
    {
      "cell_type": "markdown",
      "source": [
        "Can this go to \"infinity\"?\n",
        "\n",
        "**Careful at size parameter, and how size is defined for any other data structure!**"
      ],
      "metadata": {
        "id": "LJSHDk_ui3tX"
      }
    },
    {
      "cell_type": "markdown",
      "source": [
        "---\n",
        "##### Apply known functions/operations on tensors"
      ],
      "metadata": {
        "id": "H1eJKKxzaAaN"
      }
    },
    {
      "cell_type": "code",
      "source": [
        "arr2 = np.random.randint(-5, 5, size=(2, 2, 2))\n",
        "print(arr2.max())"
      ],
      "metadata": {
        "id": "S_p1l6ToZrn2"
      },
      "execution_count": null,
      "outputs": []
    },
    {
      "cell_type": "code",
      "source": [
        "print(np.linalg.inv(arr2))  # we will have to believe them..."
      ],
      "metadata": {
        "id": "K6IelGHEZ_0V"
      },
      "execution_count": null,
      "outputs": []
    },
    {
      "cell_type": "code",
      "source": [
        "res = np.dot(arr1, arr2)\n",
        "print(res.shape)"
      ],
      "metadata": {
        "id": "Cv3n6Qppami0"
      },
      "execution_count": null,
      "outputs": []
    },
    {
      "cell_type": "code",
      "source": [
        "res = arr1 * arr2  # np.random.randint(0, 5, size=(?))\n",
        "print(res.shape)"
      ],
      "metadata": {
        "id": "crjti3isa4T0"
      },
      "execution_count": null,
      "outputs": []
    },
    {
      "cell_type": "code",
      "source": [
        "res = arr1 * np.random.randint(0, 3, size=3)\n",
        "print(res.shape)"
      ],
      "metadata": {
        "id": "E7sQW_qMbgYV"
      },
      "execution_count": null,
      "outputs": []
    },
    {
      "cell_type": "code",
      "source": [
        "# let's try some together!"
      ],
      "metadata": {
        "id": "f5PgsIb2dF5D"
      },
      "execution_count": null,
      "outputs": []
    },
    {
      "cell_type": "markdown",
      "source": [
        "##### Why are tensors **useful**?"
      ],
      "metadata": {
        "id": "nEcLeY96b12M"
      }
    },
    {
      "cell_type": "markdown",
      "source": [
        "Classify an image: use a NxN pixel image and feed it through a network, get label (e.g. cat/dog).\n",
        "\n",
        "* Modern machine learning frameworks allow us to \"stack\" multiple \n",
        "images in **batches** i.e. store multiple images and create, using a batch size of 32, tensors of shape (32xNxN).\n",
        "\n",
        "* These tensors are fed through the network, and using the highly optimized an parallelized GPUs (Graphical Processing Units, initially developed for video outputs, but highly utilized in machine learning) the networks can load all 32 images (of size 64x64) in the network and produce 32 labels **at once**.\n",
        "\n",
        "* Using batches there are some more mathematical aspects which are inhanced such as a more \"smooth\" loss computation, but we will get to that later!"
      ],
      "metadata": {
        "id": "13EMOiyggGYm"
      }
    },
    {
      "cell_type": "markdown",
      "source": [
        "---\n",
        "Let's understand why using batches is useful with a very simple example.\n",
        "\n",
        "[!!!] Please note, this is a very theoretical proof, and we are trying only to make you understand the practicality of the batches, i.e. tensors in machine learning!\n",
        "\n",
        "In practice the speed-up of executing depends on GPU specifications and size, even though neural networks are [*embarrassingly* parallel](https://en.wikipedia.org/wiki/Embarrassingly_parallel)."
      ],
      "metadata": {
        "id": "_uvyS6Xwg51S"
      }
    },
    {
      "cell_type": "code",
      "source": [
        "# let's assume that a neural network NN is taking an image, and takes 10ns (1e-5s) *per pixel* to produce a label\n",
        "\n",
        "def network_timing(input: np.ndarray, batch_size: int = 1) -> None:\n",
        "    NN = lambda x: np.prod(input.shape) * 1e-5\n",
        "    comp_time = NN(input)\n",
        "    if len(input.shape) == 3:\n",
        "         comp_time /= batch_size\n",
        "    print('To process an image NN takes {} seconds'.format(comp_time))"
      ],
      "metadata": {
        "id": "bo71Ul1vgw-U"
      },
      "execution_count": null,
      "outputs": []
    },
    {
      "cell_type": "code",
      "source": [
        "# create an image, pixel values are NOT important, only the size\n",
        "img = np.random.random(size=(16, 16))\n",
        "network_timing(img)"
      ],
      "metadata": {
        "id": "GrsEHQItiMwj"
      },
      "execution_count": null,
      "outputs": []
    },
    {
      "cell_type": "markdown",
      "source": [
        "---\n",
        "Create a set of images (16x16), used to run through the network, of size 10.000:"
      ],
      "metadata": {
        "id": "1mEJK2qAnOcc"
      }
    },
    {
      "cell_type": "code",
      "source": [
        "img_set = np.random.random(size=(10_000, 16, 16))  # careful at order!"
      ],
      "metadata": {
        "id": "h1yQv8P_ij3L"
      },
      "execution_count": null,
      "outputs": []
    },
    {
      "cell_type": "code",
      "source": [
        "print(img_set[0].shape)"
      ],
      "metadata": {
        "id": "62RJhKMvlEDb"
      },
      "execution_count": null,
      "outputs": []
    },
    {
      "cell_type": "code",
      "source": [
        "network_timing(img_set)"
      ],
      "metadata": {
        "id": "QrDtzxPKjUIq"
      },
      "execution_count": null,
      "outputs": []
    },
    {
      "cell_type": "markdown",
      "source": [
        "---\n",
        "Let's use a real-time example in which 200_000 images of shape 64x64 are loaded in the network:"
      ],
      "metadata": {
        "id": "JS8AerbMnH2k"
      }
    },
    {
      "cell_type": "code",
      "source": [
        "del img_set_large"
      ],
      "metadata": {
        "id": "10HYPxnfnG9S"
      },
      "execution_count": null,
      "outputs": []
    },
    {
      "cell_type": "code",
      "source": [
        "img_set_large = np.random.random(size=(200_000, 64, 64))"
      ],
      "metadata": {
        "id": "_ESDRU_Mj5nN"
      },
      "execution_count": null,
      "outputs": []
    },
    {
      "cell_type": "code",
      "source": [
        "print(img_set_large[0].shape)"
      ],
      "metadata": {
        "id": "GQyzMxzxlFR7"
      },
      "execution_count": null,
      "outputs": []
    },
    {
      "cell_type": "code",
      "source": [
        "# let's see how much memory does the large image set take\n",
        "print('{} Mb'.format(img_set_large.size * img_set_large.itemsize / 1024 ** 2))"
      ],
      "metadata": {
        "id": "cw9doN7alISS"
      },
      "execution_count": null,
      "outputs": []
    },
    {
      "cell_type": "code",
      "source": [
        "network_timing(img_set_large)"
      ],
      "metadata": {
        "id": "KpZxHrcYkT6x"
      },
      "execution_count": null,
      "outputs": []
    },
    {
      "cell_type": "markdown",
      "source": [
        "---\n",
        "Let's utilize our GPU which can process 32 images in parallel at once!"
      ],
      "metadata": {
        "id": "C1L-GXCtlyny"
      }
    },
    {
      "cell_type": "code",
      "source": [
        "network_timing(img, batch_size=32)  # no effect?"
      ],
      "metadata": {
        "id": "S-z0Q9yXlyRi"
      },
      "execution_count": null,
      "outputs": []
    },
    {
      "cell_type": "code",
      "source": [
        "network_timing(img_set, batch_size=32)"
      ],
      "metadata": {
        "id": "_ZXPyChhnYt8"
      },
      "execution_count": null,
      "outputs": []
    },
    {
      "cell_type": "code",
      "source": [
        "network_timing(img_set_large, batch_size=32)"
      ],
      "metadata": {
        "id": "Q2kS2lvhncWi"
      },
      "execution_count": null,
      "outputs": []
    },
    {
      "cell_type": "markdown",
      "source": [
        "In real-life GPUs support a much larger number of batches, and there are multiple dependencies such as RAM (GPU uses pre-loaded data, so the data has to fit in the RAM) and many other details. [Further reading](https://stackoverflow.com/questions/45132809/how-to-select-batch-size-automatically-to-fit-gpu).\n",
        "\n",
        "Let's just experiment with larger batch sizes :)"
      ],
      "metadata": {
        "id": "jwrCUTbFn4z7"
      }
    },
    {
      "cell_type": "code",
      "source": [
        "network_timing(img_set_large, batch_size=512)"
      ],
      "metadata": {
        "id": "2PgfOmdqoKb7"
      },
      "execution_count": null,
      "outputs": []
    },
    {
      "cell_type": "markdown",
      "source": [
        "[(Optional) Why deep learning uses GPUs?](https://towardsdatascience.com/why-deep-learning-uses-gpus-c61b399e93a0)"
      ],
      "metadata": {
        "id": "2HANYnP_zSaz"
      }
    },
    {
      "cell_type": "markdown",
      "source": [
        "### 2.2) NumPy \"everywhere\""
      ],
      "metadata": {
        "id": "Tit3GollnXrg"
      }
    },
    {
      "cell_type": "markdown",
      "source": [
        "#### Linear equations\n",
        "\n",
        "[$\\color{#00ff00}{linear \\nobreakspace algebra}$] Classical problem of solving n-unknown/n-equation problems."
      ],
      "metadata": {
        "id": "1HOfibFu6con"
      }
    },
    {
      "cell_type": "markdown",
      "source": [
        "Solve the following problem using numpy:\n",
        "\n",
        "![](https://i.pinimg.com/474x/68/1d/b4/681db4a743b93089bf6fab5f01a4eb61.jpg)"
      ],
      "metadata": {
        "id": "ZQny4S9y8fUn"
      }
    },
    {
      "cell_type": "code",
      "source": [
        "fruits = [\n",
        "    [3, 0, 0],\n",
        "    [1, 4, 0],\n",
        "    [1, 3, 1]\n",
        "]\n",
        "\n",
        "results = [120, 100, 105]"
      ],
      "metadata": {
        "id": "b7NSACpp6b4h"
      },
      "execution_count": null,
      "outputs": []
    },
    {
      "cell_type": "code",
      "source": [
        "fruit_prices = np.linalg.solve(fruits, results)"
      ],
      "metadata": {
        "id": "AuHWNtOR8x95"
      },
      "execution_count": null,
      "outputs": []
    },
    {
      "cell_type": "code",
      "source": [
        "print('apple = {}; banana = {}; plum = {}'.format(fruit_prices[0], fruit_prices[1], fruit_prices[2]))"
      ],
      "metadata": {
        "id": "Gs0nZr3j83Vh"
      },
      "execution_count": null,
      "outputs": []
    },
    {
      "cell_type": "code",
      "source": [
        "print('Solution to question: {}'.format(fruit_prices[1] + fruit_prices[2]))"
      ],
      "metadata": {
        "id": "VgKwkC2A9vgQ"
      },
      "execution_count": null,
      "outputs": []
    },
    {
      "cell_type": "markdown",
      "source": [
        "#### Normalization\n",
        "\n",
        "Used in mostly every field such as machine learning, but also statistics, linear algebra, etc."
      ],
      "metadata": {
        "id": "1AnRMqPFYK1b"
      }
    },
    {
      "cell_type": "code",
      "source": [
        "# normalize ndarray: what does that mean?\n",
        "# https://en.wikipedia.org/wiki/Normalization_(statistics)\n",
        "\n",
        "m = np.random.randint(1, 10, size=(5, 5))\n",
        "print(m)\n",
        "\n",
        "print(m.mean())"
      ],
      "metadata": {
        "id": "SccG6bTifKm_"
      },
      "execution_count": null,
      "outputs": []
    },
    {
      "cell_type": "code",
      "source": [
        "# solution: standard normalization (x-mean/stddev)\n",
        "stdM = (m - m.mean()) / m.std()\n",
        "print(stdM)  # range of values?"
      ],
      "metadata": {
        "id": "n6j0r7kpbcOT"
      },
      "execution_count": null,
      "outputs": []
    },
    {
      "cell_type": "code",
      "source": [
        "# alternative: min-max normalization (x-min/max-min)\n",
        "divident = m.max() - m.min()\n",
        "minMaxM = (m - m.min()) / divident\n",
        "print(minMaxM)  # range of values?"
      ],
      "metadata": {
        "id": "N1K8J3MZbd9q"
      },
      "execution_count": null,
      "outputs": []
    },
    {
      "cell_type": "markdown",
      "source": [
        "In practice we are going to use a more generic library for handling such (and not only) preprocessing tasks:\n",
        "  - [StandardScaler](https://scikit-learn.org/stable/modules/generated/sklearn.preprocessing.StandardScaler.html)\n",
        "  - [MinMaxScaler](https://scikit-learn.org/stable/modules/generated/sklearn.preprocessing.MinMaxScaler.html) "
      ],
      "metadata": {
        "id": "Y9iEgReXcqHJ"
      }
    },
    {
      "cell_type": "markdown",
      "source": [
        "#### Peak detection\n",
        "\n",
        "[$\\color{#20b2aa}{signal \\nobreakspace processing}$] Given an ndarray containing values from a signal (e.g. temperature, number of people crossing in front of a sensor on a street, stocks, etc.), find local maximum/minimum points, so-called peaks."
      ],
      "metadata": {
        "id": "oNYXki6FkOnH"
      }
    },
    {
      "cell_type": "markdown",
      "source": [
        "Yearly temperature anomalies since 1880:"
      ],
      "metadata": {
        "id": "caqEiSA5qkij"
      }
    },
    {
      "cell_type": "code",
      "source": [
        "import pandas as pd\n",
        "import matplotlib.pyplot as plt"
      ],
      "metadata": {
        "id": "yI7DSVhSrX3T"
      },
      "execution_count": null,
      "outputs": []
    },
    {
      "cell_type": "code",
      "source": [
        "gt = pd.read_csv(r'https://datahub.io/core/global-temp/r/0.csv').iloc[::2, :][['Year', 'Mean']][::-1]\n",
        "\n",
        "y = np.array(gt['Year'])\n",
        "# mean temperature\n",
        "mt = np.array(gt['Mean'])\n",
        "del gt"
      ],
      "metadata": {
        "id": "dlojEjwWkfuy"
      },
      "execution_count": null,
      "outputs": []
    },
    {
      "cell_type": "code",
      "source": [
        "plt.plot(y, mt)\n",
        "plt.title('Mean temperature anomalies over years')\n",
        "plt.show()"
      ],
      "metadata": {
        "id": "PKvj1qVHqL4C"
      },
      "execution_count": null,
      "outputs": []
    },
    {
      "cell_type": "code",
      "source": [
        "idx = 100\n",
        "print('At year {}, mean temperature was: {}'.format(y[idx], mt[idx]))"
      ],
      "metadata": {
        "id": "cIu7yq4yrk-V"
      },
      "execution_count": null,
      "outputs": []
    },
    {
      "cell_type": "code",
      "source": [
        "# utility function\n",
        "def plot_peaks(peaks): \n",
        "    try:\n",
        "        peak_values = peaks.nonzero()[0]\n",
        "    except:\n",
        "        peak_values = peaks\n",
        "\n",
        "    # align the labels to the years\n",
        "    _peaks = [p + y.min() for p in peak_values]\n",
        "\n",
        "    plt.plot(y, mt)\n",
        "    plt.plot(_peaks, mt[peaks], 'ro')\n",
        "    plt.title('Local peaks in mean temp anomalies')\n",
        "    plt.show()"
      ],
      "metadata": {
        "id": "4cfVVnq37kCO"
      },
      "execution_count": null,
      "outputs": []
    },
    {
      "cell_type": "markdown",
      "source": [
        "##### NumPy solution"
      ],
      "metadata": {
        "id": "Abel4jC665JO"
      }
    },
    {
      "cell_type": "code",
      "source": [
        "def peak_detection(signal: np.ndarray, w_size: np.int64 = 1):\n",
        "    peaks = [True] * len(signal)  # because of the logical AND\n",
        "    for step in np.arange(1, w_size + 1):\n",
        "        # fwd\n",
        "        peaks &= (signal > np.roll(signal, step))\n",
        "        # bwd\n",
        "        peaks &= (signal > np.roll(signal, -step))\n",
        "    return peaks"
      ],
      "metadata": {
        "id": "_jKdFhkkuHFS"
      },
      "execution_count": null,
      "outputs": []
    },
    {
      "cell_type": "code",
      "source": [
        "peaks = peak_detection(mt, w_size=1)\n",
        "plot_peaks(peaks)"
      ],
      "metadata": {
        "id": "dmVELCTTudSS"
      },
      "execution_count": null,
      "outputs": []
    },
    {
      "cell_type": "markdown",
      "source": [
        "##### Alternative method: scipy"
      ],
      "metadata": {
        "id": "yNRoQbVM60q9"
      }
    },
    {
      "cell_type": "code",
      "source": [
        "from scipy.signal import find_peaks\n",
        "\n",
        "peaks_scipy = list(find_peaks(mt, distance=10)[0])\n",
        "plot_peaks(peaks_scipy)"
      ],
      "metadata": {
        "id": "KIX059jV6zWW"
      },
      "execution_count": null,
      "outputs": []
    },
    {
      "cell_type": "markdown",
      "source": [
        "#### Rotation matrices\n",
        "\n",
        "[$\\color{#ffbf00}{analytical \\nobreakspace geometry}$] 2/3 dimensional rotation matrices.\n",
        "\n",
        "Examples of how rotations are used in robotics. [Link](https://en.wikipedia.org/wiki/Rotation_matrix)"
      ],
      "metadata": {
        "id": "X8dGWDtqYPXJ"
      }
    },
    {
      "cell_type": "code",
      "source": [
        "a2r = lambda angle: angle * np.pi / 180.0\n",
        "r2a = lambda radian: radian * 180.0 / np.pi"
      ],
      "metadata": {
        "id": "yyAMQGEZncR-"
      },
      "execution_count": null,
      "outputs": []
    },
    {
      "cell_type": "markdown",
      "source": [
        "###### 2D"
      ],
      "metadata": {
        "id": "4m2GyqzIkZre"
      }
    },
    {
      "cell_type": "code",
      "source": [
        "v2d = [1, 1]"
      ],
      "metadata": {
        "id": "kp5wegv2fFzw"
      },
      "execution_count": null,
      "outputs": []
    },
    {
      "cell_type": "code",
      "source": [
        "angle = a2r(30)  # radian!\n",
        "\n",
        "rot_matrix = [\n",
        "    [np.cos(angle), -np.sin(angle)],\n",
        "    [np.sin(angle), np.cos(angle)]\n",
        "]\n",
        "\n",
        "_v2d = np.dot(rot_matrix, v2d)"
      ],
      "metadata": {
        "id": "Mg_aGolDke0o"
      },
      "execution_count": null,
      "outputs": []
    },
    {
      "cell_type": "code",
      "source": [
        "print(_v2d)"
      ],
      "metadata": {
        "id": "DzxLeF9ipVKO"
      },
      "execution_count": null,
      "outputs": []
    },
    {
      "cell_type": "code",
      "source": [
        "assert(len(v2d) == 2)\n",
        "assert(len(_v2d) == 2)\n",
        "\n",
        "import matplotlib.pyplot as plt\n",
        "\n",
        "plt.plot([0, v2d[0]], [0, v2d[1]], color='blue')\n",
        "plt.plot([0, _v2d[0]], [0, _v2d[1]], color='red')\n",
        "plt.show()"
      ],
      "metadata": {
        "id": "XVKMZBsTkYkw"
      },
      "execution_count": null,
      "outputs": []
    },
    {
      "cell_type": "code",
      "source": [
        "angle = np.arccos(np.dot(v2d, _v2d) / (np.linalg.norm(v2d) * np.linalg.norm(_v2d)))  # radian!\n",
        "print('Angle between v2d and _v2d:', r2a(angle))"
      ],
      "metadata": {
        "id": "iOQnQQKQlmma"
      },
      "execution_count": null,
      "outputs": []
    },
    {
      "cell_type": "markdown",
      "source": [
        "###### 3D"
      ],
      "metadata": {
        "id": "un2dbMt9mG4-"
      }
    },
    {
      "cell_type": "code",
      "source": [
        "v3d = [1, 1, 1]"
      ],
      "metadata": {
        "id": "mKZLyEmMfG4M"
      },
      "execution_count": null,
      "outputs": []
    },
    {
      "cell_type": "code",
      "source": [
        "# radian!\n",
        "angleX = a2r(30)\n",
        "angleY = a2r(0)\n",
        "angleZ = a2r(30)\n",
        "\n",
        "#\n",
        "rotX_matrix = [\n",
        "    [1,             0,                 0],\n",
        "    [0, np.cos(angleX),  -np.sin(angleX)],\n",
        "    [0, np.sin(angleX),   np.cos(angleX)]\n",
        "]\n",
        "\n",
        "rotY_matrix = [\n",
        "    [np.cos(angleY),    0,  np.sin(angleY)],\n",
        "    [0,                 1,               0],\n",
        "    [-np.sin(angleY),   0,  np.cos(angleY)]\n",
        "]\n",
        "\n",
        "rotZ_matrix = [\n",
        "    [np.cos(angleZ), -np.sin(angleZ),   0],\n",
        "    [np.sin(angleZ),  np.cos(angleZ),   0],\n",
        "    [0,               0,                1]\n",
        "]\n",
        "\n",
        "# Rz(Ry(Rx(p)))\n",
        "_v3d = np.dot(rotZ_matrix, np.dot(rotY_matrix, np.dot(rotX_matrix, v3d)))"
      ],
      "metadata": {
        "id": "JneKd8BkmYkZ"
      },
      "execution_count": null,
      "outputs": []
    },
    {
      "cell_type": "code",
      "source": [
        "print(_v3d)"
      ],
      "metadata": {
        "id": "KeNTSq3OpSg2"
      },
      "execution_count": null,
      "outputs": []
    },
    {
      "cell_type": "code",
      "source": [
        "assert(len(v3d) == 3)\n",
        "assert(len(_v3d) == 3)\n",
        "\n",
        "import matplotlib.pyplot as plt\n",
        "\n",
        "fig = plt.figure()\n",
        "ax = plt.axes(projection=\"3d\")\n",
        "ax.plot3D([0, v3d[1]], [0, v3d[2]], [0, v3d[2]], color='blue')\n",
        "ax.plot3D([0, _v3d[1]], [0, _v3d[2]], [0, _v3d[2]], color='red')\n",
        "plt.show()"
      ],
      "metadata": {
        "id": "99OSMX70mZO_"
      },
      "execution_count": null,
      "outputs": []
    },
    {
      "cell_type": "code",
      "source": [
        "angle = np.arccos(np.dot(v3d, _v3d) / (np.linalg.norm(v3d) * np.linalg.norm(_v3d)))  # radian!\n",
        "print('Angle between v3d and _v3d:', r2a(angle))"
      ],
      "metadata": {
        "id": "fdH8W8Zhm733"
      },
      "execution_count": null,
      "outputs": []
    },
    {
      "cell_type": "markdown",
      "source": [
        "#### Intro to NN\n",
        "\n",
        "[$\\color{#00ff00}{linear \\nobreakspace algebra}$] Rosenblatt’s perceptron, the first modern neural network. \n",
        "\n",
        "Adapted after original code, **Using only NumPy!**\n",
        "\n",
        "[Source](https://towardsdatascience.com/rosenblatts-perceptron-the-very-first-neural-network-37a3ec09038a)"
      ],
      "metadata": {
        "id": "ErsXAjJ8N1pC"
      }
    },
    {
      "cell_type": "code",
      "source": [
        "# Problem: using a bunch of randomly generated ndarrays of length 5, train a *neuron* so that\n",
        "# it classifies correctly based on a mathematical condition.\n",
        "\n",
        "n = 5\n",
        "test_size = 100_000\n",
        "\n",
        "\n",
        "def gen_set(size, function):\n",
        "    ndarrays = [np.random.uniform(-1, 1, n) for _ in range(0, size)]\n",
        "    return [(ndarr, function(ndarr)) for ndarr in ndarrays]\n",
        "\n",
        "\n",
        "# create the training & testing set as a list of (array, sum_of_array)\n",
        "# fct = lambda x: x.sum() > 0\n",
        "fct = lambda x: x[0] < x[1:].sum()\n",
        "# fct = isPrime(), perfectNumber() ???? nonlinear functions?\n",
        "train_set = gen_set(\n",
        "    size=test_size,\n",
        "    function=fct\n",
        ")\n",
        "test_set = gen_set(\n",
        "    size=100,\n",
        "    function=fct\n",
        ")\n",
        "print(train_set[0])"
      ],
      "metadata": {
        "id": "U5_DcGQa8eoV"
      },
      "execution_count": null,
      "outputs": []
    },
    {
      "cell_type": "code",
      "source": [
        "node_weights = np.random.uniform(-1, 1, n)\n",
        "node_bias = 0.0\n",
        "\n",
        "def train_node(input: tuple, weights: np.ndarray, bias: np.float64):\n",
        "    y = np.dot(input[0], weights) > bias\n",
        "    if y != input[1]:\n",
        "        if y:\n",
        "            weights -= input[0]\n",
        "            # bias -= 1\n",
        "        else:\n",
        "            weights += input[0]\n",
        "            # bias += 1\n",
        "    return weights, bias\n",
        "\n",
        "def classify_input(input_arr: np.ndarray, weights: np.ndarray, bias: np.float64) -> bool:\n",
        "    return np.dot(input_arr, weights) > bias\n",
        "\n",
        "# training loop\n",
        "print('! training... ', end='')\n",
        "for i, input in enumerate(train_set):\n",
        "    if i % (test_size // 10) == 0:\n",
        "        print(i, end=' ')\n",
        "    node_weights, node_bias = train_node(input, node_weights, node_bias)"
      ],
      "metadata": {
        "id": "MGFhko89GS3b"
      },
      "execution_count": null,
      "outputs": []
    },
    {
      "cell_type": "code",
      "source": [
        "# check how many percent correct\n",
        "correct = 0\n",
        "for ta in test_set:\n",
        "    if classify_input(ta[0], node_weights, node_bias) == ta[1]:\n",
        "        correct += 1\n",
        "print('Classifier correct: {}%'.format(correct))"
      ],
      "metadata": {
        "id": "udlXb-GxH9JK"
      },
      "execution_count": null,
      "outputs": []
    },
    {
      "cell_type": "code",
      "source": [
        "# check for one input\n",
        "test_array = test_set[np.random.randint(0, 100)]\n",
        "print('> test array:', test_array[0], ' (sum:', test_array[0].sum(), '\\b)\\n\\tfulfills condition?', test_array[1])\n",
        "print('\\n> Classifier prediction:', classify_input(test_array[0], node_weights, node_bias))"
      ],
      "metadata": {
        "id": "A8D8WpmlDKDw"
      },
      "execution_count": null,
      "outputs": []
    },
    {
      "cell_type": "markdown",
      "source": [
        "**Discussion**: why is this NN? is NN this simple? but what happens if we want more? what more?\n",
        "\n",
        "![](https://miro.medium.com/max/1400/1*ofVdu6L3BDbHyt1Ro8w07Q.png)\n",
        "\n",
        "Source: https://towardsdatascience.com/rosenblatts-perceptron-the-very-first-neural-network-37a3ec09038a"
      ],
      "metadata": {
        "id": "pAMgQJ2LOPnk"
      }
    },
    {
      "cell_type": "markdown",
      "source": [
        "### 2.3) Problems"
      ],
      "metadata": {
        "id": "pG_GpLjLYUUw"
      }
    },
    {
      "cell_type": "code",
      "source": [
        "# ######\n",
        "# Problem 1:\n",
        "# We have an ndarray given below.\n",
        "# What is the size of the biggest 2D square matrix that can be constructed, assuming that we cannot append any value to it?\n",
        "# Note: Elements can be deleted if needed.\n",
        "# ######\n",
        "arr = np.array([-1, 0, -1, -2, -2, 2, 3, -3, 1, -1, 1])\n",
        "solution = # YOUR CODE HERE\n",
        "evaluate(problem_id='numpy/pbs/p1', submitted_solution=solution)"
      ],
      "metadata": {
        "id": "MEZIWngCYXDx"
      },
      "execution_count": null,
      "outputs": []
    },
    {
      "cell_type": "code",
      "source": [
        "# ######\n",
        "# Problem 2:\n",
        "# We have an ndarray given below.\n",
        "# Open the numpy docs and find the function which returns the index of the biggest element in the ndarray.\n",
        "# ######\n",
        "arr = np.array([-1, 0, -1, -2, -2, 2, -3, 3, 1, -1, 1])\n",
        "solution = # YOUR CODE HERE\n",
        "evaluate(problem_id='numpy/pbs/p2', submitted_solution=solution)"
      ],
      "metadata": {
        "id": "I7q7ByYd19lp"
      },
      "execution_count": null,
      "outputs": []
    },
    {
      "cell_type": "code",
      "source": [
        "# ######\n",
        "# Problem 3:\n",
        "# We have an ndarray given below.\n",
        "# What is the product of the indices where the array's value is -2?\n",
        "# Hint: np.where()\n",
        "# ######\n",
        "arr = np.array([-1, 0, -1, -2, -2, 2, -3, 3, 1, -1, 1])\n",
        "solution = # YOUR CODE HERE\n",
        "evaluate(problem_id='numpy/pbs/p3', submitted_solution=solution)"
      ],
      "metadata": {
        "id": "qNygks_k2v65"
      },
      "execution_count": null,
      "outputs": []
    },
    {
      "cell_type": "code",
      "source": [
        "# ######\n",
        "# Problem 4:\n",
        "# We have a 2D ndarray given below.\n",
        "# What is largest length of an ndarray with which the matrix can be multiplied successfully?\n",
        "# ######\n",
        "arr = np.random.randint(0, 5, size=(6, 4))\n",
        "solution = # YOUR CODE HERE\n",
        "evaluate(problem_id='numpy/pbs/p4', submitted_solution=solution)"
      ],
      "metadata": {
        "id": "Lom60WkX3gBG"
      },
      "execution_count": null,
      "outputs": []
    },
    {
      "cell_type": "code",
      "source": [
        "# ######\n",
        "# Problem 5:\n",
        "# Formalise the previous (for 2D ndarrays) problem answering the question:\n",
        "# What is the generic rule for 2D ndarray multiplication of matrix (NxM)?\n",
        "# Hint: use # for does not matter. 2D ndarrays are of shape (#x#) generally.\n",
        "# ######\n",
        "solution = # YOUR CODE HERE\n",
        "evaluate(problem_id='numpy/pbs/p5', submitted_solution=solution)"
      ],
      "metadata": {
        "id": "PmNAd7jG4sdw"
      },
      "execution_count": null,
      "outputs": []
    },
    {
      "cell_type": "code",
      "source": [
        "# ######\n",
        "# Problem 6:\n",
        "# We have a 2D ndarray given below.\n",
        "# Provide an 1D ndarray and using it sum the elements of the 2D ndarray row by row. How much is the mean of the 1D ndarray?\n",
        "# ######\n",
        "arr = np.array([[1, 3], [2, 2], [2, 4]])\n",
        "summer = # YOUR CODE HERE\n",
        "print(np.dot(arr, summer).reshape(3, 1))\n",
        "solution = summer.mean()\n",
        "evaluate(problem_id='numpy/pbs/p6', submitted_solution=solution)"
      ],
      "metadata": {
        "id": "ysN-WKYC-Nrn"
      },
      "execution_count": null,
      "outputs": []
    },
    {
      "cell_type": "code",
      "source": [
        "# ######\n",
        "# Problem 7:\n",
        "# Create an ndarray of 9 equidistant values in [0, 3]. How much is the product of the elements of the ndarray?\n",
        "# ######\n",
        "solution = # YOUR CODE HERE\n",
        "evaluate(problem_id='numpy/pbs/p7', submitted_solution=solution)"
      ],
      "metadata": {
        "id": "O-uaqPX_Cb82"
      },
      "execution_count": null,
      "outputs": []
    },
    {
      "cell_type": "code",
      "source": [
        "# ######\n",
        "# Problem 8:\n",
        "# We have the 2D ndarray given below.\n",
        "# Compute the dot product between the two matrices created by cumulatively summing along rows & columns of the ndarray.\n",
        "# What is the value at index M[0][2]?\n",
        "# ######\n",
        "arr = np.array([[1, 2, 3], [0, 0, 1], [1, 3, 0]])\n",
        "solution = # YOUR CODE HERE\n",
        "evaluate(problem_id='numpy/pbs/p8', submitted_solution=solution)"
      ],
      "metadata": {
        "id": "o37Vd8kODl1N"
      },
      "execution_count": null,
      "outputs": []
    },
    {
      "cell_type": "code",
      "source": [
        "# ######\n",
        "# Problem 9:\n",
        "# We have the sine wave defined on range (-pi, pi). What is the integral of the ndarray in discrete space (take 2 decimals)?\n",
        "# ######\n",
        "t = np.linspace(-np.pi, np.pi)\n",
        "sin = np.sin(t)\n",
        "solution = # YOUR CODE HERE\n",
        "evaluate(problem_id='numpy/pbs/p9', submitted_solution=solution)"
      ],
      "metadata": {
        "id": "S-Flxr7FDmOk"
      },
      "execution_count": null,
      "outputs": []
    },
    {
      "cell_type": "code",
      "source": [
        "# ######\n",
        "# Problem 10:\n",
        "# We have the following linear equation\n",
        "# /  2x - 3y =  0\n",
        "# \\ -4x + 2y = -8\n",
        "# Provide the value of integer x & y.\n",
        "# ######\n",
        "x = # YOUR CODE HERE\n",
        "evaluate(problem_id='numpy/pbs/p10/x', submitted_solution=x)\n",
        "y = # YOUR CODE HERE\n",
        "evaluate(problem_id='numpy/pbs/p10/y', submitted_solution=y)"
      ],
      "metadata": {
        "id": "5ZY3aa3mDpMX"
      },
      "execution_count": null,
      "outputs": []
    },
    {
      "cell_type": "markdown",
      "source": [
        "---\n",
        "# **pandas**\n",
        "\n",
        "Official reference: https://pandas.pydata.org/pandas-docs/stable/reference/index.html\n",
        "\n",
        "$\\color{#F0000C}{Hint: check \\nobreakspace documentation \\nobreakspace CONSTANTLY}$"
      ],
      "metadata": {
        "id": "5d6c9sLWBNmK"
      }
    },
    {
      "cell_type": "code",
      "source": [
        "import pandas as pd\n",
        "print(pd.__version__)"
      ],
      "metadata": {
        "id": "_6SDcjX6Bhci"
      },
      "execution_count": null,
      "outputs": []
    },
    {
      "cell_type": "markdown",
      "source": [
        "## Data. How, what, why?"
      ],
      "metadata": {
        "id": "eoojNZx62nVR"
      }
    },
    {
      "cell_type": "markdown",
      "source": [
        "### Data"
      ],
      "metadata": {
        "id": "Drw6AQ382tq5"
      }
    },
    {
      "cell_type": "markdown",
      "source": [
        "To be added: reasoning about how to store data, what options are there to keep data, advantages/disadvantages.\n",
        "\n",
        "Encoding of data, why is it needed?\n",
        "\n",
        "Scaling?\n",
        "\n",
        "Useful functions..."
      ],
      "metadata": {
        "id": "NI6JwQVz2wy7"
      }
    },
    {
      "cell_type": "markdown",
      "source": [
        "### Let's see some data:"
      ],
      "metadata": {
        "id": "96aI012h2xbN"
      }
    },
    {
      "cell_type": "code",
      "source": [
        "df = pd.read_csv('./sample_data/mnist_test.csv')  # absolute/relative path?"
      ],
      "metadata": {
        "id": "yCvqsFer2r2b"
      },
      "execution_count": null,
      "outputs": []
    },
    {
      "cell_type": "code",
      "source": [
        "print(df.columns)"
      ],
      "metadata": {
        "id": "rgThmbTK35Y6"
      },
      "execution_count": null,
      "outputs": []
    },
    {
      "cell_type": "code",
      "source": [
        "df"
      ],
      "metadata": {
        "id": "c3t4rMq03e1X"
      },
      "execution_count": null,
      "outputs": []
    },
    {
      "cell_type": "markdown",
      "source": [
        "#### What are we looking at?"
      ],
      "metadata": {
        "id": "ZuY4EJMp5QjQ"
      }
    },
    {
      "cell_type": "code",
      "source": [
        "# change index to see other values\n",
        "sample = df.iloc[0]\n",
        "# label = index 0, image = index 1 onwards, sqrt(784) = 28\n",
        "label = sample[0]\n",
        "img = np.array(sample[1:]).reshape((28, 28))"
      ],
      "metadata": {
        "id": "oo76JR-v3n0m"
      },
      "execution_count": null,
      "outputs": []
    },
    {
      "cell_type": "code",
      "source": [
        "import matplotlib.pyplot as plt\n",
        "\n",
        "print('Label: {}'.format(sample[0]))\n",
        "plt.imshow(img)\n",
        "plt.show()"
      ],
      "metadata": {
        "id": "N6zQowmL4itJ"
      },
      "execution_count": null,
      "outputs": []
    },
    {
      "cell_type": "markdown",
      "source": [
        "#### More info"
      ],
      "metadata": {
        "id": "INuNGNIB5Wu5"
      }
    },
    {
      "cell_type": "code",
      "source": [
        "df.info()"
      ],
      "metadata": {
        "id": "Tk72ipJa5iW6"
      },
      "execution_count": null,
      "outputs": []
    },
    {
      "cell_type": "code",
      "source": [
        "df.describe()"
      ],
      "metadata": {
        "id": "7HOTdyl65lks"
      },
      "execution_count": null,
      "outputs": []
    },
    {
      "cell_type": "markdown",
      "source": [
        "### Work with dataframes"
      ],
      "metadata": {
        "id": "6DlHUPPI5tD4"
      }
    },
    {
      "cell_type": "markdown",
      "source": [
        "#### One dataframe"
      ],
      "metadata": {
        "id": "HuPapv785vNS"
      }
    },
    {
      "cell_type": "code",
      "source": [
        "# todo"
      ],
      "metadata": {
        "id": "ZJHfQJxz5yWy"
      },
      "execution_count": null,
      "outputs": []
    },
    {
      "cell_type": "markdown",
      "source": [
        "#### Multiple dataframes"
      ],
      "metadata": {
        "id": "GG6sy07B5zn5"
      }
    },
    {
      "cell_type": "code",
      "source": [
        "# todo"
      ],
      "metadata": {
        "id": "fqlKBzoq52BQ"
      },
      "execution_count": null,
      "outputs": []
    },
    {
      "cell_type": "markdown",
      "source": [
        "## Pandas in computer science"
      ],
      "metadata": {
        "id": "sejT1zT96Kdw"
      }
    },
    {
      "cell_type": "markdown",
      "source": [
        "### Data exploration"
      ],
      "metadata": {
        "id": "_4B9cYzR6dvx"
      }
    },
    {
      "cell_type": "code",
      "source": [
        "# useful functions, data discovery and data exploration tasks"
      ],
      "metadata": {
        "id": "oPwcW8a_jjLX"
      },
      "execution_count": null,
      "outputs": []
    },
    {
      "cell_type": "markdown",
      "source": [
        "### Preprocessing"
      ],
      "metadata": {
        "id": "TjoBJhcP6Z7w"
      }
    },
    {
      "cell_type": "code",
      "source": [
        "# encoding techniques, scaling, separation of data, etc."
      ],
      "metadata": {
        "id": "25j1OkRBkGfY"
      },
      "execution_count": null,
      "outputs": []
    },
    {
      "cell_type": "markdown",
      "source": [
        "### Postprocessing"
      ],
      "metadata": {
        "id": "3Vo4mmY56c09"
      }
    },
    {
      "cell_type": "code",
      "source": [
        "# inverse scaling & encoding for result analysis after evaluation, good "
      ],
      "metadata": {
        "id": "vq3UHC3dkM3n"
      },
      "execution_count": null,
      "outputs": []
    },
    {
      "cell_type": "markdown",
      "source": [
        "---\n",
        "# **Matplotlib**\n",
        "\n",
        "Official reference: https://matplotlib.org/stable/index.html\n",
        "\n",
        "$\\color{#F0000C}{Hint: check \\nobreakspace documentation \\nobreakspace CONSTANTLY}$"
      ],
      "metadata": {
        "id": "RII7KPzcuGKz"
      }
    },
    {
      "cell_type": "code",
      "source": [
        "import matplotlib\n",
        "import matplotlib.pyplot as plt\n",
        "print(matplotlib.__version__)"
      ],
      "metadata": {
        "id": "fL8Z1H1Yuaqr"
      },
      "execution_count": null,
      "outputs": []
    },
    {
      "cell_type": "markdown",
      "source": [
        "---\n",
        "# **Image Processing**"
      ],
      "metadata": {
        "id": "4_k_N51nHFdw"
      }
    },
    {
      "cell_type": "markdown",
      "source": [
        "## setup code"
      ],
      "metadata": {
        "id": "igtg7vuw1PCy"
      }
    },
    {
      "cell_type": "code",
      "source": [
        "# IP\n",
        "from scipy import misc\n",
        "from PIL import Image"
      ],
      "metadata": {
        "id": "1YiCHTLoxgWa"
      },
      "execution_count": null,
      "outputs": []
    },
    {
      "cell_type": "code",
      "source": [
        "def show_image(img: np.ndarray) -> None:\n",
        "    print('Image shape:', img.shape)\n",
        "    plt.grid(False)\n",
        "    plt.gray()\n",
        "    plt.axis('off')\n",
        "    plt.imshow(img)\n",
        "    plt.show()"
      ],
      "metadata": {
        "id": "_j2NDc9SHJoA"
      },
      "execution_count": null,
      "outputs": []
    },
    {
      "cell_type": "code",
      "source": [
        "# racoon\n",
        "img = np.array(Image.fromarray(misc.face()).resize((400, 300)), dtype=np.int32)"
      ],
      "metadata": {
        "id": "nePjCaJWhiln"
      },
      "execution_count": null,
      "outputs": []
    },
    {
      "cell_type": "code",
      "source": [
        "# stairs\n",
        "img = np.array(Image.fromarray(misc.ascent().astype('uint8')).resize((256, 256)), dtype=np.float64)"
      ],
      "metadata": {
        "id": "mQjcHfMaHHPg"
      },
      "execution_count": null,
      "outputs": []
    },
    {
      "cell_type": "code",
      "source": [
        "show_image(img)"
      ],
      "metadata": {
        "id": "kqHylK46lYdF"
      },
      "execution_count": null,
      "outputs": []
    },
    {
      "cell_type": "markdown",
      "source": [
        "## 1) Basic operations on images"
      ],
      "metadata": {
        "id": "PLv4IBmfXpwP"
      }
    },
    {
      "cell_type": "markdown",
      "source": [
        "### 1.1) Pixel and image structure"
      ],
      "metadata": {
        "id": "-ml2_46Dpvtz"
      }
    },
    {
      "cell_type": "code",
      "source": [
        "# print the first pixel of the image\n",
        "x = 0\n",
        "y = 0\n",
        "print(img[x, y])  # play along with x and y"
      ],
      "metadata": {
        "id": "Tq2XzNkPqC56"
      },
      "execution_count": null,
      "outputs": []
    },
    {
      "cell_type": "code",
      "source": [
        "# iterate over the whole image and separate red green and blue values from it into three separate images\n",
        "r_img = np.zeros(img.shape, dtype=np.int32)\n",
        "g_img = np.zeros(img.shape, dtype=np.int32)\n",
        "b_img = np.zeros(img.shape, dtype=np.int32)\n",
        "\n",
        "for i in range(0, img.shape[0]):  # horizontal axis\n",
        "    for j in range(0, img.shape[1]):  # vertical axis\n",
        "        pixel = img[i, j]  # [R, G, B]\n",
        "\n",
        "        r_img[i, j] = [pixel[0], 0, 0]\n",
        "        g_img[i, j] = [0, pixel[1], 0]\n",
        "        b_img[i, j] = [0, 0, pixel[2]]\n",
        "\n",
        "\n",
        "print('Extracted RED channel:')\n",
        "show_image(r_img)\n",
        "print('Extracted GREEN channel:')\n",
        "show_image(g_img)\n",
        "print('Extracted BLUE channel:')\n",
        "show_image(b_img)"
      ],
      "metadata": {
        "id": "GLeS8DW7qibi"
      },
      "execution_count": null,
      "outputs": []
    },
    {
      "cell_type": "markdown",
      "source": [
        "RGB Color picker: https://www.rapidtables.com/web/color/color-picker.html"
      ],
      "metadata": {
        "id": "J7QSHzUBxREC"
      }
    },
    {
      "cell_type": "code",
      "source": [
        "# white - to - blue\n",
        "img_1 = np.zeros((10, 10, 3), dtype=np.int32)\n",
        "show_image(img_1)\n",
        "\n",
        "# chessboard?\n",
        "for i in range(0, 10):\n",
        "    for j in range(0, 10):\n",
        "        if (i + j) % 2 == 0:\n",
        "            img_1[i, j] = [255, 255, 255]  # what color is this?\n",
        "show_image(img_1)"
      ],
      "metadata": {
        "id": "pkrDdKymvHOq"
      },
      "execution_count": null,
      "outputs": []
    },
    {
      "cell_type": "markdown",
      "source": [
        "### 1.2) Color image to Grayscale"
      ],
      "metadata": {
        "id": "bD6XNbCWlS1k"
      }
    },
    {
      "cell_type": "code",
      "source": [
        "# ######\n",
        "# Math:\n",
        "#  s, d in R{n, n}; s[0][0] in R{3}; d[0][0] in R;\n",
        "#  d|i, j in {0, n}|[i][j] = sum(s[i][j]) / count(s[i][j])\n",
        "# ######\n",
        "def color_to_grayscale(img: np.ndarray):\n",
        "    img_grayscale = np.zeros((img.shape[0], img.shape[1]))\n",
        "    \n",
        "    for i in range(0, img.shape[0]):\n",
        "        for j in range(0, img.shape[1]):\n",
        "            # print(np.average(img[i, j]))\n",
        "            img_grayscale[i, j] = int(np.average(img[i, j]))\n",
        "    return img_grayscale"
      ],
      "metadata": {
        "id": "9_TN5Jcodh2d"
      },
      "execution_count": null,
      "outputs": []
    },
    {
      "cell_type": "code",
      "source": [
        "img_grayscale = color_to_grayscale(img)\n",
        "show_image(img_grayscale)"
      ],
      "metadata": {
        "id": "WKl7jR4Rd3vc"
      },
      "execution_count": null,
      "outputs": []
    },
    {
      "cell_type": "code",
      "source": [
        "# only for stairs!\n",
        "img_grayscale = img"
      ],
      "metadata": {
        "id": "c1M3BexLhDVl"
      },
      "execution_count": null,
      "outputs": []
    },
    {
      "cell_type": "markdown",
      "source": [
        "### 1.3) Problems"
      ],
      "metadata": {
        "id": "OxaP75FgPvl9"
      }
    },
    {
      "cell_type": "code",
      "source": [
        "# ######\n",
        "# Problem 1:\n",
        "# We have an RGB pixel with value [35, 200, 155]. How much is the RED value?\n",
        "# ######\n",
        "\n",
        "pixel = [35, 200, 155]\n",
        "solution = # YOUR CODE HERE\n",
        "evaluate(problem_id='IP/basic/p1', submitted_solution=solution)"
      ],
      "metadata": {
        "id": "hYsSSNWNqGTa"
      },
      "execution_count": null,
      "outputs": []
    },
    {
      "cell_type": "code",
      "source": [
        "# ######\n",
        "# Problem 2:\n",
        "# We have an RGB pixel with value given below.\n",
        "# What will be the grayscale value according to our algorithm used before?\n",
        "# ######\n",
        "\n",
        "pixel = [120, 175, 4]\n",
        "solution = # YOUR CODE HERE\n",
        "evaluate(problem_id='IP/basic/p2', submitted_solution=solution)"
      ],
      "metadata": {
        "id": "454wvcj1xWqq"
      },
      "execution_count": null,
      "outputs": []
    },
    {
      "cell_type": "markdown",
      "source": [
        "## 2) Complex operations on images"
      ],
      "metadata": {
        "id": "Ztx0JTnuXwsP"
      }
    },
    {
      "cell_type": "markdown",
      "source": [
        "### 2.1) Conv2D"
      ],
      "metadata": {
        "id": "zzCA6WK4IKsg"
      }
    },
    {
      "cell_type": "markdown",
      "source": [
        "#### Theory"
      ],
      "metadata": {
        "id": "NS2fTgJIuLD5"
      }
    },
    {
      "cell_type": "markdown",
      "source": [
        "Convolutions are used to:\n",
        "  - keep spatial information of images\n",
        "  - maximize the shrinking potential of images while keeping relevant information"
      ],
      "metadata": {
        "id": "4IzzzYUuX5x2"
      }
    },
    {
      "cell_type": "markdown",
      "source": [
        "![](https://drive.google.com/uc?id=1I-ksqhe13i04_qePM9_I8JrNw9mUCcIg)\n"
      ],
      "metadata": {
        "id": "bGtI-980tYVx"
      }
    },
    {
      "cell_type": "markdown",
      "source": [
        "![](https://drive.google.com/uc?export=view&id=1I3gPiYAWFPbbEKTi_L4KyVAOXZN4dUXM)\n"
      ],
      "metadata": {
        "id": "nWH9witFuvr6"
      }
    },
    {
      "cell_type": "markdown",
      "source": [
        "Source: https://developers.google.com/machine-learning/practica/image-classification/convolutional-neural-networks"
      ],
      "metadata": {
        "id": "QFQAedW2uP9S"
      }
    },
    {
      "cell_type": "markdown",
      "source": [
        "#### Code"
      ],
      "metadata": {
        "id": "rWDG0u_BuNHx"
      }
    },
    {
      "cell_type": "code",
      "source": [
        "# sum(filter) <= 1, so need to weight it if not!\n",
        "\n",
        "# average smoothing\n",
        "three = [[1, 1, 1], [1, 1, 1], [1, 1, 1]], 9\n",
        "five = [[1, 1, 1, 1, 1], [1, 1, 1, 1, 1], [1, 1, 1, 1, 1], [1, 1, 1, 1, 1], [1, 1, 1, 1, 1]], 25\n",
        "gaussian = [[1, 2, 1], [2, 4, 2], [1, 2, 1]], 16\n",
        "\n",
        "# edge enhancement\n",
        "#  generic\n",
        "laplace = [[-1, -1, -1], [-1, 8, -1], [-1, -1, -1]], 1\n",
        "highpass = [[-1, -1, -1], [-1, 9, -1], [-1, -1, -1]], 1\n",
        "#\n",
        "sobel_vertical = [[-1, 0, 1], [-2, 0, 2], [-1, 0, 1]], 1\n",
        "sobel_horizontal = [[-1, -2, -1], [0, 0, 0], [1, 2, 1]], 1"
      ],
      "metadata": {
        "id": "0q5peyfCHUI5"
      },
      "execution_count": null,
      "outputs": []
    },
    {
      "cell_type": "code",
      "source": [
        "print(np.matrix(sobel_vertical[0]))"
      ],
      "metadata": {
        "id": "wfkzm1lTafPg"
      },
      "execution_count": null,
      "outputs": []
    },
    {
      "cell_type": "code",
      "source": [
        "# ######\n",
        "# Math: \n",
        "#  s, d in R{n, n}; s[0][0], d[0][0] in R;\n",
        "#  d|i, j in {1, n - 1}|[i][j] =\n",
        "#    |_i, _j in {0, filter_width}|{sum|i, j in {1, n-1}|(s[i - filter_width + _i][j - filter_width + _j] * filter[_i][_j])}\n",
        "# ######\n",
        "def conv2d(img: np.ndarray, filter_obj: Union[list, int]):\n",
        "    # check grayscale for transformation using our code\n",
        "    assert isinstance(img[0, 0], np.float64)\n",
        "\n",
        "    # copy image to a numpy array => borders!\n",
        "    image_transformed = np.copy(img)\n",
        "\n",
        "    # size of the (original) image\n",
        "    size_x = image_transformed.shape[0]\n",
        "    size_y = image_transformed.shape[1]\n",
        "\n",
        "    # collect filter and weight from the composite filter_object\n",
        "    filter, weight = filter_obj\n",
        "    size_of_filter = len(filter[0])\n",
        "    filter_width = size_of_filter // 2  # border of matrix\n",
        "\n",
        "    # iterate over the image !! careful at boundaries\n",
        "    for x in range(filter_width, size_x - filter_width):\n",
        "        for y in range(filter_width, size_y - filter_width):\n",
        "            convolution = 0.0\n",
        "            for i in range(0, size_of_filter):\n",
        "                for j in range(0, size_of_filter):\n",
        "                    convolution += img[x - filter_width + i, y - filter_width + j] * filter[i][j]\n",
        "            # div by weight !!\n",
        "            convolution /= weight\n",
        "            # bound between the boundaries of 1byte ~= grayscale\n",
        "            convolution = min(255, max(0, convolution))\n",
        "\n",
        "            image_transformed[x, y] = convolution\n",
        "    return image_transformed"
      ],
      "metadata": {
        "id": "6cMwIlmfHY5X"
      },
      "execution_count": null,
      "outputs": []
    },
    {
      "cell_type": "code",
      "source": [
        "res = conv2d(img_grayscale, sobel_vertical)\n",
        "show_image(res)"
      ],
      "metadata": {
        "id": "vHXQ_905hSvp"
      },
      "execution_count": null,
      "outputs": []
    },
    {
      "cell_type": "code",
      "source": [
        "res = conv2d(img_grayscale, sobel_horizontal)\n",
        "show_image(res)"
      ],
      "metadata": {
        "id": "BRoGz-hQHa7m"
      },
      "execution_count": null,
      "outputs": []
    },
    {
      "cell_type": "markdown",
      "source": [
        "#### Problems"
      ],
      "metadata": {
        "id": "LfCjqT7lQNxN"
      }
    },
    {
      "cell_type": "code",
      "source": [
        "# ..."
      ],
      "metadata": {
        "id": "OeXLjbk0QPiU"
      },
      "execution_count": null,
      "outputs": []
    },
    {
      "cell_type": "markdown",
      "source": [
        "### 2.2) MaxPool2D"
      ],
      "metadata": {
        "id": "JgloKM-THiaO"
      }
    },
    {
      "cell_type": "markdown",
      "source": [
        "#### Theory"
      ],
      "metadata": {
        "id": "V2EEM0ByvF37"
      }
    },
    {
      "cell_type": "markdown",
      "source": [
        "Pooling:\n",
        "  - operation used for dimensional downsampling\n",
        "  - Alternatives:\n",
        "    - max\n",
        "    - min\n",
        "    - average\n",
        "    - ?"
      ],
      "metadata": {
        "id": "HwrMwiNPYVj_"
      }
    },
    {
      "cell_type": "markdown",
      "source": [
        "![](https://drive.google.com/uc?export=view&id=1IC7l4ug6v9nitk8ToiISVjz8pRrMOntq)\n"
      ],
      "metadata": {
        "id": "5z5c7CIPwE-i"
      }
    },
    {
      "cell_type": "markdown",
      "source": [
        "Source: https://developers.google.com/machine-learning/practica/image-classification/convolutional-neural-networks"
      ],
      "metadata": {
        "id": "-zI1mGAwwjm7"
      }
    },
    {
      "cell_type": "markdown",
      "source": [
        "#### Code"
      ],
      "metadata": {
        "id": "zVk9ihwkvIzr"
      }
    },
    {
      "cell_type": "code",
      "source": [
        "# ######\n",
        "# Math: \n",
        "#  s  R{n, n}; s[0][0]; d in R{m, m}; d[0][0] in R;\n",
        "#  d|i, j in {0, m}|[i][j] = max(|_i, _j in {0, pool_size}|{sum|i, j in {0, n, pool_size}|(s[i + _i][j + _j])})\n",
        "# ######\n",
        "def maxpool2d(img: np.ndarray, pool_size: int) -> np.ndarray:\n",
        "    # check grayscale for transformation using our code\n",
        "    assert isinstance(img[0, 0], np.float64)\n",
        "\n",
        "    # size of the (original) image\n",
        "    size_x = img.shape[0]\n",
        "    size_y = img.shape[1]\n",
        "\n",
        "    new_x = size_x // pool_size\n",
        "    new_y = size_y // pool_size\n",
        "\n",
        "    # Create blank image with reduced dimensions\n",
        "    image_transformed = np.zeros((new_x, new_y))\n",
        "\n",
        "    # Iterate over the image\n",
        "    for x in range(0, size_x, pool_size):\n",
        "        for y in range(0, size_y, pool_size):\n",
        "            pixels = []\n",
        "            for i in range(0, pool_size):\n",
        "                for j in range(0, pool_size):\n",
        "                    pixels.append(img[x + i, y + j])\n",
        "\n",
        "            # Get only the largest value and assign to the reduced image\n",
        "            image_transformed[x // pool_size, y // pool_size] = max(pixels)\n",
        "    return image_transformed"
      ],
      "metadata": {
        "id": "fCS-XFkPHhKv"
      },
      "execution_count": null,
      "outputs": []
    },
    {
      "cell_type": "code",
      "source": [
        "res = maxpool2d(img_grayscale, pool_size=2)  # careful, conv_size HAS TO DIVIDE shape of input image\n",
        "# res = maxpool2d(img_grayscale, 8)\n",
        "show_image(res)"
      ],
      "metadata": {
        "id": "vhQ36Mb-nET0"
      },
      "execution_count": null,
      "outputs": []
    },
    {
      "cell_type": "markdown",
      "source": [
        "#### Problems"
      ],
      "metadata": {
        "id": "fSAvpvHPP7Pt"
      }
    },
    {
      "cell_type": "code",
      "source": [
        "# ######\n",
        "# Problem 1:\n",
        "# We have an image with pixel values (INT) as presented below.\n",
        "# Use MaxPool2D of 2x2. What is the sum of the pixels in the resulting image?\n",
        "# ######\n",
        "\n",
        "img = [[1, 2, 3, 4],[2, 3, 4, 5],[3, 4, 5, 6],[4, 5, 6, 7]]\n",
        "solution = # YOUR CODE HERE\n",
        "evaluate(problem_id='IP/complex/mp/p1', submitted_solution=solution)"
      ],
      "metadata": {
        "id": "s8z90TSgq4Ih"
      },
      "execution_count": null,
      "outputs": []
    },
    {
      "cell_type": "code",
      "source": [
        "# ######\n",
        "# Problem 2\n",
        "# We have an image with pixel values (INT) as presented below.\n",
        "# Use MaxPool2D of 2x2. What is the sum of the pixels in the resulting image?\n",
        "# ######\n",
        "\n",
        "img = [[1, 2, 3],[2, 3, 4],[3, 4, 5]]\n",
        "solution = # YOUR CODE HERE\n",
        "evaluate(problem_id='IP/complex/mp/p2', submitted_solution=solution)"
      ],
      "metadata": {
        "id": "5MV8PYh6sFMn"
      },
      "execution_count": null,
      "outputs": []
    },
    {
      "cell_type": "markdown",
      "source": [
        "### 2.3) Conv2D + Pool2D"
      ],
      "metadata": {
        "id": "uXQ9_8XXPZrg"
      }
    },
    {
      "cell_type": "code",
      "source": [
        "show_image(img_grayscale)\n",
        "res = conv2d(img_grayscale, laplace)\n",
        "res = maxpool2d(res, pool_size=2)\n",
        "res = conv2d(res, sobel_horizontal)\n",
        "res = maxpool2d(res, pool_size=2)\n",
        "show_image(res)"
      ],
      "metadata": {
        "id": "t2WCdZFIPig-"
      },
      "execution_count": null,
      "outputs": []
    },
    {
      "cell_type": "markdown",
      "source": [
        "## 3) Commonly used IP concepts/techniques"
      ],
      "metadata": {
        "id": "iu9J5VeZwUvb"
      }
    }
  ]
}