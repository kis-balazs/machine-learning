{
  "nbformat": 4,
  "nbformat_minor": 0,
  "metadata": {
    "colab": {
      "name": "MLTeaching",
      "provenance": [],
      "collapsed_sections": [
        "uKRwwtlPi9Xk",
        "93UZ77lMVwm7",
        "KmBbQZUxL_Fm",
        "KSBpZ755PgmN",
        "_BASSlVTMqMm",
        "al0Mn7tIVfCK",
        "hZFeOXWvYI0L",
        "XtSLMXgcYvzh",
        "mF-jolScZzhI",
        "L-suN3f-jYzg",
        "it9F_zbnaCbY",
        "tvc7KFGpc-4o",
        "5d6c9sLWBNmK",
        "RII7KPzcuGKz",
        "igtg7vuw1PCy",
        "-ml2_46Dpvtz",
        "bD6XNbCWlS1k",
        "OxaP75FgPvl9",
        "zzCA6WK4IKsg",
        "NS2fTgJIuLD5",
        "rWDG0u_BuNHx",
        "LfCjqT7lQNxN",
        "JgloKM-THiaO",
        "V2EEM0ByvF37",
        "zVk9ihwkvIzr",
        "fSAvpvHPP7Pt"
      ],
      "toc_visible": true,
      "authorship_tag": "ABX9TyNn6bIS+DsaaicHALQxLk8E",
      "include_colab_link": true
    },
    "kernelspec": {
      "name": "python3",
      "display_name": "Python 3"
    },
    "language_info": {
      "name": "python"
    }
  },
  "cells": [
    {
      "cell_type": "markdown",
      "metadata": {
        "id": "view-in-github",
        "colab_type": "text"
      },
      "source": [
        "<a href=\"https://colab.research.google.com/github/kis-balazs/machine-learning/blob/main/MLCourse_np-pd-ip.ipynb\" target=\"_parent\"><img src=\"https://colab.research.google.com/assets/colab-badge.svg\" alt=\"Open In Colab\"/></a>"
      ]
    },
    {
      "cell_type": "code",
      "source": [
        "import os\n",
        "from pprint import pprint\n",
        "from pathlib import Path\n",
        "\n",
        "# used for parameter type declaration\n",
        "from typing import Union"
      ],
      "metadata": {
        "id": "WWAVyg2lXfLe"
      },
      "execution_count": null,
      "outputs": []
    },
    {
      "cell_type": "markdown",
      "source": [
        "---\n",
        "*Author*: Balázs Kis\n",
        "\n",
        "*Email*: balazskis@gmail.com"
      ],
      "metadata": {
        "id": "UrP2FbQxv3dZ"
      }
    },
    {
      "cell_type": "markdown",
      "source": [
        "---\n",
        "# Setup evaluation function\n",
        "\n",
        "**PLEASE DO NOT ALTER** this code, since is used for setting up the solution database together with the evaluate function.\n",
        "\n",
        "---\n",
        "\n",
        "---\n",
        "\n",
        "*We would like to give you an easy and nice evaluation process for the problems we prepared for you, and this cell is highly relevant for that task. If you change anything in the cell, please re-roll to the original version if you would like the evaluation to be correct. Otherwise we cannot account for any difference between the correct results and the results we prepared.*"
      ],
      "metadata": {
        "id": "uKRwwtlPi9Xk"
      }
    },
    {
      "cell_type": "code",
      "source": [
        "assert not Path('./le').exists(), 'Please DO NOT attempt to run this cell more than once for each runtime!'\n",
        "\n",
        "# dependencies\n",
        "%pip install cryptography --quiet\n",
        "%pip install git+https://github.com/ozgur/python-firebase --quiet\n",
        "\n",
        "# setup for the evaluation\n",
        "os.system(\"git clone -l -s https://gist.github.com/kis-balazs/872f4e35871942f3f7076bbc5626c226 le\")\n",
        "os.chdir('le')\n",
        "\n",
        "from load_evaluate import *\n",
        "\n",
        "os.chdir('..')"
      ],
      "metadata": {
        "id": "cI2V6h_0LCQG"
      },
      "execution_count": null,
      "outputs": []
    },
    {
      "cell_type": "markdown",
      "source": [
        "# Useful documentation"
      ],
      "metadata": {
        "id": "Uy7AhjU-BtwO"
      }
    },
    {
      "cell_type": "markdown",
      "source": [
        " - [Python3 Cheatsheet](https://github.com/kis-balazs/machine-learning/blob/main/res/python3_cheatsheet.pdf)\n",
        " - ..."
      ],
      "metadata": {
        "id": "n0AltYu4H0vQ"
      }
    },
    {
      "cell_type": "markdown",
      "source": [
        "---\n",
        "# **NumPy**\n",
        "\n",
        "Official reference: https://numpy.org/doc/stable/reference/index.html\n",
        "\n",
        "$\\color{#F0000C}{Hint: check \\nobreakspace documentation \\nobreakspace CONSTANTLY}$"
      ],
      "metadata": {
        "id": "tKsWBzSmAiYU"
      }
    },
    {
      "cell_type": "code",
      "source": [
        "import numpy as np\n",
        "print(np.__version__)"
      ],
      "metadata": {
        "id": "AQ754oGPAoaD"
      },
      "execution_count": null,
      "outputs": []
    },
    {
      "cell_type": "markdown",
      "source": [
        "building blocks of mostly every problem in computer science:\n",
        " - numbers\n",
        " - arrays (1D, 2D, 3D, 4D(?), ...)\n",
        " - operations & underlying mathematics\n",
        "\n",
        "*We will see that many problems in computer science can be solved using numpy, i.e. mathematics :D*"
      ],
      "metadata": {
        "id": "ACD7JJa8KHr-"
      }
    },
    {
      "cell_type": "markdown",
      "source": [
        "## 1) Python < Numpy"
      ],
      "metadata": {
        "id": "dxGqxKLUIoKH"
      }
    },
    {
      "cell_type": "markdown",
      "source": [
        "### 1.1) Python and NumPy arrays\n",
        "\n"
      ],
      "metadata": {
        "id": "93UZ77lMVwm7"
      }
    },
    {
      "cell_type": "code",
      "source": [
        "arr = [3, 4, 5, 2, 6, 1]"
      ],
      "metadata": {
        "id": "sXiLLeO4UWrV"
      },
      "execution_count": null,
      "outputs": []
    },
    {
      "cell_type": "code",
      "source": [
        "arr[0] = 3.0"
      ],
      "metadata": {
        "id": "764HonViVoRT"
      },
      "execution_count": null,
      "outputs": []
    },
    {
      "cell_type": "code",
      "source": [
        "print(type(arr))\n",
        "print(arr[0], type(arr[0]))"
      ],
      "metadata": {
        "id": "6U1GlHLHVnTU"
      },
      "execution_count": null,
      "outputs": []
    },
    {
      "cell_type": "code",
      "source": [
        "arr_np = np.array(arr)\n",
        "print(type(arr_np))\n",
        "print(arr_np[0], type(arr_np[0]))"
      ],
      "metadata": {
        "id": "Zwv9R8-eU0_9"
      },
      "execution_count": null,
      "outputs": []
    },
    {
      "cell_type": "code",
      "source": [
        "arr_np1 = np.array(arr)\n",
        "print(type(arr_np1))\n",
        "print(arr_np1[0], type(arr_np1[0]))"
      ],
      "metadata": {
        "id": "4mejslP0VBEq"
      },
      "execution_count": null,
      "outputs": []
    },
    {
      "cell_type": "code",
      "source": [
        "arr_np[0] = 4"
      ],
      "metadata": {
        "id": "HTCfv9XvVQe4"
      },
      "execution_count": null,
      "outputs": []
    },
    {
      "cell_type": "code",
      "source": [
        "print(arr_np == arr_np1)\n",
        "# unified answer?\n",
        "print((arr_np == arr_np1).all())"
      ],
      "metadata": {
        "id": "eKgpOwIFVUHD"
      },
      "execution_count": null,
      "outputs": []
    },
    {
      "cell_type": "markdown",
      "source": [
        "### 1.2) 1D"
      ],
      "metadata": {
        "id": "KmBbQZUxL_Fm"
      }
    },
    {
      "cell_type": "code",
      "source": [
        "# the above array represents the average temperature in Cairo, Egypt in the week 20-26 (Monday-Sunday) April 1992\n",
        "temps = [20, 20, 17, 16, 16, 17, 19]\n",
        "\n",
        "# in parallel, using numpy\n",
        "temps_np = np.array(temps)"
      ],
      "metadata": {
        "id": "iwAp33CcIjGY"
      },
      "execution_count": null,
      "outputs": []
    },
    {
      "cell_type": "code",
      "source": [
        "# compute the biggest temperature of the week\n",
        "# python\n",
        "print('Max temp (Python):', max(temps))\n",
        "# numpy\n",
        "print('Max temp (NumPy):', temps_np.max())"
      ],
      "metadata": {
        "id": "bfjme02tJpt2"
      },
      "execution_count": null,
      "outputs": []
    },
    {
      "cell_type": "code",
      "source": [
        "# compute the mean temperature of the week\n",
        "# python\n",
        "print('Max temp (Python):', sum(temps) / len(temps))\n",
        "# numpy\n",
        "print('Max temp (NumPy):', temps_np.mean())"
      ],
      "metadata": {
        "id": "XQ7-qtYuLMHv"
      },
      "execution_count": null,
      "outputs": []
    },
    {
      "cell_type": "code",
      "source": [
        "# compute the standard deviation of the temperature of the week (2 decimals)\n",
        "# Hint: https://datascienceparichay.com/wp-content/uploads/2021/09/standard-deviation-formula-768x444.png.webp\n",
        "\n",
        "# python\n",
        "mean = sum(temps) / len(temps)\n",
        "print('Max temp (Python):', (sum(pow((elem - mean), 2) for elem in temps) / len(temps)) ** .5)  # look carefully at the last operation\n",
        "# numpy\n",
        "print('Max temp (NumPy):', temps_np.std())"
      ],
      "metadata": {
        "id": "6rbywnSCLWcO"
      },
      "execution_count": null,
      "outputs": []
    },
    {
      "cell_type": "markdown",
      "source": [
        "#### Problems"
      ],
      "metadata": {
        "id": "KSBpZ755PgmN"
      }
    },
    {
      "cell_type": "code",
      "source": [
        "# ######\n",
        "# Problem 1:\n",
        "# We have an array given below.\n",
        "# What is the index of the smallest value in the array?\n",
        "# ######\n",
        "arr = np.array([-1, 0, -1, -2, -2, 2, 3, -3, 1])\n",
        "solution = # YOUR CODE HERE\n",
        "evaluate(problem_id='numpy/1D/p1', submitted_solution=solution)"
      ],
      "metadata": {
        "id": "EFuJTqOhN5f9"
      },
      "execution_count": null,
      "outputs": []
    },
    {
      "cell_type": "code",
      "source": [
        "# ######\n",
        "# Problem 2:\n",
        "# We have an array given below.\n",
        "# What is the sum of the of positive values in the array?\n",
        "# ######\n",
        "arr = np.array([-1, 0, -1, -2, -2, 2, 3, -3, 1])\n",
        "solution = # YOUR CODE HERE\n",
        "evaluate(problem_id='numpy/1D/p2', submitted_solution=solution)"
      ],
      "metadata": {
        "id": "RdJqqR2OPU6V"
      },
      "execution_count": null,
      "outputs": []
    },
    {
      "cell_type": "code",
      "source": [
        "# ######\n",
        "# Problem 3:\n",
        "# We have an array given below.\n",
        "# What is the sum of values in the array, after rounding to 2 decimals? Hint: result is float!\n",
        "# ######\n",
        "arr = np.array([3.57042396, 8.35559273, 0.7621579 , 3.53006476,\n",
        "                0.98356653, 7.66801256, 3.32831346, 4.70137415])\n",
        "solution = # YOUR CODE HERE\n",
        "evaluate(problem_id='numpy/1D/p3', submitted_solution=solution)"
      ],
      "metadata": {
        "id": "I_i7SRRVTOhs"
      },
      "execution_count": null,
      "outputs": []
    },
    {
      "cell_type": "markdown",
      "source": [
        "## 1.3) 2(+)D"
      ],
      "metadata": {
        "id": "_BASSlVTMqMm"
      }
    },
    {
      "cell_type": "markdown",
      "source": [
        " - **2D**: two-dimensional array (i.e. matrix)\n",
        " - 3D: three-dimensional array\n",
        " - 4D: four-dimensional array\n",
        " - ...\n",
        "\n",
        "*Observation*: 3+ dimensional arrays are called dimensionality-wise, i.e. n-dimensional arrays, or **tensors** as we will see in the near future."
      ],
      "metadata": {
        "id": "fJvrZVHoWDmz"
      }
    },
    {
      "cell_type": "code",
      "source": [
        "# build the I3 (identity) matrix; try I4, I5, ... In;\n",
        "# Important notation: When n is known from context, the identity matrix is written as I.\n",
        "n = 3\n",
        "# python\n",
        "print('I3 (Python):\\n', [[1 if j == i else 0 for j in range(0, n)] for i in range(0, n)])\n",
        "# numpy\n",
        "print('I3 (NumPy):\\n', np.identity(n))  # eye?"
      ],
      "metadata": {
        "id": "PbDmxIyzMuB9"
      },
      "execution_count": null,
      "outputs": []
    },
    {
      "cell_type": "markdown",
      "source": [
        "---"
      ],
      "metadata": {
        "id": "OiaVbdd1RNog"
      }
    },
    {
      "cell_type": "code",
      "source": [
        "# given a 2x2 matrix of arbitrary values, compute it's determinant\n",
        "A = [\n",
        "     [5, 2],\n",
        "     [4, 0.5]\n",
        "]\n",
        "# python\n",
        "print('Determinant (Python):', A[0][0] * A[1][1] - A[0][1] * A[1][0])  # Sarrus rule\n",
        "# numpy\n",
        "print('Determinant (NumPy):', np.linalg.det(np.array(A)))  # linalg?"
      ],
      "metadata": {
        "id": "ZRHnVdCAFrI3"
      },
      "execution_count": null,
      "outputs": []
    },
    {
      "cell_type": "code",
      "source": [
        "# given a 3x3 matrix of arbitrary values , compute it's determinant\n",
        "A = [\n",
        "     [5, 2, 3],\n",
        "     [4, 0.5, 1.7],\n",
        "     [-2, 6, 3]\n",
        "]\n",
        "# python\n",
        "from functools import reduce \n",
        "\n",
        "def derive_comp(A, _j, n):\n",
        "    component_array = [A[(cnt) % n][(cnt + _j) % n] for cnt in range(0, n)]\n",
        "    return reduce((lambda a, b: a*b), component_array) \n",
        "\n",
        "# Sarrus rule 3x3\n",
        "def det(A, n):\n",
        "    pos_comps = [derive_comp(A, _j, n) for _j in range(0, n)]\n",
        "    neg_comps = [derive_comp(A[::-1], _j, n) for _j in range(0, n)]\n",
        "\n",
        "    return sum(pos_comps) - sum(neg_comps)\n",
        "\n",
        "\n",
        "print('Determinant (Python):', det(A, 3))\n",
        "# numpy\n",
        "print('Determinant (NumPy):', np.linalg.det(np.array(A)))  # linalg?"
      ],
      "metadata": {
        "id": "DE15CrNFGpEu"
      },
      "execution_count": null,
      "outputs": []
    },
    {
      "cell_type": "code",
      "source": [
        "# given a 4x4 matrix of arbitrary values , compute it's determinant\n",
        "A = [\n",
        "     [5, 2, 3, 1],\n",
        "     [4, 0.5, 1.7, -2],\n",
        "     [-2, 6, 3, 1],\n",
        "     [-1, 1, -1, 1]\n",
        "]\n",
        "# python\n",
        "# BAD NEWS: https://www.quora.com/Can-the-Sarrus-rule-be-applied-to-4x4-determinants?share=1\n",
        "# perhaps use Laplace rule / Gaussian elimination\n",
        "print('Determinant (Python): ???')\n",
        "# numpy\n",
        "print('Determinant (NumPy):', np.linalg.det(np.array(A)))  # linalg?"
      ],
      "metadata": {
        "id": "hIBkHDgAQpD7"
      },
      "execution_count": null,
      "outputs": []
    },
    {
      "cell_type": "markdown",
      "source": [
        "---"
      ],
      "metadata": {
        "id": "KsimpIypRLVx"
      }
    },
    {
      "cell_type": "code",
      "source": [
        "# given a 2x2 matrix of arbitrary values, compute it's inverse\n",
        "n = 2\n",
        "A = [\n",
        "     [5, 2],\n",
        "     [4, 0.5]\n",
        "]\n",
        "# python\n",
        "\n",
        "def inv2x2(A):\n",
        "    det_a = 1.0 / (A[0][0] * A[1][1] - A[0][1] * A[1][0])\n",
        "    adjugate = [\n",
        "        [A[1][1], -A[0][1]],\n",
        "        [-A[1][0], A[0][0]]\n",
        "    ]\n",
        "    return [[det_a * adjugate[i][j] for j in range(0, n)] for i in range(0, n)]\n",
        "\n",
        "print('Determinant (Python):\\n', inv2x2(A))  # Sarrus rule\n",
        "# numpy\n",
        "print('Determinant (NumPy):\\n', np.linalg.inv(np.array(A)))  # linalg?"
      ],
      "metadata": {
        "id": "8cPV-f3WQ87S"
      },
      "execution_count": null,
      "outputs": []
    },
    {
      "cell_type": "code",
      "source": [
        "# 3x3 inverse: already gets quite complicated to compute adjugate using Python, Numpy just scales :D"
      ],
      "metadata": {
        "id": "n-RIC_ODVMVB"
      },
      "execution_count": null,
      "outputs": []
    },
    {
      "cell_type": "markdown",
      "source": [
        "#### Problems"
      ],
      "metadata": {
        "id": "al0Mn7tIVfCK"
      }
    },
    {
      "cell_type": "code",
      "source": [
        "# ######\n",
        "# Problem 1:\n",
        "# We have a 2x2 matrix given below.\n",
        "# What is the inverse of the matrix?\n",
        "# ######\n",
        "A = np.array([[1, 3], [2, 6]])\n",
        "solution = # YOUR CODE HERE\n",
        "evaluate(problem_id='numpy/2D/p1', submitted_solution=solution)"
      ],
      "metadata": {
        "id": "Wh-gIA5RVhKo"
      },
      "execution_count": null,
      "outputs": []
    },
    {
      "cell_type": "code",
      "source": [
        "# ######\n",
        "# Problem 2:\n",
        "# We have a 4x4 matrix given below.\n",
        "# What is the determinant of the matrix multiplied by it's inverse?\n",
        "# Hint1: np.dot()\n",
        "# Hint2: round result matrix to int!\n",
        "# ######\n",
        "A = np.array([[5, 2, 3, 1], [4, 0.5, 1.7, -2], [-2, 6, 3, 1], [-1, 1, -1, 1]])\n",
        "solution = # YOUR CODE HERE\n",
        "evaluate(problem_id='numpy/2D/p2', submitted_solution=solution)"
      ],
      "metadata": {
        "id": "UNF4jkWgWW9K"
      },
      "execution_count": null,
      "outputs": []
    },
    {
      "cell_type": "code",
      "source": [
        "# ######\n",
        "# Problem 3:\n",
        "# Formalise the previous problem as mathematical equation using the following notation:\n",
        "# Inverse of a matrix: A^-1\n",
        "# Dot product between two matrices: A dot B\n",
        "# ######\n",
        "solution = # YOUR CODE HERE\n",
        "evaluate(problem_id='numpy/2D/p3', submitted_solution=solution)"
      ],
      "metadata": {
        "id": "wDqYU1LW3PRO"
      },
      "execution_count": null,
      "outputs": []
    },
    {
      "cell_type": "markdown",
      "source": [
        "### 4) Conclusion"
      ],
      "metadata": {
        "id": "hZFeOXWvYI0L"
      }
    },
    {
      "cell_type": "markdown",
      "source": [
        "I think a fine conclusion can be drawn that even when dealing with such simplistic problems, numpy is a way better solution than pure python, in arrays of **any dimensions**."
      ],
      "metadata": {
        "id": "16NDaMYyX8r8"
      }
    },
    {
      "cell_type": "markdown",
      "source": [
        "In the upcomings we will see more *complex functions*, and use-cases for numpy which represent better the real power of numpy in an immense variety of computer science-related mathematics:\n",
        " - $\\color{#20b2aa}{signal \\nobreakspace processing}$ (1D, 2D (images), etc.)\n",
        " - $\\color{#00ff00}{linear \\nobreakspace algebra}$\n",
        " - $\\color{#ffbf00}{analytical \\nobreakspace geometry}$\n",
        " - ..."
      ],
      "metadata": {
        "id": "U18HrF4qYMET"
      }
    },
    {
      "cell_type": "markdown",
      "source": [
        "$\\color{#F0000C}{In \\nobreakspace the \\nobreakspace upcomings \\nobreakspace pay \\nobreakspace extra \\nobreakspace attention \\nobreakspace to \\nobreakspace how \\nobreakspace numpy \\nobreakspace handles \\nobreakspace \\textbf{dimensions}.}$"
      ],
      "metadata": {
        "id": "2m8MjwAiegNf"
      }
    },
    {
      "cell_type": "markdown",
      "source": [
        "## 2) NumPy in computer science"
      ],
      "metadata": {
        "id": "qg4IMNplMu3N"
      }
    },
    {
      "cell_type": "markdown",
      "source": [
        "### 2.1) NumPy ndarray operations"
      ],
      "metadata": {
        "id": "XtSLMXgcYvzh"
      }
    },
    {
      "cell_type": "markdown",
      "source": [
        "#### 2.1.1) 1D ndarray"
      ],
      "metadata": {
        "id": "mF-jolScZzhI"
      }
    },
    {
      "cell_type": "code",
      "source": [
        "# create an ndarray of 0s\n",
        "print(np.zeros(4))"
      ],
      "metadata": {
        "id": "JmjeYaA_dIvT"
      },
      "execution_count": null,
      "outputs": []
    },
    {
      "cell_type": "code",
      "source": [
        "# create an ndarray of random numbers (in range [0, 1))\n",
        "print(np.random.random(4))"
      ],
      "metadata": {
        "id": "U-bU0Hz-dNrK"
      },
      "execution_count": null,
      "outputs": []
    },
    {
      "cell_type": "code",
      "source": [
        "# create an ndarray with values in a range\n",
        "print(np.arange(10, 20, step=1))"
      ],
      "metadata": {
        "id": "hZ4Q8LDKkKZW"
      },
      "execution_count": null,
      "outputs": []
    },
    {
      "cell_type": "code",
      "source": [
        "# sort an ndarray of random values in ascending order\n",
        "print(np.sort(np.random.random(3)))\n",
        "\n",
        "# descending?\n",
        "print(np.sort(np.random.random(3))[::-1])"
      ],
      "metadata": {
        "id": "NdcAv_LEi0EJ"
      },
      "execution_count": null,
      "outputs": []
    },
    {
      "cell_type": "markdown",
      "source": [
        "---"
      ],
      "metadata": {
        "id": "tVdJakHLdJEA"
      }
    },
    {
      "cell_type": "code",
      "source": [
        "arr1 = np.array([1, 2, 3, 4, 5])\n",
        "arr2 = np.array([-1, 3, -2, 4, -7])"
      ],
      "metadata": {
        "id": "JDE_Mk1KM0pe"
      },
      "execution_count": null,
      "outputs": []
    },
    {
      "cell_type": "markdown",
      "source": [
        "###### W/ constants"
      ],
      "metadata": {
        "id": "L-suN3f-jYzg"
      }
    },
    {
      "cell_type": "code",
      "source": [
        "# add/sub of a constant\n",
        "print(arr1 + 2)\n",
        "print(arr2 - .7)"
      ],
      "metadata": {
        "id": "_AQsAsAfZEz4"
      },
      "execution_count": null,
      "outputs": []
    },
    {
      "cell_type": "code",
      "source": [
        "# mult/div with a constant - automatic float?\n",
        "print(arr1 * 1.5)\n",
        "print(arr2 / 3)"
      ],
      "metadata": {
        "id": "YH9CDC4SaBu4"
      },
      "execution_count": null,
      "outputs": []
    },
    {
      "cell_type": "code",
      "source": [
        "# append constant to ndarray\n",
        "print(np.append(arr1, -1))"
      ],
      "metadata": {
        "id": "8GWfx8N5diyw"
      },
      "execution_count": null,
      "outputs": []
    },
    {
      "cell_type": "markdown",
      "source": [
        "---\n",
        "###### W/ 1D ndarrays"
      ],
      "metadata": {
        "id": "it9F_zbnaCbY"
      }
    },
    {
      "cell_type": "code",
      "source": [
        "# add/sub\n",
        "print(arr1 + arr2)  # np.add()\n",
        "print(arr1 - arr2)  # np.subtract()\n",
        "print(arr2 - arr1)"
      ],
      "metadata": {
        "id": "4S3XvVhnZI9n"
      },
      "execution_count": null,
      "outputs": []
    },
    {
      "cell_type": "code",
      "source": [
        "# mult/div \n",
        "print(arr1 * arr2)\n",
        "print(arr1 / arr2)"
      ],
      "metadata": {
        "id": "gxh_wO8_Z-B6"
      },
      "execution_count": null,
      "outputs": []
    },
    {
      "cell_type": "code",
      "source": [
        "# append array to array\n",
        "print(np.append(arr1, arr2))"
      ],
      "metadata": {
        "id": "ummJ91PGeEeX"
      },
      "execution_count": null,
      "outputs": []
    },
    {
      "cell_type": "markdown",
      "source": [
        "---\n",
        "###### Relevant functions"
      ],
      "metadata": {
        "id": "tvc7KFGpc-4o"
      }
    },
    {
      "cell_type": "code",
      "source": [
        "# norm of a ndarray - distance from origin\n",
        "print(np.linalg.norm(arr1))"
      ],
      "metadata": {
        "id": "pwe6GpoWahOQ"
      },
      "execution_count": null,
      "outputs": []
    },
    {
      "cell_type": "code",
      "source": [
        "# dot product\n",
        "print(np.dot(arr1, arr2))"
      ],
      "metadata": {
        "id": "3_9qwGAHaHRo"
      },
      "execution_count": null,
      "outputs": []
    },
    {
      "cell_type": "markdown",
      "source": [
        "What are **norm and dot product** good for? quite a lot actually!\n",
        "\n",
        "Example [$\\color{#00ff00}{linear \\nobreakspace algebra}$/$\\color{#ffbf00}{analytical \\nobreakspace geometry}$] : computing the angle between two vectors"
      ],
      "metadata": {
        "id": "v0eGRrLxc1U_"
      }
    },
    {
      "cell_type": "code",
      "source": [
        "# ndarrays representing points in n dimensions\n",
        "v1 = [6, 1]\n",
        "v2 = [4, 4]\n",
        "\n",
        "angle = np.arccos(np.dot(v1, v2) / (np.linalg.norm(v1) * np.linalg.norm(v2)))  # radian!\n",
        "print('Angle between v1 and v2:', angle * 180 / np.pi)"
      ],
      "metadata": {
        "id": "w9ZJfrt6auhp"
      },
      "execution_count": null,
      "outputs": []
    },
    {
      "cell_type": "code",
      "source": [
        "# 2D\n",
        "assert(len(v1) == 2)\n",
        "assert(len(v2) == 2)\n",
        "\n",
        "import matplotlib.pyplot as plt\n",
        "\n",
        "plt.plot([0, v1[0]], [0, v1[1]], color='blue')\n",
        "plt.plot([0, v2[0]], [0, v2[1]], color='red')\n",
        "plt.show()"
      ],
      "metadata": {
        "id": "tVKHF3hacFWx"
      },
      "execution_count": null,
      "outputs": []
    },
    {
      "cell_type": "code",
      "source": [
        "# 3D\n",
        "assert(len(v1) == 3)\n",
        "assert(len(v2) == 3)\n",
        "\n",
        "import matplotlib.pyplot as plt\n",
        "\n",
        "fig = plt.figure()\n",
        "ax = plt.axes(projection=\"3d\")\n",
        "ax.plot3D([0, v1[1]], [0, v1[2]], [0, v1[2]], color='blue')\n",
        "ax.plot3D([0, v2[1]], [0, v2[2]], [0, v2[2]], color='red')\n",
        "plt.show()"
      ],
      "metadata": {
        "id": "b_QHc_MSgmeX"
      },
      "execution_count": null,
      "outputs": []
    },
    {
      "cell_type": "markdown",
      "source": [
        "#### 2.1.2) 2D ndarray"
      ],
      "metadata": {
        "id": "41J-YlStibru"
      }
    },
    {
      "cell_type": "code",
      "source": [
        "# TBD: construction types, operations with [constants, 1D ndarrays, 2D ndarrays], important functions"
      ],
      "metadata": {
        "id": "XDDI1Q5Fig5e"
      },
      "execution_count": null,
      "outputs": []
    },
    {
      "cell_type": "markdown",
      "source": [
        "#### 2.1.3) 3(+)D ndarray"
      ],
      "metadata": {
        "id": "JowGnnqcnBqO"
      }
    },
    {
      "cell_type": "code",
      "source": [
        "# generalization of 2D ndarrays, important functions"
      ],
      "metadata": {
        "id": "mOzr6FXCnPkw"
      },
      "execution_count": null,
      "outputs": []
    },
    {
      "cell_type": "markdown",
      "source": [
        "### 2.2) NumPy \"everywhere\""
      ],
      "metadata": {
        "id": "Tit3GollnXrg"
      }
    },
    {
      "cell_type": "code",
      "source": [
        "# examples, problems and a simple introduction to NNs"
      ],
      "metadata": {
        "id": "8dSZvXAwoVUN"
      },
      "execution_count": null,
      "outputs": []
    },
    {
      "cell_type": "markdown",
      "source": [
        "#### Intro to NN\n",
        "\n",
        "Single-Layer Perceptron [$\\color{#00ff00}{linear \\nobreakspace algebra}$]\n",
        "\n",
        "Adapted after Rosenblatt (1957) - **Using only NumPy!**"
      ],
      "metadata": {
        "id": "ErsXAjJ8N1pC"
      }
    },
    {
      "cell_type": "code",
      "source": [
        "# Problem: using a bunch of randomly generated ndarrays of length 5, train a *neuron* so that\n",
        "# it classifies correctly based on a mathematical condition.\n",
        "# Code is an adaptation of https://towardsdatascience.com/rosenblatts-perceptron-the-very-first-neural-network-37a3ec09038a\n",
        "\n",
        "\n",
        "n = 5\n",
        "test_size = 1_000\n",
        "\n",
        "\n",
        "def gen_set(size, function):\n",
        "    ndarrays = [np.random.uniform(-1, 1, n) for _ in range(0, size)]\n",
        "    return [(ndarr, function(ndarr)) for ndarr in ndarrays]\n",
        "\n",
        "\n",
        "# create the training & testing set as a list of (array, sum_of_array)\n",
        "fct = lambda x: x.sum() > 0\n",
        "# fct = lambda x: x[0] < x[1:].sum()\n",
        "# fct = isPrime(), perfectNumber() ???? nonlinear functions?\n",
        "train_set = gen_set(\n",
        "    size=test_size,\n",
        "    function=fct\n",
        ")\n",
        "test_set = gen_set(\n",
        "    size=100,\n",
        "    function=fct\n",
        ")\n",
        "print(train_set[0])"
      ],
      "metadata": {
        "id": "U5_DcGQa8eoV"
      },
      "execution_count": null,
      "outputs": []
    },
    {
      "cell_type": "code",
      "source": [
        "node_weights = np.random.uniform(-1, 1, n)\n",
        "node_bias = 0.0\n",
        "\n",
        "def train_node(input: tuple, weights: np.ndarray, bias: np.float64):\n",
        "    y = np.dot(input[0], weights) > bias\n",
        "    if y != input[1]:\n",
        "        if y:\n",
        "            weights -= input[0]\n",
        "            bias -= 1\n",
        "        else:\n",
        "            weights += input[0]\n",
        "            bias += 1\n",
        "    return weights\n",
        "\n",
        "def classify_input(input_arr: np.ndarray, weights: np.ndarray, bias: np.float64) -> bool:\n",
        "    return np.dot(input_arr, weights) > bias\n",
        "\n",
        "# training loop\n",
        "print('! training... ', end='')\n",
        "for i, input in enumerate(train_set):\n",
        "    if i % (test_size // 10) == 0:\n",
        "        print(i, end=' ')\n",
        "    node_weights = train_node(input, node_weights, node_bias)"
      ],
      "metadata": {
        "id": "MGFhko89GS3b"
      },
      "execution_count": null,
      "outputs": []
    },
    {
      "cell_type": "code",
      "source": [
        "# check how many percent correct\n",
        "correct = 0\n",
        "for ta in test_set:\n",
        "    if classify_input(ta[0], node_weights, node_bias) == ta[1]:\n",
        "        correct += 1\n",
        "print('Classifier correct: {}%'.format(correct))"
      ],
      "metadata": {
        "id": "udlXb-GxH9JK"
      },
      "execution_count": null,
      "outputs": []
    },
    {
      "cell_type": "code",
      "source": [
        "# check for one input\n",
        "test_array = test_set[np.random.randint(0, 100)]\n",
        "print('> test array:', test_array[0], ' (sum:', test_array[0].sum(), '\\b)\\n\\tfulfills condition?', test_array[1])\n",
        "print('\\n> Classifier prediction:', classify_input(test_array[0], node_weights, node_bias))"
      ],
      "metadata": {
        "id": "A8D8WpmlDKDw"
      },
      "execution_count": null,
      "outputs": []
    },
    {
      "cell_type": "markdown",
      "source": [
        "**Discussion**: why is this NN? is NN this simple? but what happens if we want more? what more?\n",
        "\n",
        "![](https://miro.medium.com/max/1400/1*ofVdu6L3BDbHyt1Ro8w07Q.png)"
      ],
      "metadata": {
        "id": "pAMgQJ2LOPnk"
      }
    },
    {
      "cell_type": "markdown",
      "source": [
        "---\n",
        "## **pandas**\n",
        "\n",
        "Official reference: https://pandas.pydata.org/pandas-docs/stable/reference/index.html\n",
        "\n",
        "$\\color{#F0000C}{Hint: check \\nobreakspace documentation \\nobreakspace CONSTANTLY}$"
      ],
      "metadata": {
        "id": "5d6c9sLWBNmK"
      }
    },
    {
      "cell_type": "code",
      "source": [
        "import pandas as pd\n",
        "print(pd.__version__)"
      ],
      "metadata": {
        "id": "_6SDcjX6Bhci"
      },
      "execution_count": null,
      "outputs": []
    },
    {
      "cell_type": "markdown",
      "source": [
        "---\n",
        "## **Matplotlib**\n",
        "\n",
        "Official reference: https://matplotlib.org/stable/index.html\n",
        "\n",
        "$\\color{#F0000C}{Hint: check \\nobreakspace documentation \\nobreakspace CONSTANTLY}$"
      ],
      "metadata": {
        "id": "RII7KPzcuGKz"
      }
    },
    {
      "cell_type": "code",
      "source": [
        "import matplotlib as plt\n",
        "print(plt.__version__)"
      ],
      "metadata": {
        "id": "fL8Z1H1Yuaqr"
      },
      "execution_count": null,
      "outputs": []
    },
    {
      "cell_type": "markdown",
      "source": [
        "---\n",
        "# **Image Processing**"
      ],
      "metadata": {
        "id": "4_k_N51nHFdw"
      }
    },
    {
      "cell_type": "markdown",
      "source": [
        "## setup code"
      ],
      "metadata": {
        "id": "igtg7vuw1PCy"
      }
    },
    {
      "cell_type": "code",
      "source": [
        "# IP\n",
        "from scipy import misc\n",
        "from PIL import Image"
      ],
      "metadata": {
        "id": "1YiCHTLoxgWa"
      },
      "execution_count": null,
      "outputs": []
    },
    {
      "cell_type": "code",
      "source": [
        "img = misc.ascent()\n",
        "img = misc.face()"
      ],
      "metadata": {
        "id": "mQjcHfMaHHPg"
      },
      "execution_count": null,
      "outputs": []
    },
    {
      "cell_type": "code",
      "source": [
        "# resize image to 300x400 - no need to wait for it\n",
        "img = np.array(Image.fromarray(img).resize((400, 300)), dtype=np.int32)"
      ],
      "metadata": {
        "id": "nePjCaJWhiln"
      },
      "execution_count": null,
      "outputs": []
    },
    {
      "cell_type": "code",
      "source": [
        "import matplotlib.pyplot as plt\n",
        "\n",
        "def show_image(img: np.ndarray) -> None:\n",
        "    print('Image shape:', img.shape)\n",
        "    plt.grid(False)\n",
        "    plt.gray()\n",
        "    plt.axis('off')\n",
        "    plt.imshow(img)\n",
        "    plt.show()"
      ],
      "metadata": {
        "id": "_j2NDc9SHJoA"
      },
      "execution_count": null,
      "outputs": []
    },
    {
      "cell_type": "code",
      "source": [
        "show_image(img)"
      ],
      "metadata": {
        "id": "kqHylK46lYdF"
      },
      "execution_count": null,
      "outputs": []
    },
    {
      "cell_type": "markdown",
      "source": [
        "## 1) Basic operations on images"
      ],
      "metadata": {
        "id": "PLv4IBmfXpwP"
      }
    },
    {
      "cell_type": "markdown",
      "source": [
        "### 1.1) Pixel and image structure"
      ],
      "metadata": {
        "id": "-ml2_46Dpvtz"
      }
    },
    {
      "cell_type": "code",
      "source": [
        "# print the first pixel of the image\n",
        "x = 0\n",
        "y = 0\n",
        "print(img[x, y])  # play along with x and y"
      ],
      "metadata": {
        "id": "Tq2XzNkPqC56"
      },
      "execution_count": null,
      "outputs": []
    },
    {
      "cell_type": "code",
      "source": [
        "# iterate over the whole image and separate red green and blue values from it into three separate images\n",
        "r_img = np.zeros(img.shape, dtype=np.int32)\n",
        "g_img = np.zeros(img.shape, dtype=np.int32)\n",
        "b_img = np.zeros(img.shape, dtype=np.int32)\n",
        "\n",
        "for i in range(0, img.shape[0]):  # horizontal axis\n",
        "    for j in range(0, img.shape[1]):  # vertical axis\n",
        "        pixel = img[i, j]  # [R, G, B]\n",
        "\n",
        "        r_img[i, j] = [pixel[0], 0, 0]\n",
        "        g_img[i, j] = [0, pixel[1], 0]\n",
        "        b_img[i, j] = [0, 0, pixel[2]]\n",
        "\n",
        "\n",
        "print('Extracted RED channel:')\n",
        "show_image(r_img)\n",
        "print('Extracted GREEN channel:')\n",
        "show_image(g_img)\n",
        "print('Extracted BLUE channel:')\n",
        "show_image(b_img)"
      ],
      "metadata": {
        "id": "GLeS8DW7qibi"
      },
      "execution_count": null,
      "outputs": []
    },
    {
      "cell_type": "markdown",
      "source": [
        "RGB Color picker: https://www.rapidtables.com/web/color/color-picker.html"
      ],
      "metadata": {
        "id": "J7QSHzUBxREC"
      }
    },
    {
      "cell_type": "code",
      "source": [
        "# white - to - blue\n",
        "img_1 = np.zeros((10, 10, 3), dtype=np.int32)\n",
        "show_image(img_1)\n",
        "\n",
        "# chessboard?\n",
        "for i in range(0, 10):\n",
        "    for j in range(0, 10):\n",
        "        if (i + j) % 2 == 0:\n",
        "            img_1[i, j] = [255, 255, 255]  # what color is this?\n",
        "show_image(img_1)"
      ],
      "metadata": {
        "id": "pkrDdKymvHOq"
      },
      "execution_count": null,
      "outputs": []
    },
    {
      "cell_type": "markdown",
      "source": [
        "### 1.2) Color image to Grayscale"
      ],
      "metadata": {
        "id": "bD6XNbCWlS1k"
      }
    },
    {
      "cell_type": "code",
      "source": [
        "# ######\n",
        "# Math:\n",
        "#  s, d in R{n, n}; s[0][0] in R{3}; d[0][0] in R;\n",
        "#  d|i, j in {0, n}|[i][j] = sum(s[i][j]) / count(s[i][j])\n",
        "# ######\n",
        "def color_to_grayscale(img: np.ndarray):\n",
        "    img_grayscale = np.zeros((img.shape[0], img.shape[1]))\n",
        "    \n",
        "    for i in range(0, img.shape[0]):\n",
        "        for j in range(0, img.shape[1]):\n",
        "            # print(np.average(img[i, j]))\n",
        "            img_grayscale[i, j] = int(np.average(img[i, j]))\n",
        "    return img_grayscale"
      ],
      "metadata": {
        "id": "9_TN5Jcodh2d"
      },
      "execution_count": null,
      "outputs": []
    },
    {
      "cell_type": "code",
      "source": [
        "img_grayscale = color_to_grayscale(img)\n",
        "show_image(img_grayscale)"
      ],
      "metadata": {
        "id": "WKl7jR4Rd3vc"
      },
      "execution_count": null,
      "outputs": []
    },
    {
      "cell_type": "markdown",
      "source": [
        "### 1.3) Problems"
      ],
      "metadata": {
        "id": "OxaP75FgPvl9"
      }
    },
    {
      "cell_type": "code",
      "source": [
        "# ######\n",
        "# Problem 1:\n",
        "# We have an RGB pixel with value [35, 200, 155]. How much is the RED value?\n",
        "# ######\n",
        "\n",
        "pixel = [35, 200, 155]\n",
        "solution = # YOUR CODE HERE\n",
        "evaluate(problem_id='IP/basic/p1', submitted_solution=solution)"
      ],
      "metadata": {
        "id": "hYsSSNWNqGTa"
      },
      "execution_count": null,
      "outputs": []
    },
    {
      "cell_type": "code",
      "source": [
        "# ######\n",
        "# Problem 2:\n",
        "# We have an RGB pixel with value given below.\n",
        "# What will be the grayscale value according to our algorithm used before?\n",
        "# ######\n",
        "\n",
        "pixel = [120, 175, 4]\n",
        "solution = # YOUR CODE HERE\n",
        "evaluate(problem_id='IP/basic/p2', submitted_solution=solution)"
      ],
      "metadata": {
        "id": "454wvcj1xWqq"
      },
      "execution_count": null,
      "outputs": []
    },
    {
      "cell_type": "markdown",
      "source": [
        "## 2) Complex operations on images"
      ],
      "metadata": {
        "id": "Ztx0JTnuXwsP"
      }
    },
    {
      "cell_type": "markdown",
      "source": [
        "### 2.1) Conv2D"
      ],
      "metadata": {
        "id": "zzCA6WK4IKsg"
      }
    },
    {
      "cell_type": "markdown",
      "source": [
        "#### Theory"
      ],
      "metadata": {
        "id": "NS2fTgJIuLD5"
      }
    },
    {
      "cell_type": "markdown",
      "source": [
        "Convolutions are used to:\n",
        "  - keep spatial information of images\n",
        "  - maximize the shrinking potential of images while keeping relevant information"
      ],
      "metadata": {
        "id": "4IzzzYUuX5x2"
      }
    },
    {
      "cell_type": "markdown",
      "source": [
        "![](https://drive.google.com/uc?id=1I-ksqhe13i04_qePM9_I8JrNw9mUCcIg)\n"
      ],
      "metadata": {
        "id": "bGtI-980tYVx"
      }
    },
    {
      "cell_type": "markdown",
      "source": [
        "![](https://drive.google.com/uc?export=view&id=1I3gPiYAWFPbbEKTi_L4KyVAOXZN4dUXM)\n"
      ],
      "metadata": {
        "id": "nWH9witFuvr6"
      }
    },
    {
      "cell_type": "markdown",
      "source": [
        "Source: https://developers.google.com/machine-learning/practica/image-classification/convolutional-neural-networks"
      ],
      "metadata": {
        "id": "QFQAedW2uP9S"
      }
    },
    {
      "cell_type": "markdown",
      "source": [
        "#### Code"
      ],
      "metadata": {
        "id": "rWDG0u_BuNHx"
      }
    },
    {
      "cell_type": "code",
      "source": [
        "# sum(filter) <= 1, so need to weight it if not!\n",
        "\n",
        "# average smoothing\n",
        "three = [[1, 1, 1], [1, 1, 1], [1, 1, 1]], 9\n",
        "five = [[1, 1, 1, 1, 1], [1, 1, 1, 1, 1], [1, 1, 1, 1, 1], [1, 1, 1, 1, 1], [1, 1, 1, 1, 1]], 25\n",
        "gaussian = [[1, 2, 1], [2, 4, 2], [1, 2, 1]], 16\n",
        "\n",
        "# edge enhancement\n",
        "#  generic\n",
        "laplace = [[-1, -1, -1], [-1, 8, -1], [-1, -1, -1]], 1\n",
        "highpass = [[-1, -1, -1], [-1, 9, -1], [-1, -1, -1]], 1\n",
        "#\n",
        "sobel_vertical = [[-1, 0, 1], [-2, 0, 2], [-1, 0, 1]], 1\n",
        "sobel_horizontal = [[-1, -2, -1], [0, 0, 0], [1, 2, 1]], 1"
      ],
      "metadata": {
        "id": "0q5peyfCHUI5"
      },
      "execution_count": null,
      "outputs": []
    },
    {
      "cell_type": "code",
      "source": [
        "print(np.matrix(sobel_horizontal[0]))"
      ],
      "metadata": {
        "id": "wfkzm1lTafPg"
      },
      "execution_count": null,
      "outputs": []
    },
    {
      "cell_type": "code",
      "source": [
        "# ######\n",
        "# Math: \n",
        "#  s, d in R{n, n}; s[0][0], d[0][0] in R;\n",
        "#  d|i, j in {1, n - 1}|[i][j] =\n",
        "#    |_i, _j in {0, filter_width}|{sum|i, j in {1, n-1}|(s[i - filter_width + _i][j - filter_width + _j] * filter[_i][_j])}\n",
        "# ######\n",
        "def conv2d(img: np.ndarray, filter_obj: Union[list, int]):\n",
        "    # check grayscale for transformation using our code\n",
        "    assert isinstance(img[0, 0], np.float64)\n",
        "\n",
        "    # copy image to a numpy array => borders!\n",
        "    image_transformed = np.copy(img)\n",
        "\n",
        "    # size of the (original) image\n",
        "    size_x = image_transformed.shape[0]\n",
        "    size_y = image_transformed.shape[1]\n",
        "\n",
        "    # collect filter and weight from the composite filter_object\n",
        "    filter, weight = filter_obj\n",
        "    size_of_filter = len(filter[0])\n",
        "    filter_width = size_of_filter // 2  # border of matrix\n",
        "\n",
        "    # iterate over the image !! careful at boundaries\n",
        "    for x in range(filter_width, size_x - filter_width):\n",
        "        for y in range(filter_width, size_y - filter_width):\n",
        "            convolution = 0.0\n",
        "            for i in range(0, size_of_filter):\n",
        "                for j in range(0, size_of_filter):\n",
        "                    convolution += img[x - filter_width + i, y - filter_width + j] * filter[i][j]\n",
        "            # div by weight !!\n",
        "            convolution /= weight\n",
        "            # bound between the boundaries of 1byte ~= grayscale\n",
        "            convolution = min(255, max(0, convolution))\n",
        "\n",
        "            image_transformed[x, y] = convolution\n",
        "    return image_transformed"
      ],
      "metadata": {
        "id": "6cMwIlmfHY5X"
      },
      "execution_count": null,
      "outputs": []
    },
    {
      "cell_type": "code",
      "source": [
        "res = conv2d(img_grayscale, sobel_vertical)\n",
        "show_image(res)\n",
        "\n",
        "res = conv2d(img_grayscale, sobel_horizontal)\n",
        "show_image(res)"
      ],
      "metadata": {
        "id": "BRoGz-hQHa7m"
      },
      "execution_count": null,
      "outputs": []
    },
    {
      "cell_type": "markdown",
      "source": [
        "#### Problems"
      ],
      "metadata": {
        "id": "LfCjqT7lQNxN"
      }
    },
    {
      "cell_type": "code",
      "source": [
        "# ..."
      ],
      "metadata": {
        "id": "OeXLjbk0QPiU"
      },
      "execution_count": null,
      "outputs": []
    },
    {
      "cell_type": "markdown",
      "source": [
        "### 2.2) MaxPool2D"
      ],
      "metadata": {
        "id": "JgloKM-THiaO"
      }
    },
    {
      "cell_type": "markdown",
      "source": [
        "#### Theory"
      ],
      "metadata": {
        "id": "V2EEM0ByvF37"
      }
    },
    {
      "cell_type": "markdown",
      "source": [
        "Pooling:\n",
        "  - operation used for dimensional downsampling\n",
        "  - Alternatives:\n",
        "    - max\n",
        "    - min\n",
        "    - average\n",
        "    - ?"
      ],
      "metadata": {
        "id": "HwrMwiNPYVj_"
      }
    },
    {
      "cell_type": "markdown",
      "source": [
        "![](https://drive.google.com/uc?export=view&id=1IC7l4ug6v9nitk8ToiISVjz8pRrMOntq)\n"
      ],
      "metadata": {
        "id": "5z5c7CIPwE-i"
      }
    },
    {
      "cell_type": "markdown",
      "source": [
        "Source: https://developers.google.com/machine-learning/practica/image-classification/convolutional-neural-networks"
      ],
      "metadata": {
        "id": "-zI1mGAwwjm7"
      }
    },
    {
      "cell_type": "markdown",
      "source": [
        "#### Code"
      ],
      "metadata": {
        "id": "zVk9ihwkvIzr"
      }
    },
    {
      "cell_type": "code",
      "source": [
        "# ######\n",
        "# Math: \n",
        "#  s  R{n, n}; s[0][0]; d in R{m, m}; d[0][0] in R;\n",
        "#  d|i, j in {0, m}|[i][j] = max(|_i, _j in {0, conv_size}|{sum|i, j in {0, n, conv_size}|(s[i + _i][j + _j])})\n",
        "# ######\n",
        "def maxpool2d(img: np.ndarray, conv_size: int) -> np.ndarray:\n",
        "    # check grayscale for transformation using our code\n",
        "    assert isinstance(img[0, 0], np.float64)\n",
        "\n",
        "    # size of the (original) image\n",
        "    size_x = img.shape[0]\n",
        "    size_y = img.shape[1]\n",
        "\n",
        "    new_x = size_x // conv_size\n",
        "    new_y = size_y // conv_size\n",
        "\n",
        "    # Create blank image with reduced dimensions\n",
        "    image_transformed = np.zeros((new_x, new_y))\n",
        "\n",
        "    # Iterate over the image\n",
        "    for x in range(0, size_x, conv_size):\n",
        "        for y in range(0, size_y, conv_size):\n",
        "            pixels = []\n",
        "            for i in range(0, conv_size):\n",
        "                for j in range(0, conv_size):\n",
        "                    pixels.append(img[x + i, y + j])\n",
        "\n",
        "            # Get only the largest value and assign to the reduced image\n",
        "            image_transformed[x // conv_size, y // conv_size] = max(pixels)\n",
        "    return image_transformed"
      ],
      "metadata": {
        "id": "fCS-XFkPHhKv"
      },
      "execution_count": null,
      "outputs": []
    },
    {
      "cell_type": "code",
      "source": [
        "res = maxpool2d(img_grayscale, 1)  # careful, conv_size HAS TO DIVIDE shape of input image\n",
        "# res = maxpool2d(img_grayscale, 8)\n",
        "show_image(res)"
      ],
      "metadata": {
        "id": "vhQ36Mb-nET0"
      },
      "execution_count": null,
      "outputs": []
    },
    {
      "cell_type": "markdown",
      "source": [
        "#### Problems"
      ],
      "metadata": {
        "id": "fSAvpvHPP7Pt"
      }
    },
    {
      "cell_type": "code",
      "source": [
        "# ######\n",
        "# Problem 1:\n",
        "# We have an image with pixel values (INT) as presented below.\n",
        "# Use MaxPool2D of 2x2. What is the sum of the pixels in the resulting image?\n",
        "# ######\n",
        "\n",
        "img = [[1, 2, 3, 4],[2, 3, 4, 5],[3, 4, 5, 6],[4, 5, 6, 7]]\n",
        "solution = # YOUR CODE HERE\n",
        "evaluate(problem_id='IP/complex/mp/p1', submitted_solution=solution)"
      ],
      "metadata": {
        "id": "s8z90TSgq4Ih"
      },
      "execution_count": null,
      "outputs": []
    },
    {
      "cell_type": "code",
      "source": [
        "# ######\n",
        "# Problem 2\n",
        "# We have an image with pixel values (INT) as presented below.\n",
        "# Use MaxPool2D of 2x2. What is the sum of the pixels in the resulting image?\n",
        "# ######\n",
        "\n",
        "img = [[1, 2, 3, 4],[2, 3, 4, 5],[3, 4, 5, 6],[4, 5, 6, 7]]\n",
        "solution = # YOUR CODE HERE\n",
        "evaluate(problem_id='IP/complex/mp/p2', submitted_solution=solution)"
      ],
      "metadata": {
        "id": "5MV8PYh6sFMn"
      },
      "execution_count": null,
      "outputs": []
    },
    {
      "cell_type": "markdown",
      "source": [
        "## 3) Commonly used IP concepts/techniques"
      ],
      "metadata": {
        "id": "iu9J5VeZwUvb"
      }
    }
  ]
}