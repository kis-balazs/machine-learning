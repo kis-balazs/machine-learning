{
  "nbformat": 4,
  "nbformat_minor": 0,
  "metadata": {
    "colab": {
      "name": "digit-recognizer",
      "provenance": [],
      "collapsed_sections": [
        "Gg1Ik4KVXUAM",
        "Svb4ntl9gsaT"
      ],
      "machine_shape": "hm",
      "authorship_tag": "ABX9TyO1JrlewjVUtxs2v5p2FGX0",
      "include_colab_link": true
    },
    "kernelspec": {
      "name": "python3",
      "display_name": "Python 3"
    },
    "language_info": {
      "name": "python"
    },
    "accelerator": "GPU"
  },
  "cells": [
    {
      "cell_type": "markdown",
      "metadata": {
        "id": "view-in-github",
        "colab_type": "text"
      },
      "source": [
        "<a href=\"https://colab.research.google.com/github/kis-balazs/machine-learning/blob/main/digit_recognizer.ipynb\" target=\"_parent\"><img src=\"https://colab.research.google.com/assets/colab-badge.svg\" alt=\"Open In Colab\"/></a>"
      ]
    },
    {
      "cell_type": "markdown",
      "source": [
        "# setup"
      ],
      "metadata": {
        "id": "Gg1Ik4KVXUAM"
      }
    },
    {
      "cell_type": "code",
      "source": [
        "!mkdir -p ~/.kaggle\n",
        "!cp kaggle.json ~/.kaggle/kaggle.json\n",
        "!chmod 600 /root/.kaggle/kaggle.json\n",
        "\n",
        "!pip uninstall kaggle --quiet\n",
        "!pip install kaggle==1.5.12 --quiet"
      ],
      "metadata": {
        "id": "dBoj78uBLUYV"
      },
      "execution_count": null,
      "outputs": []
    },
    {
      "cell_type": "code",
      "source": [
        "!kaggle competitions download digit-recognizer"
      ],
      "metadata": {
        "id": "H_pyJOsDLWFR"
      },
      "execution_count": null,
      "outputs": []
    },
    {
      "cell_type": "code",
      "source": [
        "!unzip digit-recognizer.zip"
      ],
      "metadata": {
        "id": "CM-VBI2UXSS0"
      },
      "execution_count": null,
      "outputs": []
    },
    {
      "cell_type": "markdown",
      "source": [
        "# code"
      ],
      "metadata": {
        "id": "eCdRdDRkXV5N"
      }
    },
    {
      "cell_type": "code",
      "source": [
        "import os\n",
        "import csv\n",
        "import numpy as np\n",
        "import pandas as pd\n",
        "\n",
        "from PIL import Image"
      ],
      "metadata": {
        "id": "GatsgtK2DIif"
      },
      "execution_count": null,
      "outputs": []
    },
    {
      "cell_type": "code",
      "source": [
        "import tensorflow as tf\n",
        "from tensorflow import keras\n",
        "from keras.preprocessing.image import ImageDataGenerator\n",
        "\n",
        "from sklearn.model_selection import train_test_split"
      ],
      "metadata": {
        "id": "gjYmuscQDI9m"
      },
      "execution_count": null,
      "outputs": []
    },
    {
      "cell_type": "markdown",
      "source": [
        "## NN"
      ],
      "metadata": {
        "id": "V5dnbAr0iLRP"
      }
    },
    {
      "cell_type": "markdown",
      "source": [
        "### data preprocessing"
      ],
      "metadata": {
        "id": "HFBdHPKUbfd2"
      }
    },
    {
      "cell_type": "code",
      "source": [
        "def get_data(df: pd.DataFrame, train=True):\n",
        "    print('$> ', end='')\n",
        "    images, labels = [], []\n",
        "    for idx, entry in df.iterrows():\n",
        "        if train:\n",
        "            labels.append(entry[0])\n",
        "            images.append(entry[1:785])\n",
        "        else:\n",
        "            images.append(entry[0:784])\n",
        "        if idx % 2_000 == 0:\n",
        "            print(f'{idx}..', end='')\n",
        "\n",
        "    images = np.array(images).astype('float')\n",
        "    labels = np.array(labels).astype('float')\n",
        "    print()\n",
        "    return images, labels"
      ],
      "metadata": {
        "id": "Z435CJNWDbyc"
      },
      "execution_count": null,
      "outputs": []
    },
    {
      "cell_type": "code",
      "source": [
        "train_x, train_y = get_data(pd.read_csv('train.csv'))\n",
        "test_x, test_y = get_data(pd.read_csv('test.csv'), train=False)\n",
        "\n",
        "train_x /= 255.0\n",
        "test_x /= 255.0\n",
        "\n",
        "train_x, val_x, train_y, val_y = train_test_split(\n",
        "    train_x, train_y,\n",
        "    test_size=.33,\n",
        "    random_state=42  # hihi funny number\n",
        ")\n",
        "\n",
        "print('\\ntrain:', train_x.shape, train_y.shape)\n",
        "print('val:', val_x.shape, val_y.shape)\n",
        "print('test:', test_x.shape, test_y.shape)"
      ],
      "metadata": {
        "id": "ZNwmPFLsDd6M"
      },
      "execution_count": null,
      "outputs": []
    },
    {
      "cell_type": "code",
      "source": [
        "if len(train_x.shape) == 2:  # still 2\n",
        "    # make 2d image\n",
        "    train_x = np.array([np.array_split(sample, 28) for sample in train_x])\n",
        "    val_x = np.array([np.array_split(sample, 28) for sample in val_x])\n",
        "    test_x = np.array([np.array_split(sample, 28) for sample in test_x])\n",
        "    \n",
        "    # pivot axis = 3\n",
        "    train_x = np.expand_dims(train_x, axis=3)\n",
        "    val_x = np.expand_dims(val_x, axis=3)\n",
        "    test_x = np.expand_dims(test_x, axis=3)\n",
        "else:\n",
        "    print('No dimension expansion on images, once done')"
      ],
      "metadata": {
        "id": "wFQhM8XmDpMU"
      },
      "execution_count": null,
      "outputs": []
    },
    {
      "cell_type": "code",
      "source": [
        "print('train:', train_x.shape, train_y.shape)\n",
        "print('val:', val_x.shape, val_y.shape)\n",
        "print('test:', test_x.shape, test_y.shape)"
      ],
      "metadata": {
        "id": "mZ5fFnx5o5Tw"
      },
      "execution_count": null,
      "outputs": []
    },
    {
      "cell_type": "markdown",
      "source": [
        "### model + training"
      ],
      "metadata": {
        "id": "XiXGs0rkbh_q"
      }
    },
    {
      "cell_type": "code",
      "source": [
        "model = tf.keras.models.Sequential([\n",
        "    keras.layers.Conv2D(128, (3, 3), activation='relu', input_shape=train_x[0].shape),\n",
        "    keras.layers.MaxPool2D(2, 2),\n",
        "    keras.layers.Conv2D(64, (3, 3), activation='relu'),\n",
        "    keras.layers.MaxPool2D(2, 2),\n",
        "\n",
        "    keras.layers.Flatten(),\n",
        "    keras.layers.Dropout(.3),\n",
        "    keras.layers.Dense(128, activation='relu'),\n",
        "    keras.layers.Dense(10, activation='softmax')   \n",
        "])"
      ],
      "metadata": {
        "id": "fGY53vesDwUx"
      },
      "execution_count": null,
      "outputs": []
    },
    {
      "cell_type": "code",
      "source": [
        "model.summary()"
      ],
      "metadata": {
        "id": "hhv9MPKqlvUU"
      },
      "execution_count": null,
      "outputs": []
    },
    {
      "cell_type": "code",
      "source": [
        "model.compile(\n",
        "    optimizer='rmsprop',\n",
        "    loss='sparse_categorical_crossentropy',\n",
        "    metrics=['accuracy']\n",
        ")"
      ],
      "metadata": {
        "id": "oXQTcV2WDyPl"
      },
      "execution_count": null,
      "outputs": []
    },
    {
      "cell_type": "code",
      "source": [
        "es = keras.callbacks.EarlyStopping(monitor='val_accuracy', mode='max', verbose=1, patience=5)"
      ],
      "metadata": {
        "id": "IOTWPlFhlq6X"
      },
      "execution_count": null,
      "outputs": []
    },
    {
      "cell_type": "code",
      "source": [
        "history = model.fit(\n",
        "    x=train_x,\n",
        "    y=train_y,\n",
        "    epochs=100,\n",
        "    batch_size=128,\n",
        "    validation_data=(val_x, val_y),\n",
        "    callbacks=[es],\n",
        "    verbose=1\n",
        ")"
      ],
      "metadata": {
        "id": "i4aZbdrNDz63"
      },
      "execution_count": null,
      "outputs": []
    },
    {
      "cell_type": "code",
      "source": [
        "%matplotlib inline\n",
        "import matplotlib.pyplot as plt\n",
        "\n",
        "acc = history.history['accuracy']\n",
        "val_acc = history.history['val_accuracy']\n",
        "loss = history.history['loss']\n",
        "val_loss = history.history['val_loss']\n",
        "\n",
        "epochs = range(len(acc))\n",
        "\n",
        "plt.plot(epochs, acc, 'r', label='Training accuracy')\n",
        "plt.plot(epochs, val_acc, 'b', label='Validation accuracy')\n",
        "plt.title('Training and validation accuracy')\n",
        "plt.legend()\n",
        "plt.figure()\n",
        "\n",
        "plt.plot(epochs, loss, 'r', label='Training Loss')\n",
        "plt.plot(epochs, val_loss, 'b', label='Validation Loss')\n",
        "plt.title('Training and validation loss')\n",
        "plt.legend()\n",
        "\n",
        "plt.show()"
      ],
      "metadata": {
        "id": "4JpdPrPND2Rg"
      },
      "execution_count": null,
      "outputs": []
    },
    {
      "cell_type": "markdown",
      "source": [
        "## KNeighbors"
      ],
      "metadata": {
        "id": "Svb4ntl9gsaT"
      }
    },
    {
      "cell_type": "code",
      "source": [
        "train = pd.read_csv(\"train.csv\")\n",
        "test = pd.read_csv(\"test.csv\")\n",
        "\n",
        "train_x = (train.iloc[:,1:].values).astype('float32')\n",
        "train_y = train.iloc[:,0].values.astype('int32')\n",
        "test_x = test.values.astype('float32') "
      ],
      "metadata": {
        "id": "sQONakhSgr5I"
      },
      "execution_count": null,
      "outputs": []
    },
    {
      "cell_type": "code",
      "source": [
        "from sklearn.neighbors import KNeighborsClassifier\n",
        "knn = KNeighborsClassifier(n_neighbors=10)\n",
        "knn.fit(train_x, train_y)"
      ],
      "metadata": {
        "id": "6PiGBK5khF4d"
      },
      "execution_count": null,
      "outputs": []
    },
    {
      "cell_type": "markdown",
      "source": [
        "## prediction + solution generation"
      ],
      "metadata": {
        "id": "vpWg0dAKbkS3"
      }
    },
    {
      "cell_type": "code",
      "source": [
        "# NN\n",
        "yy = model.predict(test_x)\n",
        "yy_labels = np.array([np.argmax(y) for y in yy])\n",
        "\n",
        "# KNN\n",
        "# yy_labels = knn.predict(test_x)\n",
        "\n",
        "# ###\n",
        "solution = pd.DataFrame({\n",
        "    'ImageId': np.arange(1, len(test_x) + 1),\n",
        "    'Label': yy_labels\n",
        "})\n",
        "\n",
        "solution.to_csv('solution.csv', index=False)"
      ],
      "metadata": {
        "id": "NcGopae9D42M"
      },
      "execution_count": null,
      "outputs": []
    },
    {
      "cell_type": "code",
      "source": [
        "# TODO update comment when submitting\n",
        "!kaggle competitions submit -c digit-recognizer -f solution.csv -m \"Balazs @ 14.03.2022 -- interesting changes\""
      ],
      "metadata": {
        "id": "k9cnrDVbfSL5"
      },
      "execution_count": null,
      "outputs": []
    }
  ]
}
