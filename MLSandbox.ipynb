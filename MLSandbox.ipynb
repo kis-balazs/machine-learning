{
  "nbformat": 4,
  "nbformat_minor": 0,
  "metadata": {
    "colab": {
      "name": "research",
      "provenance": [],
      "collapsed_sections": [
        "4ujsX2B0DtgV",
        "CT8rJwdmjZyl",
        "kJTaqagN58NV",
        "lLiV64Mg5Teb",
        "Cm2yqJDh9m6-",
        "QAtMrO9A4qaq",
        "6vnL26rx4bVp",
        "ZluQyR2w4laG",
        "3dLC6Uso417A",
        "Recq8nDr5oVi",
        "4wGRq2hqo5gM",
        "2Uqx4u6W_uxq",
        "9H_ZAOYrLZd5",
        "4mgzn_qV7b8p",
        "b5IR9H9H7fVu",
        "Lbnn53op7mbp"
      ],
      "machine_shape": "hm",
      "authorship_tag": "ABX9TyOHn2OTKNlet8UfuVVnblbi",
      "include_colab_link": true
    },
    "kernelspec": {
      "display_name": "Python 3",
      "name": "python3"
    },
    "language_info": {
      "name": "python"
    }
  },
  "cells": [
    {
      "cell_type": "markdown",
      "metadata": {
        "id": "view-in-github",
        "colab_type": "text"
      },
      "source": [
        "<a href=\"https://colab.research.google.com/github/kis-balazs/machine-learning/blob/main/MLSandbox.ipynb\" target=\"_parent\"><img src=\"https://colab.research.google.com/assets/colab-badge.svg\" alt=\"Open In Colab\"/></a>"
      ]
    },
    {
      "cell_type": "code",
      "metadata": {
        "id": "6GSlNwwuppO2"
      },
      "source": [
        "import random\n",
        "\n",
        "import seaborn as sns\n",
        "import numpy as np\n",
        "import pandas as pd\n",
        "import matplotlib.pyplot as plt"
      ],
      "execution_count": null,
      "outputs": []
    },
    {
      "cell_type": "markdown",
      "metadata": {
        "id": "4ujsX2B0DtgV"
      },
      "source": [
        "# !!! sequence timeseries dataset"
      ]
    },
    {
      "cell_type": "code",
      "metadata": {
        "id": "ybdlefg2Dyrb"
      },
      "source": [
        "import numpy as np\n",
        "import pandas as pd\n",
        "\n",
        "import torch\n",
        "from torch.utils.data import Dataset, DataLoader"
      ],
      "execution_count": null,
      "outputs": []
    },
    {
      "cell_type": "code",
      "metadata": {
        "id": "t39SRES-D9XA"
      },
      "source": [
        "df = pd.DataFrame({\n",
        "    'i1': np.arange(0, 2, .1),\n",
        "    'i2': np.arange(2, 4, .1),\n",
        "    'target': np.arange(2, 6, .2) \n",
        "})"
      ],
      "execution_count": null,
      "outputs": []
    },
    {
      "cell_type": "code",
      "metadata": {
        "id": "Bc4FaWX_RiRr"
      },
      "source": [
        "xs = df[['i1', 'i2']]\n",
        "ys = df['target']"
      ],
      "execution_count": null,
      "outputs": []
    },
    {
      "cell_type": "markdown",
      "source": [
        "### create DataLoader code using torch"
      ],
      "metadata": {
        "id": "trfCKmnIjdZe"
      }
    },
    {
      "cell_type": "code",
      "metadata": {
        "id": "CPs8kKDLK9OM"
      },
      "source": [
        "class SequenceDataset(Dataset):\n",
        "    def __init__(self, x, y, time_steps=5):\n",
        "        \"\"\"create datasets in the following fashion: i..j x features => j+1 target\"\"\"\n",
        "        self.time_steps = time_steps\n",
        "        xs, ys = [], []\n",
        "        for i in range(len(x) - time_steps):\n",
        "            v = x.iloc[i:(i + time_steps)].values\n",
        "            xs.append(v)\n",
        "            ys.append(y.iloc[i + time_steps])\n",
        "        self.xs = torch.from_numpy(np.array(xs)).float()\n",
        "        self.ys = torch.from_numpy(np.array(ys)).float()\n",
        "\n",
        "    def __len__(self):\n",
        "        return self.xs.shape[0]\n",
        "\n",
        "    def __getitem__(self, i):\n",
        "        return self.xs[i], self.ys[i]"
      ],
      "execution_count": null,
      "outputs": []
    },
    {
      "cell_type": "code",
      "metadata": {
        "id": "stMpQ1seK_By"
      },
      "source": [
        "ds = SequenceDataset(\n",
        "    x=xs,\n",
        "    y=ys,\n",
        "    time_steps=3\n",
        ")\n",
        "ld_torch = DataLoader(\n",
        "    ds,\n",
        "    batch_size=2,\n",
        "    shuffle=False\n",
        ")"
      ],
      "execution_count": null,
      "outputs": []
    },
    {
      "cell_type": "markdown",
      "source": [
        "### create DataLoader code alternative using keras"
      ],
      "metadata": {
        "id": "CT8rJwdmjZyl"
      }
    },
    {
      "cell_type": "code",
      "source": [
        "from tensorflow import keras"
      ],
      "metadata": {
        "id": "oMAUzKb0jfZU"
      },
      "execution_count": null,
      "outputs": []
    },
    {
      "cell_type": "code",
      "source": [
        "# https://www.tensorflow.org/api_docs/python/tf/keras/preprocessing/sequence/TimeseriesGenerator\n",
        "train_gen = keras.preprocessing.sequence.TimeseriesGenerator(\n",
        "    data=xs,\n",
        "    targets=ys,\n",
        "    length=3,\n",
        "    sampling_rate=1,\n",
        "    batch_size=1\n",
        ")\n",
        "\n",
        "ld_keras = DataLoader(\n",
        "    train_gen,\n",
        "    batch_size=2,\n",
        "    shuffle=False\n",
        ")"
      ],
      "metadata": {
        "id": "WWztb-huj9tr"
      },
      "execution_count": null,
      "outputs": []
    },
    {
      "cell_type": "markdown",
      "source": [
        "### windowed dataset generator"
      ],
      "metadata": {
        "id": "kJTaqagN58NV"
      }
    },
    {
      "cell_type": "code",
      "source": [
        "import tensorflow as tf\n",
        "\n",
        "def windowed_dataset(series, window_size, batch_size, shuffle_buffer=None):\n",
        "  dataset = tf.data.Dataset.from_tensor_slices(series)\n",
        "  dataset = dataset.window(window_size + 1, shift=1, drop_remainder=True)\n",
        "  dataset = dataset.flat_map(lambda window: window.batch(window_size + 1))\n",
        "  if shuffle_buffer:\n",
        "    dataset = dataset.shuffle(shuffle_buffer).map(lambda window: (window[:-1], window[-1]))\n",
        "  dataset = dataset.batch(batch_size).prefetch(1)\n",
        "  return dataset"
      ],
      "metadata": {
        "id": "RObdomVZ57qA"
      },
      "execution_count": null,
      "outputs": []
    },
    {
      "cell_type": "code",
      "source": [
        "ds = windowed_dataset(xs, window_size=2, batch_size=1)\n",
        "\n",
        "print(next(iter(ds)))"
      ],
      "metadata": {
        "colab": {
          "base_uri": "https://localhost:8080/"
        },
        "id": "9LngIzSG6Dsg",
        "outputId": "621e227e-b132-47f1-ea73-11916e896eb1"
      },
      "execution_count": null,
      "outputs": [
        {
          "output_type": "stream",
          "name": "stdout",
          "text": [
            "tf.Tensor(\n",
            "[[[0.  2. ]\n",
            "  [0.1 2.1]\n",
            "  [0.2 2.2]]], shape=(1, 3, 2), dtype=float64)\n"
          ]
        }
      ]
    },
    {
      "cell_type": "markdown",
      "source": [
        "### compare torch <=> keras"
      ],
      "metadata": {
        "id": "GkGS9-eZnPh8"
      }
    },
    {
      "cell_type": "code",
      "source": [
        "print('Torch dataloader first value:')\n",
        "x, y = next(iter(ld_torch))\n",
        "print('\\t<Xs>:', x)\n",
        "print('\\t<Ys>:', y)\n",
        "print()\n",
        "print('Keras dataloader first value:')\n",
        "x, y = next(iter(ld_keras))\n",
        "print('\\t<Xs>:', x)\n",
        "print('\\t<Ys>:', y)"
      ],
      "metadata": {
        "colab": {
          "base_uri": "https://localhost:8080/"
        },
        "id": "3w-DvGO6lZAU",
        "outputId": "b4839a50-653e-4796-9b08-42e0f8445e50"
      },
      "execution_count": null,
      "outputs": [
        {
          "output_type": "stream",
          "name": "stdout",
          "text": [
            "Torch dataloader first value:\n",
            "\t<Xs>: tensor([[[0.0000, 2.0000],\n",
            "         [0.1000, 2.1000],\n",
            "         [0.2000, 2.2000]],\n",
            "\n",
            "        [[0.1000, 2.1000],\n",
            "         [0.2000, 2.2000],\n",
            "         [0.3000, 2.3000]]])\n",
            "\t<Ys>: tensor([2.6000, 2.8000])\n",
            "\n",
            "Keras dataloader first value:\n",
            "\t<Xs>: tensor([[[[0.0000, 2.0000],\n",
            "          [0.1000, 2.1000],\n",
            "          [0.2000, 2.2000]]],\n",
            "\n",
            "\n",
            "        [[[0.1000, 2.1000],\n",
            "          [0.2000, 2.2000],\n",
            "          [0.3000, 2.3000]]]], dtype=torch.float64)\n",
            "\t<Ys>: tensor([[2.6000],\n",
            "        [2.8000]], dtype=torch.float64)\n"
          ]
        }
      ]
    },
    {
      "cell_type": "markdown",
      "metadata": {
        "id": "qLHDkU4T7USr"
      },
      "source": [
        "# torch xps"
      ]
    },
    {
      "cell_type": "code",
      "source": [
        "import torch.nn as nn\n",
        "import torch.optim as optim"
      ],
      "metadata": {
        "id": "ruquGOMh8Ktp"
      },
      "execution_count": null,
      "outputs": []
    },
    {
      "cell_type": "code",
      "source": [
        "# load loss from string :D\n",
        "import re\n",
        "\n",
        "pickled_loss = \"<class 'torch.nn.modules.loss.L1Loss'>\"\n",
        "loss_str = re.match(r'<class\\s\\'(?P<name>.*)\\'>', pickled_loss).group('name')\n",
        "\n",
        "l = eval(loss_str)\n",
        "print(l)"
      ],
      "metadata": {
        "colab": {
          "base_uri": "https://localhost:8080/"
        },
        "id": "GmIJgIxH45rb",
        "outputId": "75b01755-4bf0-4c98-bbd4-fa0905efa461"
      },
      "execution_count": null,
      "outputs": [
        {
          "output_type": "stream",
          "name": "stdout",
          "text": [
            "<class 'torch.nn.modules.loss.L1Loss'>\n"
          ]
        }
      ]
    },
    {
      "cell_type": "code",
      "source": [
        "# load optimizer from string :D\n",
        "\n",
        "pickled_optimizer = \"<class 'torch.optim.adamw.AdamW'>\"\n",
        "optimizer_str = re.match(r'<class\\s\\'(?P<name>.*)\\'>', pickled_optimizer).group('name')\n",
        "optimizer_components = optimizer_str.split('.')\n",
        "del optimizer_components[2]\n",
        "optimizer_str = '.'.join(optimizer_components)\n",
        "\n",
        "l = eval(optimizer_str)\n",
        "print(l)"
      ],
      "metadata": {
        "colab": {
          "base_uri": "https://localhost:8080/"
        },
        "id": "2IgIhvkr74LG",
        "outputId": "b7365bfb-edad-472c-cc7a-d0258c45e4e9"
      },
      "execution_count": null,
      "outputs": [
        {
          "output_type": "stream",
          "name": "stdout",
          "text": [
            "<class 'torch.optim.adamw.AdamW'>\n"
          ]
        }
      ]
    },
    {
      "cell_type": "markdown",
      "metadata": {
        "id": "lLiV64Mg5Teb"
      },
      "source": [
        "## RNN **nlp**"
      ]
    },
    {
      "cell_type": "code",
      "metadata": {
        "id": "ymrTTIaPDLPZ"
      },
      "source": [
        "import torch\n",
        "from torch import nn\n",
        "\n",
        "import numpy as np"
      ],
      "execution_count": null,
      "outputs": []
    },
    {
      "cell_type": "markdown",
      "metadata": {
        "id": "Cm2yqJDh9m6-"
      },
      "source": [
        "### dataset"
      ]
    },
    {
      "cell_type": "code",
      "metadata": {
        "id": "-U4YnP8s57Ua"
      },
      "source": [
        "# source1: https://www.englishspeak.com/en/english-phrases\n",
        "text_input = \"Be careful.Be careful driving.Can you translate this for me?Chicago is very different from Boston.Don't worry.Everyone knows it.Everything is ready.Excellent.From time to time.Good idea.He likes it very much.Help!He's coming soon.He's right.He's very annoying.He's very famous.How are you?How's work going?Hurry!I ate already.I can't hear you.I'd like to go for a walk.I don't know how to use it.I don't like him.I don't like it.I don't speak very well.I don't understand.I don't want it.I don't want that.I don't want to bother you.I feel good.If you need my help please let me know.I get off of work at 6.I have a headache.I hope you and your wife have a nice trip.I know.I like her.I'll call you when I leave.I'll come back later.I'll pay.I'll take it.I'll take you to the bus stop.I lost my watch.I love you.I'm an American.I'm cleaning my room.I'm cold.I'm coming to pick you up.I'm going to leave.I'm good and you?I'm happy.I'm hungry.I'm married.I'm not busy.I'm not married.I'm not ready yet.I'm not sure.I'm sorry we're sold out.I'm thirsty.I'm very busy.I don't have time now.I need to change clothes.I need to go home.I only want a snack.Is Mr.Smith an American?Is that enough?I think it's very good.I think it tastes good.I thought the clothes were cheaper.It's longer than 2 miles.I've been here for two days.I've heard Texas is a beautiful place.I've never seen that before.I was about to leave the restaurant when my friends arrived.Just a little.Just a moment.Let me check.Let me think about it.Let's go have a look.Let's practice English.May I speak to Mrs.Smith please?More than that.Never mind.Next time.No.Nonsense.No thank you.Nothing else.Not recently.Not yet.Of course.Okay.Please fill out this form.Please take me to this address.Please write it down.Really?Right here.Right there.See you later.See you tomorrow.See you tonight.She's pretty.Sorry to bother you.Stop!Take a chance.Take it outside.Tell me.Thanks for everything.Thanks for your help.Thank you.Thank you miss.Thank you sir.Thank you very much.That looks great.That's alright.That's enough.That's fine.That's it.That smells bad.That's not fair.That's not right.That's right.That's too bad.That's too many.That's too much.The book is under the table.They'll be right back.They're the same.They're very busy.This doesn't work.This is very difficult.This is very important.Try it.Very good thanks.We like it very much.Would you take a message please?Yes really.You're beautiful.You're very nice.You're very smart.Your things are all here.\""
      ],
      "execution_count": null,
      "outputs": []
    },
    {
      "cell_type": "code",
      "source": [
        "# source2: https://englishgrammarhere.com/speaking/100-english-sentences-used-in-daily-life/\n",
        "text_input += \"A lovely day isn’t it?Do i have to?Can I help you?How are things going?Any thing else?Are you kidding?Are you sure?Do you understand me?Are you done?Can I ask you something?Can you please repeat that?Did you get it?Do you need anything?How are you?How do you feel?How much is it?How old are you?How was your weekend?Is all good?Is everything OK?What are you doing?What are you talking about?What are you up to?What are your hobbies?What did you say?What do you need?What do you think?What do you want to do?What do you want?What’s the weather like?What’s your e-mail address?What is your job?What’s your name?What’s your phone number?What is going on?When is the train leaving?How can I go to the town centre?Where are you from?Where are you going?Where are you?Where did you get it?Where do you live?Are you coming with me?How long will you stay?I agree.I’m at home.It’s on the tip of my tongue.It’s ok.It really takes time.It’s fort he best.No I don’t want.See you.See you next time.So I do.So so.Allow me.Any day will do.Be calm.Be careful!Be quiet!Cheer up!Come on.Don’t be ridiculous.Don’t be so childish.Don’t move!Don’t worry.Enjoy yourself.Follow me.Forgive me.Forget it.God bless you.It’s very thoughtful of you.It’s up to you.It’s none of you business.Shut up.Slow down.Stop making such a noise.You are going too fast.Come with me.Good afternoon.Good morning.Good night.Have a good trip.Have a good weekend.I admire you.I apologize.I can’t wait.I don’t have time.I got it.I hate you!I hope so.I knew it.I love you.I would love to.I am busy.I am tired.I don’t agree.You are wasting my time.I feel much better.They like each other.I’m sorry.I’m good.It doesn’t matter.Join me.Let’s catch up!Let’s do it.Nice to meet you.Not yet.Talk to you tomorrow.Thank you very much.You turn.Believe me.Call me back.As soon as possible.Do me a favor.Give me a hand.I do not understand.I do not mean it.I decline!I’m on a diet.I just made it.I’m sorry!Absolutely not.I have no idea.\"\n",
        "text_input += \"Hello jack.How are you?You look a little bad today is everything okay?I am very pleased to meet you can I please have your phone number?Hello I just came to this school.Can I meet you?Where are you from and what do you like can I learn?Good afternoon can I have a menu please?If I ask can I have water with my meal?Everything was very nice I will come again.I told you the whole incident from the very beginning.Did you understand me?Please say something.Shall we go to the cinema today?Are you feeling alright?If you want we can sit at home today.\""
      ],
      "metadata": {
        "id": "cZvxk87ND_4w"
      },
      "execution_count": null,
      "outputs": []
    },
    {
      "cell_type": "code",
      "source": [
        "# source3: https://learnenglishfunway.com/365-common-english-sentences-used-in-daily-life/\n",
        "text_input += \"Absolutely.Absolutely impossible!All I have to do is learn English.Are you free tomorrow?Are you married?Are you used to the food here?Be careful.Be my guest.Better late than never.Better luck next time.Better safe than sorry.Can I have a day off?Can I help?Can I take a message?Can I take a rain check?an I take your order?Can you give me a wake-up call.Can you give me some feedback?Can you make it?Can I have a word with you?Catch me later.Cheer up!Come in and make yourself at home.Could I have the bill please?Could you drop me off at the airport?Could you speak slower?Could you take a picture for me.Did you enjoy your flight?Did you have a good day today?Did you have a nice holiday?Did you have fun?Dinner is on me.Do you have a room available?Do you have any hobbies?Do you have some change?Do you mind my smoking?Do you often work out?Do you speak English?Don’t be so modest.\"\n",
        "text_input += \"Don’t bother.Don’t get me wrong.Don’t give up.Don’t jump to conclusions.Don’t let me down.Don’t make any mistakes.Don’t mention it.Don’t miss the boat.Don’t take any chances.Don’t take it for granted.Don’t worry about it.Easy come easy go.Enjoy your meal.Easier said than done.First come first served.For here or to go?Forget it.Forgive me.Give me a call.Give my best to your family.Have him return my call.Have you ever been to Japan?Have you finished yet?Have you got anything larger?Have you got that?Have you heard from Mary?He is in conference.Help yourself please.Hold your horses.How can I get in touch with you?How do I look?How is it going?How late are you open?How long did it last?How long will it take me to get there?How much is it?How often do you eat out?I apologize.I appreciate your invitation.\"\n",
        "text_input += \"I assure you.I bet you can.I can manage.I can’t afford it.I can’t believe it.I can’t resist the temptation.I can’t stand it.I can’t tell.I couldn’t agree more.I couldn’t get through.I couldn’t help it.I didn’t mean to.I don’t know for sure.I enjoy your company.I enjoyed it very much.I envy you.I feel like having some dumplings.I feel terrible about it.I feel the same way.I have a complaint.I have nothing to do with it.I haven’t the slightest idea.I hope you’ll forgive me.I know the feeling.I mean what I say.I owe you one.I really regret it.I suppose so.I thought so too.I understand completely.I want to report a theft.I want to reserve a room.I was just about to call you.I was moved. = I was touched.I wasn’t aware of that.I wasn’t born yesterday.I wish I could.I wouldn’t worry about it if I we’re you.I’d like a refund.I’d like to deposit some money.I’d like to make a reservation.I’ll be right with you.I’ll check it.I’ll do my best.I’ll get it.I’ll give you a hand.I’ll have to see about that.\"\n",
        "text_input += \"I’ll keep my eyes open.I’ll keep that in mind.I’ll pick up the tab.I’ll play it by ear.I’ll see what I can do.I’ll show you.I’ll take care of it.I’ll take it.I’ll take your advice.I’ll think it over.I’ll treat you to diner.I’ll walk you to the door.I’m broke.I’m crazy about English.I’m easy to please.I’m glad to hear that.I’m glad you enjoyed it.I’m good at it.I’m in a good mood.I’m in good shape.I’m just having a look.I’m looking for a part-time job.I’m looking forward to it.I’m lost.I’m not feeling well.I’m not myself today.I’m not really sure.I’m on a diet.I’m on my way.I’m pressed for time.I’m sorry I’m late.I’m sorry to hear that.I’m under a lot of pressure.I’m working on it.I’ve changed my mind.I’ve got a headache.I’ve got my hands full.I’ve got news for you.I’ve got no idea.I’ve had enough.If I we re in your shoes.Is that OK?\"\n",
        "text_input += \"Is this seat taken.It all depends.It can happen to anyone.It doesn’t make any difference.It doesn’t matter to me.It doesn’t work.It drives me crazy.It isn’t much.It really comes in handy.It slipped my mind.It takes time.It will come to me.It will do you good.It won’t happen again.It won’t take much time.It won’t work.It’s nice meeting you.It’s a deal.It’s a long story.It’s a nice day today.It’s a once in a lifetime chance.It’s a pain in the neck.It’s a piece of cake.It’s a small world.It’s a waste of time.It’s about time.It’s all my fault.It’s awesome.It’s awful.It’s been a long time.It’s better than nothing.It’s essential.It’s hard to say.It’s incredible.It’s just what I had in mind.It’s my pleasure.It’s no big deal.It’s not your fault.It’s nothing.It’s only a matter of time.\"\n",
        "text_input += \"It’s out of the question.It’s time for dinner.It’s up in the air.It’s up to date.It’s up to you.It’s very popular.It’s worth seeing.Just let it be.Just to be on the safe side.Keep the change.Keep up the good work.Keep your fingers crossed.Kill two birds with one stone.Let me get back to you.Let me guess.Let me put it this way.Let me see.Let’s call it a day.Let’s celebrate!Let’s find out.Let’s get to the point.Let’s get together sometime.Let’s hope for the best.Let’s keep in touch.Let’s make up.Let’s go visit them.Let’s talk over dinner.Long time no see.Look before you leap.May I ask you a question?May I have a receipt?May I have your name please?May I pay by credit card?May I try it on?Maybe it will work.Maybe some other time.My mouth is watering.My phone was out of order.\"\n",
        "text_input += \"No pain no gain.No problem.Nothing is impossible to a willing heart.Pain past is pleasure.Please accept my apology.Please don’t blame yourself.Please leave me alone.Please let me know.Please make yourself at home.Please show me the menu.Probably.So far so good.Something must be done about it.Something’s come up.Storms make trees take deeper roots.Suit yourself.Take care.Take it or leave it.Take my word for it.Take your time.Thank you all the same.Thank you for everything.Thanks a million.Thanks for the warning.Thanks for your cooperation.That couldn’t be better.That depends.That makes sense.That reminds me.That rings a bell.That sounds like a good idea.That’s all right.That’s disgusting.That’s fair.That’s for sure.That’s good to know.\"\n",
        "text_input += \"That’s just what I was thinking.That’s life.That’s more like it.That’s not a problem.That’s not true.That’s OK.That’s ridiculous.That’s the way I look at it too.That’s the way it is.That’s worthwhile.The same to you.The shortest answer is doing.The sooner the better.There is a call for you.There is no doubt about it.There is nothing I can do.There’s a possibility.These things happen all the time.This soup tastes great.Time is money.Tomorrow never comes.Two heads are better than one.We are in the same boat.We can get by.We can work it out.We have a lot in common.We’ll see.What a coincidence.What a shame.What are you up to?What are you talking a bout?What are your plans for the weekend?\"\n",
        "text_input += \"What can I do for you?What do you do for relaxation?What do you recommend?What do you think of my new car?What do you think of it?What is it about?What is it like there?What makes you say so?What’s going on?What’s on your mind?What’s the deadline?What’s the matter with you?What’s the purpose of your visit?What’s the weather like?What’s your favorite food?What’s your job?Whatever you think is fine with me.When is the most convenient time for you?When will it be ready?Where are you going?Where can I check in?Where can I go for help?Where do you live?Where have you been?Where is the rest room please?Where were we?Who is in charge here?Would you care for a drink?\"\n",
        "text_input += \"Would you do me a favor?You are just saying that.You are kidding.You are so considerate.You can count on me.You can say that again.You can’t complain.You deserve it.You did a good job.You get what you pay for.You got a good deal.You need a vacation.You never know.You said it.You should give it a try.You should take advantage of it.You will be better off.You will have to wait and see.You’ll get used to it.You’ve dialed the wrong number.You’ve got a point there.You’ve got it.You’ve made a good choice.Your satisfaction is guaranteed.\""
      ],
      "metadata": {
        "id": "6NH6uhevH6Aj"
      },
      "execution_count": null,
      "outputs": []
    },
    {
      "cell_type": "code",
      "source": [
        "# Need WAY more data if want to specialise this small model for something\n",
        "# # source4: https://lingua.com/english/reading/\n",
        "# # A1\n",
        "# text_input += \"I live in a house near the mountains. I have two brothers and one sister and I was born last. My father teaches mathematics and my mother is a nurse at a big hospital. My brothers are very smart and work hard in school. My sister is a nervous girl but she is very kind. My grandmother also lives with us. She came from Italy when I was two years old. She has grown old but she is still very strong. She cooks the best food! My family is very important to me. We do lots of things together. My brothers and I like to go on long walks in the mountains. My sister likes to cook with my grandmother. On the weekends we all play board games together. We laugh and always have a good time. I love my family very much. \"\n",
        "# # A2\n",
        "# text_input += \"Hi Fred! It's been a while since we have been in touch. How has your semester been? I wanted to send you an email update to you let you know how things have been going during my semester abroad here in Málaga Spain. I've already been here for six weeks and I feel like I am finally adapting to the culture. I'm also speaking the language more fluently. I arrived during the first week of September. The weather has been very nice. Even though it's October it's still rather sunny and warm. In fact I went to the beach and swam in the Mediterranean Sea earlier today. I am living with a very welcoming host family. I have my own private bedroom but we eat breakfast lunch and dinner together. On Sundays we eat a big home-cooked paella for lunch. In Spain lunch is usually the biggest meal of the day. It's also very common for the people to take a midday nap right after a big meal. I am actually just waking up from my nap right now! On weekdays I take classes at the local university. There I met several native Spanish speakers. They have been very kind and patient with me. At first I struggled to comprehend their Spanish but now I understand most of our conversations. They have commented that my Spanish has improved a lot since we first met. Now I am more confident to use the language in other places like stores and restaurants. I am so glad that I decided to spend the semester here in Spain. We have an extended weekend coming up so a group of my friends and I are going to travel to France for four days. It's so easy and inexpensive to travel internationally in Europe. I love it! I look forward to hearing from you soon. Like I said don't hesitate to stay in touch more often. Perhaps you could even come to visit! What do you think?\"\n",
        "# # B2\n",
        "# text_input += \"Last April John took a trip to Las Vegas Nevada. Las Vegas is a popular destination in the western portion of the United States. The town is most popular for its casinos hotels and exciting nightlife. In downtown Las Vegas John spent a lot of time on The Strip which is a 2.5 mile stretch of shopping entertainment venues luxury hotels and fine dining experiences. This is probably the most commonly visited tourist area in the city. The Strip at night looks especially beautiful. All of the buildings light up with bright neon eye-catching signs to attract visitor attention. A stay in Las Vegas can feel similar to a visit to many popular cities worldwide. Many of the hotels have miniature versions of important international sites and monuments. These famous landmarks include the Eiffel Tower Venice and even ancient Rome. One day John took a side trip outside of the city to visit the Grand Canyon one of the Seven Wonders of the Natural World. The canyon offers a breathtaking view of Nevada's ridges and natural landscape. John especially liked the canyon because it was removed from all of the noise and movement in downtown Las Vegas. John had a great time during his trip to Las Vegas. He did not win a lot of money in the casinos. However he managed to see a lot of amazing sites during his visit to this city that never sleeps. The deadliest virus in modern history perhaps of all time was the 1918 Spanish Flu. It killed about 20 to 50 million people worldwide perhaps more. The total death toll is unknown because medical records were not kept in many areas. The pandemic hit during World War I and devastated military troops. In the United States for instance more servicemen were killed from the flu than from the war itself. The Spanish flu was fatal to a higher proportion of young adults than most flu viruses. The pandemic started mildly in the spring of 1918 but was followed by a much more severe wave in the fall of 1918. The war likely contributed to the devastating mortality numbers as large outbreaks occurred in military forces living in close quarters. Poor nutrition and the unsanitary conditions of war camps had an effect. A third wave occurred in the winter and spring of 1919 and a fourth smaller wave occurred in a few areas in spring 1920. Initial symptoms of the flu were typical: sore throat headache and fever. The flu often progressed rapidly to cause severe pneumonia and sometimes hemorrhage in the lungs and mucus membranes. A characteristic feature of severe cases of the Spanish Flu was heliotrope cyanosis where the patient's face turned blue from lack of oxygen in the cells. Death usually followed within hours or days. Modern medicine such as vaccines antivirals and antibiotics for secondary infections were not available at that time so medical personnel couldn't do much more than try to relieve symptoms. The flu ended when it had infected enough people that those who were susceptible had either died or developed immunity.\""
      ],
      "metadata": {
        "id": "EP2GQqfpRkOT"
      },
      "execution_count": null,
      "outputs": []
    },
    {
      "cell_type": "code",
      "source": [
        "print(len(text_input))"
      ],
      "metadata": {
        "colab": {
          "base_uri": "https://localhost:8080/"
        },
        "id": "cOy2u68tGYLQ",
        "outputId": "c11d07c1-6dbd-40d7-8257-b108d4df0ca7"
      },
      "execution_count": null,
      "outputs": [
        {
          "output_type": "stream",
          "name": "stdout",
          "text": [
            "12800\n"
          ]
        }
      ]
    },
    {
      "cell_type": "code",
      "source": [
        "affirmations = text_input.split('.')\n",
        "# affirmations + questions\n",
        "qs = []\n",
        "for a in affirmations:\n",
        "    [qs.append(sent) for sent in a.split('?')]\n",
        "\n",
        "# affirmations + questions + exclamations\n",
        "all_sentences = []\n",
        "for q in qs:\n",
        "    [all_sentences.append(sent) for sent in q.split('!')]\n",
        "\n",
        "text = []\n",
        "for sent in all_sentences:\n",
        "    if sent == '':\n",
        "        continue\n",
        "    _x = sent.strip()\n",
        "    _x = _x.replace('’', '')\n",
        "    _x = _x.lower()\n",
        "    text.append(_x)\n",
        "\n",
        "\n",
        "print('all sentences:', len(text))"
      ],
      "metadata": {
        "colab": {
          "base_uri": "https://localhost:8080/"
        },
        "id": "Voh1aCG1C7oD",
        "outputId": "24c28966-f80c-4aa0-b0d7-609967255061"
      },
      "execution_count": null,
      "outputs": [
        {
          "output_type": "stream",
          "name": "stdout",
          "text": [
            "all sentences: 649\n"
          ]
        }
      ]
    },
    {
      "cell_type": "markdown",
      "metadata": {
        "id": "QAtMrO9A4qaq"
      },
      "source": [
        "### preproc"
      ]
    },
    {
      "cell_type": "code",
      "metadata": {
        "id": "RRwpaSsf3zuE",
        "colab": {
          "base_uri": "https://localhost:8080/"
        },
        "outputId": "f09dd88e-a72e-416e-bd44-49f641d7ef7d"
      },
      "source": [
        "chars = set(''.join(text))\n",
        "\n",
        "int2char = dict(enumerate(chars))\n",
        "\n",
        "char2int = {char: ind for ind, char in int2char.items()}\n",
        "print(char2int)"
      ],
      "execution_count": null,
      "outputs": [
        {
          "output_type": "stream",
          "name": "stdout",
          "text": [
            "{'=': 0, 'c': 1, 't': 2, 'r': 3, 'p': 4, 's': 5, 'q': 6, 'e': 7, '2': 8, '-': 9, 'l': 10, 'a': 11, 'o': 12, 'u': 13, 'h': 14, ' ': 15, 'x': 16, 'f': 17, \"'\": 18, '6': 19, 'd': 20, 'v': 21, 'n': 22, 'k': 23, 'g': 24, 'z': 25, 'b': 26, 'i': 27, 'j': 28, 'w': 29, 'y': 30, 'm': 31}\n"
          ]
        }
      ]
    },
    {
      "cell_type": "code",
      "metadata": {
        "id": "FpdgVwH24Clw"
      },
      "source": [
        "maxlen = len(max(text, key=len))\n",
        "\n",
        "# Padding\n",
        "for i in range(len(text)):\n",
        "  while len(text[i])<maxlen:\n",
        "      text[i] += ' '"
      ],
      "execution_count": null,
      "outputs": []
    },
    {
      "cell_type": "code",
      "metadata": {
        "id": "3otc3L4C4EdP"
      },
      "source": [
        "input_seq = []\n",
        "target_seq = []\n",
        "\n",
        "for i in range(len(text)):\n",
        "    # remove last character for input sequence\n",
        "    input_seq.append(text[i][:-1])\n",
        "        \n",
        "    # remove first character for target sequence\n",
        "    target_seq.append(text[i][1:])\n",
        "    # print(\"Input Sequence: {}\\nTarget Sequence: {}\".format(input_seq[i], target_seq[i]), end='\\n\\n')"
      ],
      "execution_count": null,
      "outputs": []
    },
    {
      "cell_type": "code",
      "metadata": {
        "id": "Ge1K7Ej64NIn"
      },
      "source": [
        "for i in range(len(text)):\n",
        "    input_seq[i] = [char2int[character] for character in input_seq[i]]\n",
        "    target_seq[i] = [char2int[character] for character in target_seq[i]]"
      ],
      "execution_count": null,
      "outputs": []
    },
    {
      "cell_type": "code",
      "metadata": {
        "id": "PnhpCNeg4P1f"
      },
      "source": [
        "dict_size = len(char2int)\n",
        "seq_len = maxlen - 1\n",
        "batch_size = len(text)\n",
        "\n",
        "def one_hot_encode(sequence, dict_size, seq_len, batch_size):\n",
        "    features = np.zeros((batch_size, seq_len, dict_size), dtype=np.float32)\n",
        "    \n",
        "    for i in range(batch_size):\n",
        "        for u in range(seq_len):\n",
        "            features[i, u, sequence[i][u]] = 1\n",
        "    return features\n",
        "\n",
        "# Input shape --> (Batch Size, Sequence Length, One-Hot Encoding Size)\n",
        "input_seq = one_hot_encode(input_seq, dict_size, seq_len, batch_size)"
      ],
      "execution_count": null,
      "outputs": []
    },
    {
      "cell_type": "code",
      "metadata": {
        "id": "C9BqfAv84UHZ",
        "colab": {
          "base_uri": "https://localhost:8080/"
        },
        "outputId": "b7e5b0da-4325-4e89-ff34-1ff83335ff0d"
      },
      "source": [
        "input_seq = torch.from_numpy(input_seq)\n",
        "target_seq = torch.Tensor(target_seq)\n",
        "\n",
        "print(input_seq.shape)\n",
        "print(target_seq.shape)"
      ],
      "execution_count": null,
      "outputs": [
        {
          "output_type": "stream",
          "name": "stdout",
          "text": [
            "torch.Size([649, 64, 32])\n",
            "torch.Size([649, 64])\n"
          ]
        }
      ]
    },
    {
      "cell_type": "code",
      "metadata": {
        "id": "UNffA17F4V73"
      },
      "source": [
        "if torch.cuda.is_available():\n",
        "    device = torch.device(\"cuda\")\n",
        "else:\n",
        "    device = torch.device(\"cpu\")"
      ],
      "execution_count": null,
      "outputs": []
    },
    {
      "cell_type": "markdown",
      "metadata": {
        "id": "6vnL26rx4bVp"
      },
      "source": [
        "### model"
      ]
    },
    {
      "cell_type": "code",
      "metadata": {
        "id": "QYOxiZYX4aai"
      },
      "source": [
        "class Model(nn.Module):\n",
        "    def __init__(self, input_size, output_size, hidden_dim, n_layers):\n",
        "        super(Model, self).__init__()\n",
        "        self.hidden_dim = hidden_dim\n",
        "        self.n_layers = n_layers\n",
        "\n",
        "        self.rnn = nn.RNN(input_size, hidden_dim, n_layers, batch_first=True)\n",
        "        self.fc = nn.Linear(hidden_dim, output_size)\n",
        "    \n",
        "    def forward(self, x):\n",
        "        batch_size = x.size(0)\n",
        "        hidden = self.init_hidden(batch_size)\n",
        "\n",
        "        out, hidden = self.rnn(x, hidden)\n",
        "        out = out.contiguous().view(-1, self.hidden_dim)\n",
        "        out = self.fc(out)\n",
        "        \n",
        "        return out, hidden\n",
        "    \n",
        "    def init_hidden(self, batch_size):\n",
        "        hidden = torch.zeros(self.n_layers, batch_size, self.hidden_dim)\n",
        "        return hidden"
      ],
      "execution_count": null,
      "outputs": []
    },
    {
      "cell_type": "markdown",
      "metadata": {
        "id": "ZluQyR2w4laG"
      },
      "source": [
        "### training"
      ]
    },
    {
      "cell_type": "code",
      "metadata": {
        "id": "9PgXBN5G4kZB"
      },
      "source": [
        "# model with hyperparameters\n",
        "model = Model(input_size=dict_size, output_size=dict_size, hidden_dim=128, n_layers=3)\n",
        "model.to(device)\n",
        "\n",
        "# additional hyperparameters\n",
        "n_epochs = 1000\n",
        "lr=0.002\n",
        "\n",
        "\n",
        "criterion = nn.CrossEntropyLoss()\n",
        "optimizer = torch.optim.Adam(model.parameters(), lr=lr)"
      ],
      "execution_count": null,
      "outputs": []
    },
    {
      "cell_type": "code",
      "metadata": {
        "colab": {
          "base_uri": "https://localhost:8080/"
        },
        "id": "ba0mma-t4xFE",
        "outputId": "d418dc00-61e4-4d0e-ed6e-78a01d0b06f9"
      },
      "source": [
        "losses = []\n",
        "\n",
        "# Training Run\n",
        "for epoch in range(1, n_epochs + 1):\n",
        "    optimizer.zero_grad()\n",
        "    input_seq.to(device)\n",
        "    output, hidden = model(input_seq)\n",
        "    loss = criterion(output, target_seq.view(-1).long())\n",
        "\n",
        "    losses.append(loss.item())\n",
        "\n",
        "    loss.backward()\n",
        "    optimizer.step()\n",
        "    \n",
        "    if epoch % (n_epochs // 20) == 0:\n",
        "        print('Epoch: {}/{}.............'.format(epoch, n_epochs), end=' ')\n",
        "        print(\"Loss: {:.4f}\".format(loss.item()))"
      ],
      "execution_count": null,
      "outputs": [
        {
          "output_type": "stream",
          "name": "stdout",
          "text": [
            "Epoch: 50/1000............. Loss: 1.1577\n",
            "Epoch: 100/1000............. Loss: 1.0062\n",
            "Epoch: 150/1000............. Loss: 0.8356\n",
            "Epoch: 200/1000............. Loss: 0.8166\n",
            "Epoch: 250/1000............. Loss: 0.7574\n",
            "Epoch: 300/1000............. Loss: 0.6595\n",
            "Epoch: 350/1000............. Loss: 0.6072\n",
            "Epoch: 400/1000............. Loss: 0.5701\n",
            "Epoch: 450/1000............. Loss: 0.5326\n",
            "Epoch: 500/1000............. Loss: 0.4968\n",
            "Epoch: 550/1000............. Loss: 0.4590\n",
            "Epoch: 600/1000............. Loss: 0.4263\n",
            "Epoch: 650/1000............. Loss: 0.3830\n",
            "Epoch: 700/1000............. Loss: 0.3476\n",
            "Epoch: 750/1000............. Loss: 0.3087\n",
            "Epoch: 800/1000............. Loss: 0.2714\n",
            "Epoch: 850/1000............. Loss: 0.2375\n",
            "Epoch: 900/1000............. Loss: 0.2123\n",
            "Epoch: 950/1000............. Loss: 0.1884\n",
            "Epoch: 1000/1000............. Loss: 0.1540\n"
          ]
        }
      ]
    },
    {
      "cell_type": "code",
      "source": [
        "plt.plot(range(0, n_epochs), losses)\n",
        "plt.title(\"loss plot\")\n",
        "plt.show()"
      ],
      "metadata": {
        "colab": {
          "base_uri": "https://localhost:8080/",
          "height": 281
        },
        "id": "VRihwg9EEOx8",
        "outputId": "bd9df141-33c3-4fc3-c1c9-58973af4f741"
      },
      "execution_count": null,
      "outputs": [
        {
          "output_type": "display_data",
          "data": {
            "image/png": "[encoded data removed]",
            "text/plain": [
              "<Figure size 432x288 with 1 Axes>"
            ]
          },
          "metadata": {
            "needs_background": "light"
          }
        }
      ]
    },
    {
      "cell_type": "markdown",
      "metadata": {
        "id": "3dLC6Uso417A"
      },
      "source": [
        "### inference"
      ]
    },
    {
      "cell_type": "code",
      "metadata": {
        "id": "3TUETSvw437e"
      },
      "source": [
        "def predict(model, character):\n",
        "    character = np.array([[char2int[c] for c in character]])\n",
        "    character = one_hot_encode(character, dict_size, character.shape[1], 1)\n",
        "    character = torch.from_numpy(character)\n",
        "    character.to(device)\n",
        "    \n",
        "    out, hidden = model(character)\n",
        "\n",
        "    prob = nn.functional.softmax(out[-1], dim=0).data\n",
        "    char_ind = torch.max(prob, dim=0)[1].item()\n",
        "\n",
        "    return int2char[char_ind], hidden"
      ],
      "execution_count": null,
      "outputs": []
    },
    {
      "cell_type": "code",
      "metadata": {
        "id": "3cmnq7ux47oq"
      },
      "source": [
        "def call(model, out_len, start='hey'):\n",
        "    model.eval() # eval mode\n",
        "    start = start.lower()\n",
        "    chars = [ch for ch in start]\n",
        "    size = out_len - len(chars)\n",
        "    for ii in range(size):\n",
        "        char, h = predict(model, chars)\n",
        "        chars.append(char)\n",
        "\n",
        "    return ''.join(chars)"
      ],
      "execution_count": null,
      "outputs": []
    },
    {
      "cell_type": "markdown",
      "metadata": {
        "id": "Recq8nDr5oVi"
      },
      "source": [
        "### example call"
      ]
    },
    {
      "cell_type": "code",
      "metadata": {
        "colab": {
          "base_uri": "https://localhost:8080/",
          "height": 35
        },
        "id": "mtRqAKhQ49y0",
        "outputId": "6b037df4-fdda-43c0-af7f-0565e37a0c14"
      },
      "source": [
        "call(model, 50, 'I').strip()"
      ],
      "execution_count": null,
      "outputs": [
        {
          "output_type": "execute_result",
          "data": {
            "application/vnd.google.colaboratory.intrinsic+json": {
              "type": "string"
            },
            "text/plain": [
              "\"i don't want to bother you\""
            ]
          },
          "metadata": {},
          "execution_count": 447
        }
      ]
    },
    {
      "cell_type": "markdown",
      "metadata": {
        "id": "0xXns59OEHvI"
      },
      "source": [
        "# **TF** *playground*"
      ]
    },
    {
      "cell_type": "code",
      "source": [
        "import tensorflow as tf\n",
        "from tensorflow import keras\n",
        "\n",
        "from keras.models import load_model\n",
        "\n",
        "from sklearn.model_selection import train_test_split"
      ],
      "metadata": {
        "id": "zS-Jd0aSCeoi"
      },
      "execution_count": null,
      "outputs": []
    },
    {
      "cell_type": "markdown",
      "source": [
        "## Linear Regression"
      ],
      "metadata": {
        "id": "4wGRq2hqo5gM"
      }
    },
    {
      "cell_type": "code",
      "source": [
        "xs = np.array([1, 2, 3, 4, 5, 6, 7, 8, 9], dtype=float)\n",
        "ys = np.array([2, 3, 4, 5, 6, 7, 8, 9, 10], dtype=float)\n",
        "# ys = xs + 1\n",
        "\n",
        "model = keras.Sequential([\n",
        "    keras.layers.Dense(10, input_shape=[1]),\n",
        "    keras.layers.Dense(1)\n",
        "])\n",
        "model.compile(loss='mae', optimizer='sgd', metrics=['accuracy'])\n",
        "model.fit(xs, ys, epochs=500, verbose=0)\n",
        "\n",
        "print(model.predict([11]))\n",
        "print(model.predict([15]))"
      ],
      "metadata": {
        "colab": {
          "base_uri": "https://localhost:8080/"
        },
        "id": "fpfoDrIQo6wT",
        "outputId": "c7ad8f89-576e-45fd-99b1-7bb69b667afc"
      },
      "execution_count": null,
      "outputs": [
        {
          "output_type": "stream",
          "name": "stdout",
          "text": [
            "[[11.40785]]\n",
            "[[15.199906]]\n"
          ]
        }
      ]
    },
    {
      "cell_type": "markdown",
      "source": [
        "##  CNN - mnist classif"
      ],
      "metadata": {
        "id": "htgQPUNvITnr"
      }
    },
    {
      "cell_type": "code",
      "source": [
        "mnist = tf.keras.datasets.mnist\n",
        "\n",
        "(x_train, y_train), (x_test, y_test) = mnist.load_data()"
      ],
      "metadata": {
        "id": "SJsdIydkIWE1"
      },
      "execution_count": null,
      "outputs": []
    },
    {
      "cell_type": "markdown",
      "source": [
        "### preprocessing"
      ],
      "metadata": {
        "id": "2Uqx4u6W_uxq"
      }
    },
    {
      "cell_type": "code",
      "source": [
        "x_val, x_test, y_val, y_test = train_test_split(\n",
        "    x_test,\n",
        "    y_test,\n",
        "    test_size=0.2\n",
        ")"
      ],
      "metadata": {
        "id": "oP92Gp-5_ENP"
      },
      "execution_count": null,
      "outputs": []
    },
    {
      "cell_type": "code",
      "source": [
        "print('train X, Y shapes:', x_train.shape, y_train.shape)\n",
        "print('validation X, Y shapes:', x_val.shape, y_val.shape)\n",
        "print('test X, Y shapes:', x_test.shape, y_test.shape)"
      ],
      "metadata": {
        "colab": {
          "base_uri": "https://localhost:8080/"
        },
        "id": "FyWZzD9v_f6J",
        "outputId": "89f56f66-378a-45e0-f5cf-7e20101879e1"
      },
      "execution_count": null,
      "outputs": [
        {
          "output_type": "stream",
          "name": "stdout",
          "text": [
            "train X, Y shapes: (60000, 28, 28) (60000,)\n",
            "validation X, Y shapes: (8000, 28, 28) (8000,)\n",
            "test X, Y shapes: (2000, 28, 28) (2000,)\n"
          ]
        }
      ]
    },
    {
      "cell_type": "code",
      "source": [
        "x_train = x_train.reshape(len(x_train), 28, 28, 1)\n",
        "x_val = x_val.reshape(len(x_val), 28, 28, 1)\n",
        "x_test = x_test.reshape(len(x_test), 28, 28, 1)"
      ],
      "metadata": {
        "id": "--oeNg8_JGDd"
      },
      "execution_count": null,
      "outputs": []
    },
    {
      "cell_type": "code",
      "source": [
        "print('train X, Y shapes:', x_train.shape, y_train.shape)\n",
        "print('validation X, Y shapes:', x_val.shape, y_val.shape)\n",
        "print('test X, Y shapes:', x_test.shape, y_test.shape)"
      ],
      "metadata": {
        "colab": {
          "base_uri": "https://localhost:8080/"
        },
        "id": "c9155mWs_n1V",
        "outputId": "c08bf150-987b-4044-8de4-4aa969c8a658"
      },
      "execution_count": null,
      "outputs": [
        {
          "output_type": "stream",
          "name": "stdout",
          "text": [
            "train X, Y shapes: (60000, 28, 28, 1) (60000,)\n",
            "validation X, Y shapes: (8000, 28, 28, 1) (8000,)\n",
            "test X, Y shapes: (2000, 28, 28, 1) (2000,)\n"
          ]
        }
      ]
    },
    {
      "cell_type": "code",
      "source": [
        "x_train, x_val, x_test = x_train / 255.0, x_val, x_test / 255.0"
      ],
      "metadata": {
        "id": "Tr-TDaT5_nTd"
      },
      "execution_count": null,
      "outputs": []
    },
    {
      "cell_type": "markdown",
      "source": [
        "### model"
      ],
      "metadata": {
        "id": "nodvQkgp_x7D"
      }
    },
    {
      "cell_type": "code",
      "source": [
        "from keras.backend import dropout\n",
        "class EarlyStopping(keras.callbacks.Callback):\n",
        "    def on_epoch_end(self, epoch, logs={}):\n",
        "        if logs.get('accuracy') >= 0.995:\n",
        "            self.model.stop_training=True\n",
        "\n",
        "\n",
        "# currently [Conv64 x Pool x Conv32 x Pool x Dropout(.2) x Flatten x Dense128 x Dense10 best]\n",
        "model = keras.Sequential([\n",
        "    # comment-decomment structures to experiment with models\n",
        "    keras.layers.Conv2D(128, (3, 3), activation='relu', input_shape=(28, 28, 1)),  # careful\n",
        "    keras.layers.MaxPool2D((2, 2)),\n",
        "    keras.layers.Conv2D(64, (3, 3), activation='relu'),  # interm layer takes input from previous\n",
        "    keras.layers.MaxPool2D((2, 2)),\n",
        "    keras.layers.Dropout(.2),\n",
        "    keras.layers.Flatten(),\n",
        "    keras.layers.Dense(128, activation='relu'),\n",
        "    keras.layers.Dense(10, activation='softmax')                         \n",
        "])\n",
        "\n",
        "model.compile(\n",
        "    optimizer='adam',\n",
        "    loss='sparse_categorical_crossentropy',\n",
        "    metrics=['accuracy']\n",
        ")"
      ],
      "metadata": {
        "id": "ATt6v0KZJLul"
      },
      "execution_count": null,
      "outputs": []
    },
    {
      "cell_type": "markdown",
      "source": [
        "### training"
      ],
      "metadata": {
        "id": "3-n0e721_0Hb"
      }
    },
    {
      "cell_type": "code",
      "source": [
        "history = model.fit(\n",
        "    x_train,\n",
        "    y_train,\n",
        "    validation_data=(x_val, y_val),\n",
        "    epochs=20,\n",
        "    batch_size=64,\n",
        "    callbacks=[EarlyStopping()]\n",
        ")"
      ],
      "metadata": {
        "id": "ozaegW6sJs7m",
        "colab": {
          "base_uri": "https://localhost:8080/"
        },
        "outputId": "f710dd82-d5ad-4c80-cfbf-af63a89762a0"
      },
      "execution_count": null,
      "outputs": [
        {
          "output_type": "stream",
          "name": "stdout",
          "text": [
            "Epoch 1/20\n",
            "938/938 [==============================] - 86s 91ms/step - loss: 0.1520 - accuracy: 0.9529 - val_loss: 8.2769 - val_accuracy: 0.9827\n",
            "Epoch 2/20\n",
            "938/938 [==============================] - 86s 92ms/step - loss: 0.0480 - accuracy: 0.9854 - val_loss: 9.4640 - val_accuracy: 0.9826\n",
            "Epoch 3/20\n",
            "938/938 [==============================] - 86s 91ms/step - loss: 0.0331 - accuracy: 0.9898 - val_loss: 9.3723 - val_accuracy: 0.9841\n",
            "Epoch 4/20\n",
            "938/938 [==============================] - 85s 90ms/step - loss: 0.0265 - accuracy: 0.9915 - val_loss: 5.1833 - val_accuracy: 0.9920\n",
            "Epoch 5/20\n",
            "938/938 [==============================] - 84s 90ms/step - loss: 0.0214 - accuracy: 0.9929 - val_loss: 6.9751 - val_accuracy: 0.9908\n",
            "Epoch 6/20\n",
            "938/938 [==============================] - 85s 90ms/step - loss: 0.0173 - accuracy: 0.9944 - val_loss: 8.0648 - val_accuracy: 0.9901\n",
            "Epoch 7/20\n",
            "938/938 [==============================] - 84s 89ms/step - loss: 0.0145 - accuracy: 0.9951 - val_loss: 8.7391 - val_accuracy: 0.9904\n"
          ]
        }
      ]
    },
    {
      "cell_type": "code",
      "source": [
        "def plot_metrics(model_history):\n",
        "    acc = history.history['accuracy']\n",
        "    val_acc = history.history['val_accuracy']\n",
        "    loss = history.history['loss']\n",
        "    val_loss = history.history['val_loss']\n",
        "\n",
        "    epochs = range(len(acc))\n",
        "\n",
        "    plt.plot(epochs, acc, 'r', label='Training accuracy')\n",
        "    plt.plot(epochs, val_acc, 'b', label='Validation accuracy')\n",
        "    plt.title('Training and validation accuracy')\n",
        "    plt.legend(loc=0)\n",
        "    plt.figure()\n",
        "\n",
        "    plt.show()\n",
        "\n",
        "\n",
        "plot_metrics(history)"
      ],
      "metadata": {
        "colab": {
          "base_uri": "https://localhost:8080/",
          "height": 299
        },
        "id": "jLxl1YQhZk7g",
        "outputId": "26b67dc5-bb83-4b23-9f36-c7307d10acc7"
      },
      "execution_count": null,
      "outputs": [
        {
          "output_type": "display_data",
          "data": {
            "image/png": "[encoded data removed]",
            "text/plain": [
              "<Figure size 432x288 with 1 Axes>"
            ]
          },
          "metadata": {
            "needs_background": "light"
          }
        },
        {
          "output_type": "display_data",
          "data": {
            "text/plain": [
              "<Figure size 432x288 with 0 Axes>"
            ]
          },
          "metadata": {}
        }
      ]
    },
    {
      "cell_type": "code",
      "source": [
        "# overfit for the greater good\n",
        "# model.fit(\n",
        "#     x_test,\n",
        "#     y_test,\n",
        "#     validation_data=(x_test, y_test),\n",
        "#     epochs=5,\n",
        "#     batch_size=64\n",
        "# )"
      ],
      "metadata": {
        "id": "Zl-ydCEeLrmd"
      },
      "execution_count": null,
      "outputs": []
    },
    {
      "cell_type": "code",
      "source": [
        "model.save('model2xCPShDr.h5')"
      ],
      "metadata": {
        "id": "HXgA8dzaLHmU"
      },
      "execution_count": null,
      "outputs": []
    },
    {
      "cell_type": "markdown",
      "source": [
        "### evaluate"
      ],
      "metadata": {
        "id": "176g8TBh_177"
      }
    },
    {
      "cell_type": "markdown",
      "source": [
        "#### functions"
      ],
      "metadata": {
        "id": "9H_ZAOYrLZd5"
      }
    },
    {
      "cell_type": "code",
      "source": [
        "def evaluate(model, x_test, y_test):\n",
        "    metrics = model.evaluate(x_test, y_test)\n",
        "\n",
        "    model.summary()\n",
        "    print(model.metrics_names)\n",
        "    print(metrics)\n",
        "\n",
        "\n",
        "    classif = model.predict(x_test)\n",
        "    return classif"
      ],
      "metadata": {
        "id": "xcy2FyhxISMx"
      },
      "execution_count": null,
      "outputs": []
    },
    {
      "cell_type": "code",
      "source": [
        "def evaluate_random_sample(classif, x_test, y_test, idx=None):\n",
        "    if not idx:\n",
        "        idx = random.randint(0, len(y_test) - 1)\n",
        "    print('# index {} of range [0, {})'.format(idx, len(y_test)))\n",
        "    # #####\n",
        "    X = x_test[idx].reshape((28, 28))\n",
        "    plt.imshow(X)\n",
        "\n",
        "    print('Ground truth:', y_test[idx])\n",
        "    # highest value from the list of 10 probabilities, i.e. the value predicted by the model\n",
        "    res = np.where(classif[idx] == np.amax(classif[idx]))[0] \n",
        "    print('Model classif:', np.amax(res))"
      ],
      "metadata": {
        "id": "vxYIAdkAGmV3"
      },
      "execution_count": null,
      "outputs": []
    },
    {
      "cell_type": "code",
      "source": [
        "def get_rnd_misclassified_sample(classif, x_test, y_test):\n",
        "    # checking which one is not correct\n",
        "    while True:\n",
        "        idx = random.randint(0, len(y_test) - 1)\n",
        "        # #####\n",
        "        X = x_test[idx].reshape((28, 28))\n",
        "\n",
        "        # highest value from the list of 10 probabilities, i.e. the value predicted by the model\n",
        "        res = np.where(classif[idx] == np.amax(classif[idx]))[0] \n",
        "        if y_test[idx] != np.amax(res):\n",
        "            return idx"
      ],
      "metadata": {
        "id": "yhIHKjJaEz0g"
      },
      "execution_count": null,
      "outputs": []
    },
    {
      "cell_type": "code",
      "source": [
        "def generate_classifier(model, x_test, y_test):\n",
        "    if type(model) == str:\n",
        "        print('$ importing model from {}'.format(model))\n",
        "        model = load_model(model)\n",
        "    else:\n",
        "        # existing model\n",
        "        print('$ using created model')\n",
        "        pass\n",
        "\n",
        "    classif = evaluate(\n",
        "        model,\n",
        "        x_test,\n",
        "        y_test\n",
        "    )\n",
        "    return classif"
      ],
      "metadata": {
        "id": "L2Cxyq3WIpu_"
      },
      "execution_count": null,
      "outputs": []
    },
    {
      "cell_type": "markdown",
      "source": [
        "#### callers"
      ],
      "metadata": {
        "id": "Qfjsn90NLbbm"
      }
    },
    {
      "cell_type": "code",
      "source": [
        "classif = generate_classifier(\n",
        "    # model='model2xCPShDr.h5',\n",
        "    model=model,\n",
        "    x_test=x_test,\n",
        "    y_test=y_test\n",
        ")"
      ],
      "metadata": {
        "colab": {
          "base_uri": "https://localhost:8080/"
        },
        "id": "LpFfBoGeLYfu",
        "outputId": "f216aba0-5407-403f-a3bc-7cce0fdd8d8e"
      },
      "execution_count": null,
      "outputs": [
        {
          "output_type": "stream",
          "name": "stdout",
          "text": [
            "$ using created model\n",
            "63/63 [==============================] - 2s 22ms/step - loss: 0.0146 - accuracy: 0.9945\n",
            "Model: \"sequential_4\"\n",
            "_________________________________________________________________\n",
            " Layer (type)                Output Shape              Param #   \n",
            "=================================================================\n",
            " conv2d_8 (Conv2D)           (None, 26, 26, 128)       1280      \n",
            "                                                                 \n",
            " max_pooling2d_8 (MaxPooling  (None, 13, 13, 128)      0         \n",
            " 2D)                                                             \n",
            "                                                                 \n",
            " conv2d_9 (Conv2D)           (None, 11, 11, 64)        73792     \n",
            "                                                                 \n",
            " max_pooling2d_9 (MaxPooling  (None, 5, 5, 64)         0         \n",
            " 2D)                                                             \n",
            "                                                                 \n",
            " dropout_4 (Dropout)         (None, 5, 5, 64)          0         \n",
            "                                                                 \n",
            " flatten_4 (Flatten)         (None, 1600)              0         \n",
            "                                                                 \n",
            " dense_8 (Dense)             (None, 128)               204928    \n",
            "                                                                 \n",
            " dense_9 (Dense)             (None, 10)                1290      \n",
            "                                                                 \n",
            "=================================================================\n",
            "Total params: 281,290\n",
            "Trainable params: 281,290\n",
            "Non-trainable params: 0\n",
            "_________________________________________________________________\n",
            "['loss', 'accuracy']\n",
            "[0.014632981270551682, 0.9944999814033508]\n"
          ]
        }
      ]
    },
    {
      "cell_type": "code",
      "source": [
        "evaluate_random_sample(\n",
        "    classif,\n",
        "    x_test,\n",
        "    y_test,\n",
        "    # idx=1569\n",
        ")"
      ],
      "metadata": {
        "colab": {
          "base_uri": "https://localhost:8080/",
          "height": 317
        },
        "id": "KRvUjNK3G1JS",
        "outputId": "00d43cf5-0445-430b-954c-b62c9f58736e"
      },
      "execution_count": null,
      "outputs": [
        {
          "output_type": "stream",
          "name": "stdout",
          "text": [
            "# index 464 of range [0, 2000)\n",
            "Ground truth: 5\n",
            "Model classif: 5\n"
          ]
        },
        {
          "output_type": "display_data",
          "data": {
            "image/png": "[encoded data removed]",
            "text/plain": [
              "<Figure size 432x288 with 1 Axes>"
            ]
          },
          "metadata": {
            "needs_background": "light"
          }
        }
      ]
    },
    {
      "cell_type": "code",
      "source": [
        "evaluate_random_sample(\n",
        "    classif,\n",
        "    x_test,\n",
        "    y_test,\n",
        "    idx=get_rnd_misclassified_sample(\n",
        "        classif,\n",
        "        x_test,\n",
        "        y_test\n",
        "    )\n",
        ")"
      ],
      "metadata": {
        "colab": {
          "base_uri": "https://localhost:8080/",
          "height": 317
        },
        "id": "xa2hUo50Gm7Q",
        "outputId": "f31d6f59-7b71-42bf-f9a2-617cc1c00bad"
      },
      "execution_count": null,
      "outputs": [
        {
          "output_type": "stream",
          "name": "stdout",
          "text": [
            "# index 1808 of range [0, 2000)\n",
            "Ground truth: 1\n",
            "Model classif: 3\n"
          ]
        },
        {
          "output_type": "display_data",
          "data": {
            "image/png": "[encoded data removed]",
            "text/plain": [
              "<Figure size 432x288 with 1 Axes>"
            ]
          },
          "metadata": {
            "needs_background": "light"
          }
        }
      ]
    },
    {
      "cell_type": "markdown",
      "metadata": {
        "id": "T0cgakNIxB3c"
      },
      "source": [
        "## GPS positions"
      ]
    },
    {
      "cell_type": "code",
      "metadata": {
        "colab": {
          "base_uri": "https://localhost:8080/"
        },
        "id": "MkT2XlnJxELi",
        "outputId": "5983753a-d861-4f69-bcdd-bb4f1c726715"
      },
      "source": [
        "import numpy as np\n",
        "import geopy.distance\n",
        "\n",
        "coords_1 = (47.71831512451172, 10.33071231842041)\n",
        "coords_2 = (47.71836853027344, 10.330799102783203)\n",
        "\n",
        "print(geopy.distance.vincenty(coords_1, coords_2).m)"
      ],
      "execution_count": null,
      "outputs": [
        {
          "output_type": "stream",
          "name": "stdout",
          "text": [
            "8.812380468508415\n"
          ]
        }
      ]
    },
    {
      "cell_type": "code",
      "metadata": {
        "id": "3tBaN5wVM_Uh"
      },
      "source": [
        "# %pip list"
      ],
      "execution_count": null,
      "outputs": []
    },
    {
      "cell_type": "markdown",
      "metadata": {
        "id": "4C7JA6ifKsZ5"
      },
      "source": [
        "# sandbox"
      ]
    },
    {
      "cell_type": "markdown",
      "source": [
        "## scipy interpolate"
      ],
      "metadata": {
        "id": "T-dtqpAGU2VW"
      }
    },
    {
      "cell_type": "markdown",
      "source": [
        " - theory: https://en.wikipedia.org/wiki/Runge's_phenomenon\n",
        " - scipy.interpolate: https://docs.scipy.org/doc/scipy/tutorial/interpolate.html"
      ],
      "metadata": {
        "id": "ycKaRXaaMsoz"
      }
    },
    {
      "cell_type": "code",
      "source": [
        "from scipy.interpolate import interp1d"
      ],
      "metadata": {
        "id": "odFM7JkRU1tt"
      },
      "execution_count": null,
      "outputs": []
    },
    {
      "cell_type": "code",
      "source": [
        "x = np.linspace(0, 10, num=11, endpoint=True)\n",
        "xnew = np.linspace(0, 10, num=41, endpoint=True)\n",
        "\n",
        "y = np.cos(-x**2/9.0)\n",
        "\n",
        "\n",
        "f = interp1d(x, y)\n",
        "f2 = interp1d(x, y, kind='cubic')"
      ],
      "metadata": {
        "id": "SNT7n5ygU8UF"
      },
      "execution_count": null,
      "outputs": []
    },
    {
      "cell_type": "code",
      "source": [
        "plt.plot(x, y, 'o')\n",
        "plt.plot(xnew, f(xnew), '-')\n",
        "plt.plot(xnew, f2(xnew), '--')\n",
        "plt.legend(['data', 'linear', 'cubic'], loc='best')\n",
        "plt.show()"
      ],
      "metadata": {
        "colab": {
          "base_uri": "https://localhost:8080/",
          "height": 265
        },
        "id": "LWcvrrbyU_PB",
        "outputId": "2032d402-eb39-49f8-ca5a-478bccdbfb6d"
      },
      "execution_count": null,
      "outputs": [
        {
          "output_type": "display_data",
          "data": {
            "image/png": "[encoded data removed]",
            "text/plain": [
              "<Figure size 432x288 with 1 Axes>"
            ]
          },
          "metadata": {
            "needs_background": "light"
          }
        }
      ]
    },
    {
      "cell_type": "markdown",
      "metadata": {
        "id": "4mgzn_qV7b8p"
      },
      "source": [
        "## pyptoj transformations"
      ]
    },
    {
      "cell_type": "markdown",
      "metadata": {
        "id": "Zy_rO7W4LMxh"
      },
      "source": [
        "* world CRS: 4326\n",
        "* Russia CRS: 2694\n",
        "* West Germany CRS: 4839"
      ]
    },
    {
      "cell_type": "markdown",
      "metadata": {
        "id": "GZnIVYugzPbs"
      },
      "source": [
        "! solved, normalization + inverse normalization in the VP project"
      ]
    },
    {
      "cell_type": "code",
      "metadata": {
        "colab": {
          "base_uri": "https://localhost:8080/"
        },
        "id": "KAVa5mseKroI",
        "outputId": "92aa76fb-54d8-47a0-d6ee-924e50cbb1e6"
      },
      "source": [
        "!pip install pyproj --quiet\n",
        "from pyproj import Transformer\n",
        "x = [1, 2, 3, 4, 5]  # lon\n",
        "y = x[::-1]  # lat\n",
        "\n",
        "# transform every element to float ==> Transformer already does that\n",
        "x = [elem * 1.0 for elem in x]\n",
        "y = [elem * 1.0 for elem in y]\n",
        "\n",
        "# transform from world coordinates to Russia coordinates\n",
        "tr = Transformer.from_crs(4326, 2694)\n",
        "\n",
        "x, y = tr.transform(x, y)\n",
        "\n",
        "print('GK_x:', list(map(lambda elem: elem - 18272401.178585783, x)))\n",
        "print('GK_y:', list(map(lambda elem: elem - 54094098.29760236, y)), end='\\n\\n')\n",
        "\n",
        "# inverse transform from Russia coordinates to world coordinates\n",
        "tr_inv = Transformer.from_crs(2694, 4326)\n",
        "\n",
        "x, y = tr_inv.transform(x, y)\n",
        "\n",
        "print('x:', x)\n",
        "print('y:', y)"
      ],
      "execution_count": null,
      "outputs": [
        {
          "output_type": "stream",
          "name": "stdout",
          "text": [
            "GK_x: [49105.86424013972]\n",
            "GK_y: [4593.368673816323]\n",
            "\n",
            "x: [10.329330445533541]\n",
            "y: [47.71915435988313]\n"
          ]
        }
      ]
    },
    {
      "cell_type": "markdown",
      "metadata": {
        "id": "b5IR9H9H7fVu"
      },
      "source": [
        "## random cells"
      ]
    },
    {
      "cell_type": "code",
      "metadata": {
        "id": "msDhT_F2gcNs",
        "colab": {
          "base_uri": "https://localhost:8080/"
        },
        "outputId": "b311360b-0665-478f-de20-dc6e902ce555"
      },
      "source": [
        "# pandas sandbox\n",
        "\n",
        "a = [[1, 2, 3, 4], [5, 6, 7, 8]]\n",
        "b = [[9, 10, 11, 12], [13, 14, 15, 16]]\n",
        "\n",
        "import pandas as pd\n",
        "\n",
        "x = pd.DataFrame(a)\n",
        "y = pd.DataFrame(b)\n",
        "\n",
        "x = pd.concat([x, y], axis=1, ignore_index=True)\n",
        "\n",
        "print(x)"
      ],
      "execution_count": null,
      "outputs": [
        {
          "output_type": "stream",
          "name": "stdout",
          "text": [
            "   0  1  2  3   4   5   6   7\n",
            "0  1  2  3  4   9  10  11  12\n",
            "1  5  6  7  8  13  14  15  16\n"
          ]
        }
      ]
    },
    {
      "cell_type": "code",
      "metadata": {
        "colab": {
          "base_uri": "https://localhost:8080/"
        },
        "id": "v6eb0G9jdvKI",
        "outputId": "bbc5be0c-a907-46d3-bbf5-d712da981597"
      },
      "source": [
        "# see whether the list contains only lists of a certain length\n",
        "a = [(1, 2), (3, 4, 5)]\n",
        "\n",
        "print(all(map(lambda x: len(x) == 2, a)))"
      ],
      "execution_count": null,
      "outputs": [
        {
          "output_type": "stream",
          "name": "stdout",
          "text": [
            "False\n"
          ]
        }
      ]
    },
    {
      "cell_type": "code",
      "metadata": {
        "colab": {
          "base_uri": "https://localhost:8080/",
          "height": 117
        },
        "id": "qrfyCw-Qb7_c",
        "outputId": "b6b627b9-32a3-4d5f-c91d-007e35c530da"
      },
      "source": [
        "# read an image from url using PIL.Image\n",
        "\n",
        "from PIL import Image\n",
        "import requests\n",
        "\n",
        "im = Image.open(requests.get('https://i.imgur.com/yAsm4W7.jpeg', stream=True).raw)\n",
        "im.resize((100, 100))"
      ],
      "execution_count": null,
      "outputs": [
        {
          "output_type": "execute_result",
          "data": {
            "image/png": "[encoded data removed]",
            "text/plain": [
              "<PIL.Image.Image image mode=RGB size=100x100 at 0x7F3EDB4A3FD0>"
            ]
          },
          "metadata": {},
          "execution_count": 22
        }
      ]
    },
    {
      "cell_type": "code",
      "metadata": {
        "colab": {
          "base_uri": "https://localhost:8080/"
        },
        "id": "7BcjUsjYwQ5O",
        "outputId": "a0187921-2bab-4610-c6c9-1f0d60ed5377"
      },
      "source": [
        "# update a list of distances, i.e. each element is the sum of the previous elements => represent overall distance not separate distance between points\n",
        "\n",
        "a = [1, 1.4142135623730951, 2.0, 1.4142135623730951, 2.0, 2.23606797749979, 1.0]\n",
        "\n",
        "print([sum(a[:i]) for i in range(1, len(a) + 1)])\n",
        "\n",
        "# for index, _ in enumerate(a):\n",
        "#   print(index)"
      ],
      "execution_count": null,
      "outputs": [
        {
          "output_type": "stream",
          "name": "stdout",
          "text": [
            "[1, 2.414213562373095, 4.414213562373095, 5.82842712474619, 7.82842712474619, 10.06449510224598, 11.06449510224598]\n"
          ]
        }
      ]
    },
    {
      "cell_type": "code",
      "metadata": {
        "colab": {
          "base_uri": "https://localhost:8080/"
        },
        "id": "6NlJ40hSVmrw",
        "outputId": "7786f754-745f-411a-b109-8a4901314ceb"
      },
      "source": [
        "# euclidian distance of two points\n",
        "import numpy as np\n",
        "\n",
        "p1 = [8.903305, 48.847046]\n",
        "p2 = [8.901295, 48.841252]\n",
        "\n",
        "print(np.linalg.norm(np.array(p1) - np.array(p2)))"
      ],
      "execution_count": null,
      "outputs": [
        {
          "output_type": "stream",
          "name": "stdout",
          "text": [
            "0.006132742942600812\n"
          ]
        }
      ]
    },
    {
      "cell_type": "code",
      "metadata": {
        "colab": {
          "base_uri": "https://localhost:8080/",
          "height": 745
        },
        "id": "m5w-V5sfeW_n",
        "outputId": "ff12ec8d-35c5-49a6-d5c0-b1db6166510f"
      },
      "source": [
        "import random\n",
        "from pprint import pprint\n",
        "import matplotlib.pyplot as plt\n",
        "\n",
        "random.seed(5)\n",
        "\n",
        "res = {}\n",
        "for i in range(50, 450, 50):\n",
        "    res[i] = random.random() * i\n",
        "\n",
        "# ###\n",
        "pprint(res)\n",
        "\n",
        "# ###\n",
        "plt.plot(list(res.keys()), list(res.values()))\n",
        "plt.show()\n",
        "\n",
        "min_ind = min(res, key=res.get)\n",
        "print(min_ind, res[min_ind])"
      ],
      "execution_count": null,
      "outputs": [
        {
          "output_type": "stream",
          "name": "stdout",
          "text": [
            "{50: 31.145084744485096,\n",
            " 100: 74.17869892607294,\n",
            " 150: 119.2790348348545,\n",
            " 200: 188.49005675541005,\n",
            " 250: 184.97464368498268,\n",
            " 300: 276.6974989996251,\n",
            " 350: 10.151829899265158,\n",
            " 400: 186.24906175124215}\n"
          ]
        },
        {
          "output_type": "display_data",
          "data": {
            "image/png": "[encoded data removed]",
            "text/plain": [
              "<Figure size 1440x720 with 1 Axes>"
            ]
          },
          "metadata": {
            "needs_background": "light"
          }
        },
        {
          "output_type": "stream",
          "name": "stdout",
          "text": [
            "350 10.151829899265158\n"
          ]
        }
      ]
    },
    {
      "cell_type": "markdown",
      "metadata": {
        "id": "Lbnn53op7mbp"
      },
      "source": [
        "# savgol"
      ]
    },
    {
      "cell_type": "code",
      "metadata": {
        "id": "Rsp6iumupqsp"
      },
      "source": [
        "length = 0.5  # used for training 2000\n",
        "\n",
        "SIZE = 5  # this is a silver lining :-??\n",
        "\n",
        "STEP = 0.05\n",
        "\n",
        "LR = 1e-4"
      ],
      "execution_count": null,
      "outputs": []
    },
    {
      "cell_type": "code",
      "metadata": {
        "colab": {
          "base_uri": "https://localhost:8080/"
        },
        "id": "RfsHODJRptkq",
        "outputId": "6d1d79aa-7005-470a-d65c-62ede1fa6eed"
      },
      "source": [
        "random.seed(17)\n",
        "\n",
        "time = torch.tensor(np.arange(0, length, STEP))\n",
        "sine = torch.sin(time)\n",
        "cosine = torch.cos(time)\n",
        "\n",
        "multiplier = 1\n",
        "error = []\n",
        "for elems in enumerate(sine):\n",
        "  ind = elems[0]\n",
        "  if ind % 100 == 0:  # 628 ~= 2*PI\n",
        "    multiplier = round(random.uniform(1.0, 5.0), 2)\n",
        "  error.append(sine[ind] - (cosine[ind] * multiplier))\n",
        "\n",
        "print(length, len(error))\n",
        "print('SIZE =', SIZE)"
      ],
      "execution_count": null,
      "outputs": [
        {
          "output_type": "stream",
          "name": "stdout",
          "text": [
            "0.5 10\n",
            "SIZE = 5\n"
          ]
        }
      ]
    },
    {
      "cell_type": "code",
      "metadata": {
        "id": "ewLehUsUqCDF"
      },
      "source": [
        "from scipy.signal import savgol_filter\n",
        "\n",
        "error_smooth = savgol_filter(error, 51, 1) # window size & polynomial order"
      ],
      "execution_count": null,
      "outputs": []
    },
    {
      "cell_type": "code",
      "metadata": {
        "colab": {
          "base_uri": "https://localhost:8080/",
          "height": 282
        },
        "id": "DKK2taTfpxg0",
        "outputId": "593e30ab-1703-4e86-a963-95ab7b605dc9"
      },
      "source": [
        "plt.plot(sine, 'r', label='sine')\n",
        "plt.plot(cosine, 'b', label='cosine')\n",
        "plt.plot(error, 'g', label='error')\n",
        "# plt.plot(error_smooth, 'y', label='error SMOOTH')\n",
        "\n",
        "plt.vlines(length * 9 // 10 // STEP, ymin=np.array(error).min(), ymax=np.array(error).max(), colors='m')\n",
        "plt.rcParams[\"figure.figsize\"] = (20, 10)\n",
        "plt.grid()\n",
        "plt.legend()\n",
        "\n",
        "# assign the smoothed sine wave to the error so it can work with it\n",
        "# error = error_smooth"
      ],
      "execution_count": null,
      "outputs": [
        {
          "output_type": "execute_result",
          "data": {
            "text/plain": [
              "<matplotlib.legend.Legend at 0x7f3ee0092e90>"
            ]
          },
          "metadata": {},
          "execution_count": 5
        },
        {
          "output_type": "display_data",
          "data": {
            "image/png": "[encoded data removed]",
            "text/plain": [
              "<Figure size 432x288 with 1 Axes>"
            ]
          },
          "metadata": {
            "needs_background": "light"
          }
        }
      ]
    }
  ]
}